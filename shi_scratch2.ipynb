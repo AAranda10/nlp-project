{
 "cells": [
  {
   "cell_type": "code",
   "execution_count": 1,
   "metadata": {},
   "outputs": [],
   "source": [
    "# Import libraries\n",
    "\n",
    "import numpy as np\n",
    "import pandas as pd\n",
    "import matplotlib.pyplot as plt\n",
    "import seaborn as sns\n",
    "\n",
    "import unicodedata\n",
    "import re\n",
    "import nltk\n",
    "from nltk.tokenize.toktok import ToktokTokenizer\n",
    "from nltk.corpus import stopwords\n",
    "\n",
    "import os\n",
    "import json\n",
    "from typing import Dict, List, Optional, Union, cast\n",
    "import requests\n",
    "\n",
    "from sklearn.model_selection import train_test_split\n",
    "from sklearn.feature_extraction.text import TfidfVectorizer\n",
    "from sklearn.feature_extraction.text import CountVectorizer\n",
    "from sklearn.naive_bayes import GaussianNB\n",
    "from sklearn.metrics import confusion_matrix, classification_report\n",
    "from sklearn.linear_model import LogisticRegression\n",
    "from sklearn.preprocessing import PolynomialFeatures\n",
    "from sklearn.model_selection import cross_val_score\n",
    "\n",
    "from env import github_token, github_username\n",
    "import acquire, prep, model"
   ]
  },
  {
   "cell_type": "code",
   "execution_count": 2,
   "metadata": {},
   "outputs": [],
   "source": [
    "# plotting defaults\n",
    "\n",
    "plt.rc('figure', figsize=(13, 7))\n",
    "plt.style.use('seaborn-whitegrid')\n",
    "plt.rc('font', size=16)"
   ]
  },
  {
   "cell_type": "markdown",
   "metadata": {},
   "source": [
    "## Acquire FreeCodeCamp README Dataset"
   ]
  },
  {
   "cell_type": "code",
   "execution_count": 3,
   "metadata": {
    "scrolled": false
   },
   "outputs": [
    {
     "data": {
      "text/plain": [
       "((105, 3), (36, 3))"
      ]
     },
     "execution_count": 3,
     "metadata": {},
     "output_type": "execute_result"
    }
   ],
   "source": [
    "# Load the data from json file\n",
    "df = pd.read_json('data.json') # dataframe containing original 105 readmes\n",
    "df1 = pd.read_json('test_data.json') # dataframe containing extra 36 readmes\n",
    "\n",
    "# Print the shape of the df\n",
    "df.shape, df1.shape"
   ]
  },
  {
   "cell_type": "code",
   "execution_count": 4,
   "metadata": {},
   "outputs": [
    {
     "data": {
      "text/html": [
       "<div>\n",
       "<style scoped>\n",
       "    .dataframe tbody tr th:only-of-type {\n",
       "        vertical-align: middle;\n",
       "    }\n",
       "\n",
       "    .dataframe tbody tr th {\n",
       "        vertical-align: top;\n",
       "    }\n",
       "\n",
       "    .dataframe thead th {\n",
       "        text-align: right;\n",
       "    }\n",
       "</style>\n",
       "<table border=\"1\" class=\"dataframe\">\n",
       "  <thead>\n",
       "    <tr style=\"text-align: right;\">\n",
       "      <th></th>\n",
       "      <th>repo</th>\n",
       "      <th>language</th>\n",
       "      <th>readme_contents</th>\n",
       "    </tr>\n",
       "  </thead>\n",
       "  <tbody>\n",
       "    <tr>\n",
       "      <th>0</th>\n",
       "      <td>freeCodeCamp/chapter</td>\n",
       "      <td>TypeScript</td>\n",
       "      <td># Welcome to Chapter\\n[![All Contributors](htt...</td>\n",
       "    </tr>\n",
       "    <tr>\n",
       "      <th>1</th>\n",
       "      <td>freeCodeCamp/freeCodeCamp</td>\n",
       "      <td>JavaScript</td>\n",
       "      <td>![freeCodeCamp.org Social Banner](https://s3.a...</td>\n",
       "    </tr>\n",
       "  </tbody>\n",
       "</table>\n",
       "</div>"
      ],
      "text/plain": [
       "                        repo    language  \\\n",
       "0       freeCodeCamp/chapter  TypeScript   \n",
       "1  freeCodeCamp/freeCodeCamp  JavaScript   \n",
       "\n",
       "                                     readme_contents  \n",
       "0  # Welcome to Chapter\\n[![All Contributors](htt...  \n",
       "1  ![freeCodeCamp.org Social Banner](https://s3.a...  "
      ]
     },
     "execution_count": 4,
     "metadata": {},
     "output_type": "execute_result"
    }
   ],
   "source": [
    "# Take a peek at the train/validate dataset\n",
    "df.head(2)"
   ]
  },
  {
   "cell_type": "code",
   "execution_count": 5,
   "metadata": {},
   "outputs": [
    {
     "data": {
      "text/html": [
       "<div>\n",
       "<style scoped>\n",
       "    .dataframe tbody tr th:only-of-type {\n",
       "        vertical-align: middle;\n",
       "    }\n",
       "\n",
       "    .dataframe tbody tr th {\n",
       "        vertical-align: top;\n",
       "    }\n",
       "\n",
       "    .dataframe thead th {\n",
       "        text-align: right;\n",
       "    }\n",
       "</style>\n",
       "<table border=\"1\" class=\"dataframe\">\n",
       "  <thead>\n",
       "    <tr style=\"text-align: right;\">\n",
       "      <th></th>\n",
       "      <th>repo</th>\n",
       "      <th>language</th>\n",
       "      <th>readme_contents</th>\n",
       "    </tr>\n",
       "  </thead>\n",
       "  <tbody>\n",
       "    <tr>\n",
       "      <th>0</th>\n",
       "      <td>freeCodeCamp/privacy-policy</td>\n",
       "      <td>CSS</td>\n",
       "      <td>&gt; ### This page is now archived and managed in...</td>\n",
       "    </tr>\n",
       "    <tr>\n",
       "      <th>1</th>\n",
       "      <td>freeCodeCamp/code-of-conduct</td>\n",
       "      <td>CSS</td>\n",
       "      <td>&gt; ### This page is now archived and managed in...</td>\n",
       "    </tr>\n",
       "  </tbody>\n",
       "</table>\n",
       "</div>"
      ],
      "text/plain": [
       "                           repo language  \\\n",
       "0   freeCodeCamp/privacy-policy      CSS   \n",
       "1  freeCodeCamp/code-of-conduct      CSS   \n",
       "\n",
       "                                     readme_contents  \n",
       "0  > ### This page is now archived and managed in...  \n",
       "1  > ### This page is now archived and managed in...  "
      ]
     },
     "execution_count": 5,
     "metadata": {},
     "output_type": "execute_result"
    }
   ],
   "source": [
    "# Take a peek at the test dataset\n",
    "df1.head(2)"
   ]
  },
  {
   "cell_type": "code",
   "execution_count": 6,
   "metadata": {},
   "outputs": [
    {
     "name": "stdout",
     "output_type": "stream",
     "text": [
      "(141, 3)\n"
     ]
    },
    {
     "data": {
      "text/html": [
       "<div>\n",
       "<style scoped>\n",
       "    .dataframe tbody tr th:only-of-type {\n",
       "        vertical-align: middle;\n",
       "    }\n",
       "\n",
       "    .dataframe tbody tr th {\n",
       "        vertical-align: top;\n",
       "    }\n",
       "\n",
       "    .dataframe thead th {\n",
       "        text-align: right;\n",
       "    }\n",
       "</style>\n",
       "<table border=\"1\" class=\"dataframe\">\n",
       "  <thead>\n",
       "    <tr style=\"text-align: right;\">\n",
       "      <th></th>\n",
       "      <th>repo</th>\n",
       "      <th>language</th>\n",
       "      <th>readme_contents</th>\n",
       "    </tr>\n",
       "  </thead>\n",
       "  <tbody>\n",
       "    <tr>\n",
       "      <th>0</th>\n",
       "      <td>freeCodeCamp/chapter</td>\n",
       "      <td>TypeScript</td>\n",
       "      <td># Welcome to Chapter\\n[![All Contributors](htt...</td>\n",
       "    </tr>\n",
       "    <tr>\n",
       "      <th>1</th>\n",
       "      <td>freeCodeCamp/freeCodeCamp</td>\n",
       "      <td>JavaScript</td>\n",
       "      <td>![freeCodeCamp.org Social Banner](https://s3.a...</td>\n",
       "    </tr>\n",
       "    <tr>\n",
       "      <th>2</th>\n",
       "      <td>freeCodeCamp/nginx-config</td>\n",
       "      <td>None</td>\n",
       "      <td># nginx-config\\n\\nConfig for our NGINX instanc...</td>\n",
       "    </tr>\n",
       "    <tr>\n",
       "      <th>3</th>\n",
       "      <td>freeCodeCamp/chat-config</td>\n",
       "      <td>HTML</td>\n",
       "      <td>Usage:\\n\\n1. Create a .env\\n\\n   ```txt\\n   RO...</td>\n",
       "    </tr>\n",
       "    <tr>\n",
       "      <th>4</th>\n",
       "      <td>freeCodeCamp/devdocs</td>\n",
       "      <td>Ruby</td>\n",
       "      <td># [DevDocs](https://devdocs.io) — API Document...</td>\n",
       "    </tr>\n",
       "  </tbody>\n",
       "</table>\n",
       "</div>"
      ],
      "text/plain": [
       "                        repo    language  \\\n",
       "0       freeCodeCamp/chapter  TypeScript   \n",
       "1  freeCodeCamp/freeCodeCamp  JavaScript   \n",
       "2  freeCodeCamp/nginx-config        None   \n",
       "3   freeCodeCamp/chat-config        HTML   \n",
       "4       freeCodeCamp/devdocs        Ruby   \n",
       "\n",
       "                                     readme_contents  \n",
       "0  # Welcome to Chapter\\n[![All Contributors](htt...  \n",
       "1  ![freeCodeCamp.org Social Banner](https://s3.a...  \n",
       "2  # nginx-config\\n\\nConfig for our NGINX instanc...  \n",
       "3  Usage:\\n\\n1. Create a .env\\n\\n   ```txt\\n   RO...  \n",
       "4  # [DevDocs](https://devdocs.io) — API Document...  "
      ]
     },
     "execution_count": 6,
     "metadata": {},
     "output_type": "execute_result"
    }
   ],
   "source": [
    "# Merge the two dataframe together\n",
    "df = pd.concat([df, df1], axis=0, ignore_index=True)\n",
    "\n",
    "# Print the shape\n",
    "print(df.shape)\n",
    "\n",
    "# Take a peek at the df\n",
    "df.head()"
   ]
  },
  {
   "cell_type": "code",
   "execution_count": 7,
   "metadata": {},
   "outputs": [
    {
     "name": "stdout",
     "output_type": "stream",
     "text": [
      "<class 'pandas.core.frame.DataFrame'>\n",
      "RangeIndex: 141 entries, 0 to 140\n",
      "Data columns (total 3 columns):\n",
      " #   Column           Non-Null Count  Dtype \n",
      "---  ------           --------------  ----- \n",
      " 0   repo             141 non-null    object\n",
      " 1   language         133 non-null    object\n",
      " 2   readme_contents  132 non-null    object\n",
      "dtypes: object(3)\n",
      "memory usage: 3.4+ KB\n"
     ]
    }
   ],
   "source": [
    "# Quick summarize df\n",
    "df.info()"
   ]
  },
  {
   "cell_type": "markdown",
   "metadata": {},
   "source": [
    "**Takeaways**\n",
    "- Missing values are found in the columns 'language' and 'readme_contents'.\n",
    "- We decide to drop the records with missing values. "
   ]
  },
  {
   "cell_type": "markdown",
   "metadata": {},
   "source": [
    "## Wrangle README Datasets"
   ]
  },
  {
   "cell_type": "code",
   "execution_count": 8,
   "metadata": {},
   "outputs": [
    {
     "data": {
      "text/plain": [
       "(125, 3)"
      ]
     },
     "execution_count": 8,
     "metadata": {},
     "output_type": "execute_result"
    }
   ],
   "source": [
    "# Drop the missing values\n",
    "df = df.dropna()\n",
    "\n",
    "# Print the shape of the df\n",
    "df.shape"
   ]
  },
  {
   "cell_type": "code",
   "execution_count": 9,
   "metadata": {},
   "outputs": [
    {
     "data": {
      "text/plain": [
       "(125, 6)"
      ]
     },
     "execution_count": 9,
     "metadata": {},
     "output_type": "execute_result"
    }
   ],
   "source": [
    "# Clean the text by helper function\n",
    "# Exlude words: 'freecodecamp', 'repository', 'run', 'test', 'use', 'using'\n",
    "\n",
    "df = prep.prep_data(df, 'readme_contents', \n",
    "                    extra_words=['freecodecamp', 'repository', 'run', 'test', 'use', 'using'],\n",
    "                    exclude_words=[])\n",
    "# Print the shape\n",
    "df.shape"
   ]
  },
  {
   "cell_type": "code",
   "execution_count": 10,
   "metadata": {},
   "outputs": [
    {
     "name": "stdout",
     "output_type": "stream",
     "text": [
      "<class 'pandas.core.frame.DataFrame'>\n",
      "Int64Index: 125 entries, 0 to 140\n",
      "Data columns (total 6 columns):\n",
      " #   Column           Non-Null Count  Dtype \n",
      "---  ------           --------------  ----- \n",
      " 0   repo             125 non-null    object\n",
      " 1   language         125 non-null    object\n",
      " 2   readme_contents  125 non-null    object\n",
      " 3   stemmed          125 non-null    object\n",
      " 4   lemmatized       125 non-null    object\n",
      " 5   clean            125 non-null    object\n",
      "dtypes: object(6)\n",
      "memory usage: 6.8+ KB\n"
     ]
    }
   ],
   "source": [
    "# Quick summarize dataset\n",
    "df.info()"
   ]
  },
  {
   "cell_type": "markdown",
   "metadata": {},
   "source": [
    "## Quick Exploration\n",
    "- Detailed Exploration could be find in the autin_scratch.ipynb"
   ]
  },
  {
   "cell_type": "code",
   "execution_count": 14,
   "metadata": {},
   "outputs": [
    {
     "data": {
      "text/html": [
       "<div>\n",
       "<style scoped>\n",
       "    .dataframe tbody tr th:only-of-type {\n",
       "        vertical-align: middle;\n",
       "    }\n",
       "\n",
       "    .dataframe tbody tr th {\n",
       "        vertical-align: top;\n",
       "    }\n",
       "\n",
       "    .dataframe thead th {\n",
       "        text-align: right;\n",
       "    }\n",
       "</style>\n",
       "<table border=\"1\" class=\"dataframe\">\n",
       "  <thead>\n",
       "    <tr style=\"text-align: right;\">\n",
       "      <th></th>\n",
       "      <th>language</th>\n",
       "      <th>language</th>\n",
       "    </tr>\n",
       "  </thead>\n",
       "  <tbody>\n",
       "    <tr>\n",
       "      <th>JavaScript</th>\n",
       "      <td>74</td>\n",
       "      <td>0.592</td>\n",
       "    </tr>\n",
       "    <tr>\n",
       "      <th>Python</th>\n",
       "      <td>14</td>\n",
       "      <td>0.112</td>\n",
       "    </tr>\n",
       "    <tr>\n",
       "      <th>HTML</th>\n",
       "      <td>13</td>\n",
       "      <td>0.104</td>\n",
       "    </tr>\n",
       "    <tr>\n",
       "      <th>CSS</th>\n",
       "      <td>12</td>\n",
       "      <td>0.096</td>\n",
       "    </tr>\n",
       "    <tr>\n",
       "      <th>Shell</th>\n",
       "      <td>3</td>\n",
       "      <td>0.024</td>\n",
       "    </tr>\n",
       "    <tr>\n",
       "      <th>TypeScript</th>\n",
       "      <td>3</td>\n",
       "      <td>0.024</td>\n",
       "    </tr>\n",
       "    <tr>\n",
       "      <th>Ruby</th>\n",
       "      <td>2</td>\n",
       "      <td>0.016</td>\n",
       "    </tr>\n",
       "    <tr>\n",
       "      <th>R</th>\n",
       "      <td>2</td>\n",
       "      <td>0.016</td>\n",
       "    </tr>\n",
       "    <tr>\n",
       "      <th>SCSS</th>\n",
       "      <td>1</td>\n",
       "      <td>0.008</td>\n",
       "    </tr>\n",
       "    <tr>\n",
       "      <th>Handlebars</th>\n",
       "      <td>1</td>\n",
       "      <td>0.008</td>\n",
       "    </tr>\n",
       "  </tbody>\n",
       "</table>\n",
       "</div>"
      ],
      "text/plain": [
       "            language  language\n",
       "JavaScript        74     0.592\n",
       "Python            14     0.112\n",
       "HTML              13     0.104\n",
       "CSS               12     0.096\n",
       "Shell              3     0.024\n",
       "TypeScript         3     0.024\n",
       "Ruby               2     0.016\n",
       "R                  2     0.016\n",
       "SCSS               1     0.008\n",
       "Handlebars         1     0.008"
      ]
     },
     "execution_count": 14,
     "metadata": {},
     "output_type": "execute_result"
    }
   ],
   "source": [
    "# Compute the relative frequency in each language in train/validate\n",
    "pd.concat([df.language.value_counts(), \n",
    "           df.language.value_counts(normalize=True)], axis=1)"
   ]
  },
  {
   "cell_type": "code",
   "execution_count": 13,
   "metadata": {},
   "outputs": [
    {
     "data": {
      "image/png": "[encoded data removed]",
      "text/plain": [
       "<Figure size 936x504 with 1 Axes>"
      ]
     },
     "metadata": {},
     "output_type": "display_data"
    }
   ],
   "source": [
    "# Viz the distribution of the languages in train/validate\n",
    "\n",
    "df.language.value_counts().plot(kind='bar', rot=1)\n",
    "plt.title('Group the READMEs by the languages they use')\n",
    "plt.show()"
   ]
  },
  {
   "cell_type": "markdown",
   "metadata": {},
   "source": [
    "**Takeaways**\n",
    "- Nearly 60% of the languages written in test are JavaScript. \n",
    "- We decide to perform a binary classification: to predict the languages that the repo uses is JavaScript or not. "
   ]
  },
  {
   "cell_type": "markdown",
   "metadata": {},
   "source": [
    "## Additional Wrangling"
   ]
  },
  {
   "cell_type": "code",
   "execution_count": 15,
   "metadata": {},
   "outputs": [],
   "source": [
    "# Convert languages into js or not\n",
    "df.language = df.language.apply(lambda i: 'js' if i == 'JavaScript' else 'other')"
   ]
  },
  {
   "cell_type": "code",
   "execution_count": 16,
   "metadata": {},
   "outputs": [
    {
     "data": {
      "text/html": [
       "<div>\n",
       "<style scoped>\n",
       "    .dataframe tbody tr th:only-of-type {\n",
       "        vertical-align: middle;\n",
       "    }\n",
       "\n",
       "    .dataframe tbody tr th {\n",
       "        vertical-align: top;\n",
       "    }\n",
       "\n",
       "    .dataframe thead th {\n",
       "        text-align: right;\n",
       "    }\n",
       "</style>\n",
       "<table border=\"1\" class=\"dataframe\">\n",
       "  <thead>\n",
       "    <tr style=\"text-align: right;\">\n",
       "      <th></th>\n",
       "      <th>repo</th>\n",
       "      <th>language</th>\n",
       "      <th>readme_contents</th>\n",
       "      <th>stemmed</th>\n",
       "      <th>lemmatized</th>\n",
       "      <th>clean</th>\n",
       "    </tr>\n",
       "  </thead>\n",
       "  <tbody>\n",
       "    <tr>\n",
       "      <th>0</th>\n",
       "      <td>freeCodeCamp/chapter</td>\n",
       "      <td>other</td>\n",
       "      <td># Welcome to Chapter\\n[![All Contributors](htt...</td>\n",
       "      <td>welcom to chapter all contributorshttpsimgshie...</td>\n",
       "      <td>welcome to chapter all contributorshttpsimgshi...</td>\n",
       "      <td>welcome chapter contributorshttpsimgshieldsiob...</td>\n",
       "    </tr>\n",
       "    <tr>\n",
       "      <th>1</th>\n",
       "      <td>freeCodeCamp/freeCodeCamp</td>\n",
       "      <td>js</td>\n",
       "      <td>![freeCodeCamp.org Social Banner](https://s3.a...</td>\n",
       "      <td>freecodecamporg social bannerhttpss3amazonawsc...</td>\n",
       "      <td>freecodecamporg social bannerhttpss3amazonawsc...</td>\n",
       "      <td>freecodecamporg social bannerhttpss3amazonawsc...</td>\n",
       "    </tr>\n",
       "  </tbody>\n",
       "</table>\n",
       "</div>"
      ],
      "text/plain": [
       "                        repo language  \\\n",
       "0       freeCodeCamp/chapter    other   \n",
       "1  freeCodeCamp/freeCodeCamp       js   \n",
       "\n",
       "                                     readme_contents  \\\n",
       "0  # Welcome to Chapter\\n[![All Contributors](htt...   \n",
       "1  ![freeCodeCamp.org Social Banner](https://s3.a...   \n",
       "\n",
       "                                             stemmed  \\\n",
       "0  welcom to chapter all contributorshttpsimgshie...   \n",
       "1  freecodecamporg social bannerhttpss3amazonawsc...   \n",
       "\n",
       "                                          lemmatized  \\\n",
       "0  welcome to chapter all contributorshttpsimgshi...   \n",
       "1  freecodecamporg social bannerhttpss3amazonawsc...   \n",
       "\n",
       "                                               clean  \n",
       "0  welcome chapter contributorshttpsimgshieldsiob...  \n",
       "1  freecodecamporg social bannerhttpss3amazonawsc...  "
      ]
     },
     "execution_count": 16,
     "metadata": {},
     "output_type": "execute_result"
    }
   ],
   "source": [
    "# Take a peek at the df\n",
    "df.head(2)"
   ]
  },
  {
   "cell_type": "code",
   "execution_count": 17,
   "metadata": {
    "scrolled": true
   },
   "outputs": [],
   "source": [
    "# Add column words\n",
    "df['words'] = [re.sub(r'([^a-z0-9\\s]|\\s.\\s)', '', doc)\\\n",
    "               .split() for doc in df.lemmatized]"
   ]
  },
  {
   "cell_type": "code",
   "execution_count": 18,
   "metadata": {},
   "outputs": [],
   "source": [
    "# Drop the column repo\n",
    "df.drop(columns = ['repo', 'stemmed'], inplace=True)"
   ]
  },
  {
   "cell_type": "code",
   "execution_count": 19,
   "metadata": {
    "scrolled": true
   },
   "outputs": [],
   "source": [
    "# Rename the columns\n",
    "df.columns = ['label', 'text', 'lemmatized', 'clean', 'words']"
   ]
  },
  {
   "cell_type": "code",
   "execution_count": 20,
   "metadata": {},
   "outputs": [
    {
     "data": {
      "text/html": [
       "<div>\n",
       "<style scoped>\n",
       "    .dataframe tbody tr th:only-of-type {\n",
       "        vertical-align: middle;\n",
       "    }\n",
       "\n",
       "    .dataframe tbody tr th {\n",
       "        vertical-align: top;\n",
       "    }\n",
       "\n",
       "    .dataframe thead th {\n",
       "        text-align: right;\n",
       "    }\n",
       "</style>\n",
       "<table border=\"1\" class=\"dataframe\">\n",
       "  <thead>\n",
       "    <tr style=\"text-align: right;\">\n",
       "      <th></th>\n",
       "      <th>label</th>\n",
       "      <th>text</th>\n",
       "      <th>lemmatized</th>\n",
       "      <th>clean</th>\n",
       "      <th>words</th>\n",
       "    </tr>\n",
       "  </thead>\n",
       "  <tbody>\n",
       "    <tr>\n",
       "      <th>0</th>\n",
       "      <td>other</td>\n",
       "      <td># Welcome to Chapter\\n[![All Contributors](htt...</td>\n",
       "      <td>welcome to chapter all contributorshttpsimgshi...</td>\n",
       "      <td>welcome chapter contributorshttpsimgshieldsiob...</td>\n",
       "      <td>[welcome, to, chapter, all, contributorshttpsi...</td>\n",
       "    </tr>\n",
       "    <tr>\n",
       "      <th>1</th>\n",
       "      <td>js</td>\n",
       "      <td>![freeCodeCamp.org Social Banner](https://s3.a...</td>\n",
       "      <td>freecodecamporg social bannerhttpss3amazonawsc...</td>\n",
       "      <td>freecodecamporg social bannerhttpss3amazonawsc...</td>\n",
       "      <td>[freecodecamporg, social, bannerhttpss3amazona...</td>\n",
       "    </tr>\n",
       "  </tbody>\n",
       "</table>\n",
       "</div>"
      ],
      "text/plain": [
       "   label                                               text  \\\n",
       "0  other  # Welcome to Chapter\\n[![All Contributors](htt...   \n",
       "1     js  ![freeCodeCamp.org Social Banner](https://s3.a...   \n",
       "\n",
       "                                          lemmatized  \\\n",
       "0  welcome to chapter all contributorshttpsimgshi...   \n",
       "1  freecodecamporg social bannerhttpss3amazonawsc...   \n",
       "\n",
       "                                               clean  \\\n",
       "0  welcome chapter contributorshttpsimgshieldsiob...   \n",
       "1  freecodecamporg social bannerhttpss3amazonawsc...   \n",
       "\n",
       "                                               words  \n",
       "0  [welcome, to, chapter, all, contributorshttpsi...  \n",
       "1  [freecodecamporg, social, bannerhttpss3amazona...  "
      ]
     },
     "execution_count": 20,
     "metadata": {},
     "output_type": "execute_result"
    }
   ],
   "source": [
    "# Take a peek at the df1\n",
    "df.head(2)"
   ]
  },
  {
   "cell_type": "markdown",
   "metadata": {},
   "source": [
    "## Modeling\n",
    "### Goal: to predict the language used for the repo is JavaScript or not (binary classification)."
   ]
  },
  {
   "cell_type": "code",
   "execution_count": 23,
   "metadata": {},
   "outputs": [],
   "source": [
    "# Split df into train and validate and create the test dataset\n",
    "\n",
    "train_validate, test = train_test_split(df[['label', 'clean']], \n",
    "                                        stratify=df.label, \n",
    "                                        test_size=.1,\n",
    "                                        random_state=123)\n",
    "\n",
    "train, validate = train_test_split(train_validate[['label', 'clean']], \n",
    "                                   stratify=train_validate.label, \n",
    "                                   test_size=.1,\n",
    "                                   random_state=123)"
   ]
  },
  {
   "cell_type": "code",
   "execution_count": 22,
   "metadata": {
    "scrolled": true
   },
   "outputs": [
    {
     "name": "stdout",
     "output_type": "stream",
     "text": [
      "js       59\n",
      "other    41\n",
      "Name: label, dtype: int64\n",
      "js       7\n",
      "other    5\n",
      "Name: label, dtype: int64\n",
      "js       8\n",
      "other    5\n",
      "Name: label, dtype: int64\n"
     ]
    },
    {
     "data": {
      "text/html": [
       "<div>\n",
       "<style scoped>\n",
       "    .dataframe tbody tr th:only-of-type {\n",
       "        vertical-align: middle;\n",
       "    }\n",
       "\n",
       "    .dataframe tbody tr th {\n",
       "        vertical-align: top;\n",
       "    }\n",
       "\n",
       "    .dataframe thead th {\n",
       "        text-align: right;\n",
       "    }\n",
       "</style>\n",
       "<table border=\"1\" class=\"dataframe\">\n",
       "  <thead>\n",
       "    <tr style=\"text-align: right;\">\n",
       "      <th></th>\n",
       "      <th>label</th>\n",
       "      <th>clean</th>\n",
       "    </tr>\n",
       "  </thead>\n",
       "  <tbody>\n",
       "    <tr>\n",
       "      <th>30</th>\n",
       "      <td>js</td>\n",
       "      <td>sudoku solverhttpswwwfreecodecamporglearnquali...</td>\n",
       "    </tr>\n",
       "    <tr>\n",
       "      <th>72</th>\n",
       "      <td>js</td>\n",
       "      <td>mongodbstatsd fetch metric multiple mongodb se...</td>\n",
       "    </tr>\n",
       "    <tr>\n",
       "      <th>53</th>\n",
       "      <td>other</td>\n",
       "      <td>assignment create port scanner python port_sca...</td>\n",
       "    </tr>\n",
       "    <tr>\n",
       "      <th>13</th>\n",
       "      <td>js</td>\n",
       "      <td>ghost configs redirects routing</td>\n",
       "    </tr>\n",
       "    <tr>\n",
       "      <th>54</th>\n",
       "      <td>other</td>\n",
       "      <td>assignment challenge create program play rock ...</td>\n",
       "    </tr>\n",
       "  </tbody>\n",
       "</table>\n",
       "</div>"
      ],
      "text/plain": [
       "    label                                              clean\n",
       "30     js  sudoku solverhttpswwwfreecodecamporglearnquali...\n",
       "72     js  mongodbstatsd fetch metric multiple mongodb se...\n",
       "53  other  assignment create port scanner python port_sca...\n",
       "13     js                    ghost configs redirects routing\n",
       "54  other  assignment challenge create program play rock ..."
      ]
     },
     "execution_count": 22,
     "metadata": {},
     "output_type": "execute_result"
    }
   ],
   "source": [
    "# Print the \n",
    "\n",
    "print(train.label.value_counts())\n",
    "print(validate.label.value_counts())\n",
    "print(test.label.value_counts())\n",
    "train.head()"
   ]
  },
  {
   "cell_type": "markdown",
   "metadata": {},
   "source": [
    "#### Compute the baseline accuracy"
   ]
  },
  {
   "cell_type": "code",
   "execution_count": 24,
   "metadata": {},
   "outputs": [
    {
     "data": {
      "text/html": [
       "<div>\n",
       "<style scoped>\n",
       "    .dataframe tbody tr th:only-of-type {\n",
       "        vertical-align: middle;\n",
       "    }\n",
       "\n",
       "    .dataframe tbody tr th {\n",
       "        vertical-align: top;\n",
       "    }\n",
       "\n",
       "    .dataframe thead th {\n",
       "        text-align: right;\n",
       "    }\n",
       "</style>\n",
       "<table border=\"1\" class=\"dataframe\">\n",
       "  <thead>\n",
       "    <tr style=\"text-align: right;\">\n",
       "      <th></th>\n",
       "      <th>n</th>\n",
       "      <th>percent</th>\n",
       "    </tr>\n",
       "  </thead>\n",
       "  <tbody>\n",
       "    <tr>\n",
       "      <th>js</th>\n",
       "      <td>59</td>\n",
       "      <td>0.59</td>\n",
       "    </tr>\n",
       "    <tr>\n",
       "      <th>other</th>\n",
       "      <td>41</td>\n",
       "      <td>0.41</td>\n",
       "    </tr>\n",
       "  </tbody>\n",
       "</table>\n",
       "</div>"
      ],
      "text/plain": [
       "        n  percent\n",
       "js     59     0.59\n",
       "other  41     0.41"
      ]
     },
     "execution_count": 24,
     "metadata": {},
     "output_type": "execute_result"
    }
   ],
   "source": [
    "labels = pd.concat([train.label.value_counts(), # get total counts of js vs other\n",
    "                    train.label.value_counts(normalize=True)], axis=1) # getting the prop of js vs other\n",
    "labels.columns = ['n', 'percent']\n",
    "labels"
   ]
  },
  {
   "cell_type": "markdown",
   "metadata": {},
   "source": [
    "**Takeaway**:\n",
    "- The baseline accuracy is 59%. "
   ]
  },
  {
   "cell_type": "markdown",
   "metadata": {},
   "source": [
    "### Feature Generation: Bag of Words"
   ]
  },
  {
   "cell_type": "code",
   "execution_count": 25,
   "metadata": {
    "scrolled": false
   },
   "outputs": [
    {
     "data": {
      "text/plain": [
       "['add',\n",
       " 'api',\n",
       " 'app',\n",
       " 'application',\n",
       " 'automatically',\n",
       " 'build',\n",
       " 'change',\n",
       " 'check',\n",
       " 'clone',\n",
       " 'code',\n",
       " 'contributing',\n",
       " 'copy',\n",
       " 'create',\n",
       " 'data',\n",
       " 'development',\n",
       " 'directory',\n",
       " 'environment',\n",
       " 'example',\n",
       " 'file',\n",
       " 'follow',\n",
       " 'following',\n",
       " 'function',\n",
       " 'git',\n",
       " 'github',\n",
       " 'help',\n",
       " 'install',\n",
       " 'instruction',\n",
       " 'issue',\n",
       " 'key',\n",
       " 'license',\n",
       " 'like',\n",
       " 'list',\n",
       " 'local',\n",
       " 'make',\n",
       " 'make sure',\n",
       " 'message',\n",
       " 'need',\n",
       " 'new',\n",
       " 'note',\n",
       " 'npm',\n",
       " 'npm install',\n",
       " 'number',\n",
       " 'open',\n",
       " 'page',\n",
       " 'project',\n",
       " 'pull',\n",
       " 'request',\n",
       " 'running',\n",
       " 'server',\n",
       " 'set',\n",
       " 'source',\n",
       " 'start',\n",
       " 'string',\n",
       " 'submit',\n",
       " 'sure',\n",
       " 'test',\n",
       " 'testing',\n",
       " 'time',\n",
       " 'unit',\n",
       " 'url',\n",
       " 'user',\n",
       " 'want',\n",
       " 'work']"
      ]
     },
     "execution_count": 25,
     "metadata": {},
     "output_type": "execute_result"
    }
   ],
   "source": [
    "# Create CountVectorizer, which create bag-of-words model.\n",
    "# stop_words : Specify language to remove stopwords. \n",
    "# min_df: ignore terms that have a document frequency strictly \n",
    "# lower than the given threshold. This value is also called cut-off in the literature. \n",
    "# If float, the parameter represents a proportion of documents, integer absolute counts. \n",
    "# ngram_range: the lower and upper boundary of the range of n-values for \n",
    "# different word n-grams or char n-grams to be extracted. \n",
    "\n",
    "vectorizer = CountVectorizer(stop_words='english', \n",
    "                             min_df=15, \n",
    "                             ngram_range=(1,2), \n",
    "                             binary=True)\n",
    "\n",
    "# Learn vocabulary in sentences. \n",
    "vectorizer.fit(train.clean)\n",
    "\n",
    "# Get dictionary. \n",
    "vectorizer.get_feature_names()"
   ]
  },
  {
   "cell_type": "code",
   "execution_count": 26,
   "metadata": {},
   "outputs": [],
   "source": [
    "# Transform each sentences in vector space\n",
    "\n",
    "X_train_bow = vectorizer.transform(train.clean)\n",
    "X_validate_bow = vectorizer.transform(validate.clean)\n",
    "X_test_bow = vectorizer.transform(test.clean)"
   ]
  },
  {
   "cell_type": "code",
   "execution_count": 27,
   "metadata": {},
   "outputs": [
    {
     "data": {
      "text/plain": [
       "array([0, 0, 0, 0, 0, 0, 0, 0, 0, 0, 0, 0, 0, 0, 0, 0, 0, 0, 0, 0, 0, 0,\n",
       "       0, 0, 0, 0, 0, 0, 0, 0, 0, 0, 0, 0, 0, 0, 0, 0, 0, 0, 0, 0, 0, 0,\n",
       "       0, 0, 0, 0, 0, 0, 0, 0, 0, 0, 0, 0, 0, 0, 0, 0, 0, 0, 0])"
      ]
     },
     "execution_count": 27,
     "metadata": {},
     "output_type": "execute_result"
    }
   ],
   "source": [
    "# this is just to see the array of 0's and 1's\n",
    "\n",
    "X_train_bowarray = X_train_bow.toarray()\n",
    "X_validate_bowarray = X_validate_bow.toarray()\n",
    "X_test_bowarray = X_test_bow.toarray()\n",
    "X_train_bowarray[0]"
   ]
  },
  {
   "cell_type": "code",
   "execution_count": 28,
   "metadata": {
    "scrolled": false
   },
   "outputs": [],
   "source": [
    "# # Show sentences and vector space representation.\n",
    "# # purely to visualize what's happening.\n",
    "# for i, v in zip(train.clean, bow_array):\n",
    "#     print(i)\n",
    "#     print(v)"
   ]
  },
  {
   "cell_type": "markdown",
   "metadata": {},
   "source": [
    "### Feature Generation: TF-IDF"
   ]
  },
  {
   "cell_type": "code",
   "execution_count": 29,
   "metadata": {},
   "outputs": [
    {
     "data": {
      "text/plain": [
       "{'server': 48,\n",
       " 'set': 49,\n",
       " 'create': 12,\n",
       " 'file': 18,\n",
       " 'function': 21,\n",
       " 'url': 59,\n",
       " 'list': 31,\n",
       " 'number': 41,\n",
       " 'check': 7,\n",
       " 'example': 17,\n",
       " 'open': 42,\n",
       " 'string': 52,\n",
       " 'like': 30,\n",
       " 'following': 20,\n",
       " 'make': 33,\n",
       " 'sure': 54,\n",
       " 'new': 37,\n",
       " 'development': 14,\n",
       " 'code': 9,\n",
       " 'testing': 56,\n",
       " 'unit': 58,\n",
       " 'test': 55,\n",
       " 'project': 44,\n",
       " 'automatically': 4,\n",
       " 'copy': 11,\n",
       " 'submit': 53,\n",
       " 'make sure': 34,\n",
       " 'time': 57,\n",
       " 'need': 36,\n",
       " 'want': 61,\n",
       " 'change': 6,\n",
       " 'message': 35,\n",
       " 'api': 1,\n",
       " 'build': 5,\n",
       " 'follow': 19,\n",
       " 'start': 51,\n",
       " 'work': 62,\n",
       " 'app': 2,\n",
       " 'git': 22,\n",
       " 'clone': 8,\n",
       " 'install': 25,\n",
       " 'request': 46,\n",
       " 'running': 47,\n",
       " 'note': 38,\n",
       " 'pull': 45,\n",
       " 'user': 60,\n",
       " 'source': 50,\n",
       " 'application': 3,\n",
       " 'local': 32,\n",
       " 'page': 43,\n",
       " 'data': 13,\n",
       " 'help': 24,\n",
       " 'instruction': 26,\n",
       " 'contributing': 10,\n",
       " 'add': 0,\n",
       " 'github': 23,\n",
       " 'license': 29,\n",
       " 'key': 28,\n",
       " 'npm': 39,\n",
       " 'environment': 16,\n",
       " 'issue': 27,\n",
       " 'npm install': 40,\n",
       " 'directory': 15}"
      ]
     },
     "execution_count": 29,
     "metadata": {},
     "output_type": "execute_result"
    }
   ],
   "source": [
    "# Transform the clean text into sparse matrix\n",
    "\n",
    "tfidf = TfidfVectorizer(stop_words='english', min_df=15, \n",
    "                        ngram_range=(1,2), \n",
    "                        binary=True)\n",
    "\n",
    "# Fit on cleaned text in train\n",
    "tfidf = tfidf.fit(train.clean)\n",
    "\n",
    "# Get vocabularies.\n",
    "tfidf.vocabulary_"
   ]
  },
  {
   "cell_type": "code",
   "execution_count": 30,
   "metadata": {},
   "outputs": [
    {
     "data": {
      "text/plain": [
       "<100x63 sparse matrix of type '<class 'numpy.float64'>'\n",
       "\twith 1381 stored elements in Compressed Sparse Row format>"
      ]
     },
     "execution_count": 30,
     "metadata": {},
     "output_type": "execute_result"
    }
   ],
   "source": [
    "# Transform the train and validate\n",
    "\n",
    "X_train_tfidf = tfidf.transform(train.clean)\n",
    "X_validate_tfidf = tfidf.transform(validate.clean)\n",
    "X_test_tfidf = tfidf.transform(test.clean)\n",
    "\n",
    "# Take a peek at \n",
    "X_train_tfidf"
   ]
  },
  {
   "cell_type": "code",
   "execution_count": 31,
   "metadata": {},
   "outputs": [
    {
     "data": {
      "text/html": [
       "<div>\n",
       "<style scoped>\n",
       "    .dataframe tbody tr th:only-of-type {\n",
       "        vertical-align: middle;\n",
       "    }\n",
       "\n",
       "    .dataframe tbody tr th {\n",
       "        vertical-align: top;\n",
       "    }\n",
       "\n",
       "    .dataframe thead th {\n",
       "        text-align: right;\n",
       "    }\n",
       "</style>\n",
       "<table border=\"1\" class=\"dataframe\">\n",
       "  <thead>\n",
       "    <tr style=\"text-align: right;\">\n",
       "      <th></th>\n",
       "      <th>add</th>\n",
       "      <th>api</th>\n",
       "      <th>app</th>\n",
       "      <th>application</th>\n",
       "      <th>automatically</th>\n",
       "      <th>build</th>\n",
       "      <th>change</th>\n",
       "      <th>check</th>\n",
       "      <th>clone</th>\n",
       "      <th>code</th>\n",
       "      <th>...</th>\n",
       "      <th>submit</th>\n",
       "      <th>sure</th>\n",
       "      <th>test</th>\n",
       "      <th>testing</th>\n",
       "      <th>time</th>\n",
       "      <th>unit</th>\n",
       "      <th>url</th>\n",
       "      <th>user</th>\n",
       "      <th>want</th>\n",
       "      <th>work</th>\n",
       "    </tr>\n",
       "  </thead>\n",
       "  <tbody>\n",
       "    <tr>\n",
       "      <th>0</th>\n",
       "      <td>0.0</td>\n",
       "      <td>0.0</td>\n",
       "      <td>0.0</td>\n",
       "      <td>0.0</td>\n",
       "      <td>0.000000</td>\n",
       "      <td>0.0</td>\n",
       "      <td>0.000000</td>\n",
       "      <td>0.000000</td>\n",
       "      <td>0.0</td>\n",
       "      <td>0.000000</td>\n",
       "      <td>...</td>\n",
       "      <td>0.000000</td>\n",
       "      <td>0.000000</td>\n",
       "      <td>0.000000</td>\n",
       "      <td>0.000000</td>\n",
       "      <td>0.000000</td>\n",
       "      <td>0.000000</td>\n",
       "      <td>0.000000</td>\n",
       "      <td>0.0</td>\n",
       "      <td>0.000000</td>\n",
       "      <td>0.0</td>\n",
       "    </tr>\n",
       "    <tr>\n",
       "      <th>1</th>\n",
       "      <td>0.0</td>\n",
       "      <td>0.0</td>\n",
       "      <td>0.0</td>\n",
       "      <td>0.0</td>\n",
       "      <td>0.000000</td>\n",
       "      <td>0.0</td>\n",
       "      <td>0.000000</td>\n",
       "      <td>0.000000</td>\n",
       "      <td>0.0</td>\n",
       "      <td>0.000000</td>\n",
       "      <td>...</td>\n",
       "      <td>0.000000</td>\n",
       "      <td>0.000000</td>\n",
       "      <td>0.000000</td>\n",
       "      <td>0.000000</td>\n",
       "      <td>0.000000</td>\n",
       "      <td>0.000000</td>\n",
       "      <td>0.000000</td>\n",
       "      <td>0.0</td>\n",
       "      <td>0.000000</td>\n",
       "      <td>0.0</td>\n",
       "    </tr>\n",
       "    <tr>\n",
       "      <th>2</th>\n",
       "      <td>0.0</td>\n",
       "      <td>0.0</td>\n",
       "      <td>0.0</td>\n",
       "      <td>0.0</td>\n",
       "      <td>0.203679</td>\n",
       "      <td>0.0</td>\n",
       "      <td>0.000000</td>\n",
       "      <td>0.200092</td>\n",
       "      <td>0.0</td>\n",
       "      <td>0.187153</td>\n",
       "      <td>...</td>\n",
       "      <td>0.215509</td>\n",
       "      <td>0.215509</td>\n",
       "      <td>0.178651</td>\n",
       "      <td>0.207433</td>\n",
       "      <td>0.000000</td>\n",
       "      <td>0.229377</td>\n",
       "      <td>0.190199</td>\n",
       "      <td>0.0</td>\n",
       "      <td>0.000000</td>\n",
       "      <td>0.0</td>\n",
       "    </tr>\n",
       "    <tr>\n",
       "      <th>3</th>\n",
       "      <td>0.0</td>\n",
       "      <td>0.0</td>\n",
       "      <td>0.0</td>\n",
       "      <td>0.0</td>\n",
       "      <td>0.000000</td>\n",
       "      <td>0.0</td>\n",
       "      <td>0.000000</td>\n",
       "      <td>0.000000</td>\n",
       "      <td>0.0</td>\n",
       "      <td>0.000000</td>\n",
       "      <td>...</td>\n",
       "      <td>0.000000</td>\n",
       "      <td>0.000000</td>\n",
       "      <td>0.000000</td>\n",
       "      <td>0.000000</td>\n",
       "      <td>0.000000</td>\n",
       "      <td>0.000000</td>\n",
       "      <td>0.000000</td>\n",
       "      <td>0.0</td>\n",
       "      <td>0.000000</td>\n",
       "      <td>0.0</td>\n",
       "    </tr>\n",
       "    <tr>\n",
       "      <th>4</th>\n",
       "      <td>0.0</td>\n",
       "      <td>0.0</td>\n",
       "      <td>0.0</td>\n",
       "      <td>0.0</td>\n",
       "      <td>0.217213</td>\n",
       "      <td>0.0</td>\n",
       "      <td>0.244618</td>\n",
       "      <td>0.000000</td>\n",
       "      <td>0.0</td>\n",
       "      <td>0.199590</td>\n",
       "      <td>...</td>\n",
       "      <td>0.229830</td>\n",
       "      <td>0.000000</td>\n",
       "      <td>0.190523</td>\n",
       "      <td>0.221217</td>\n",
       "      <td>0.213388</td>\n",
       "      <td>0.244618</td>\n",
       "      <td>0.202837</td>\n",
       "      <td>0.0</td>\n",
       "      <td>0.225415</td>\n",
       "      <td>0.0</td>\n",
       "    </tr>\n",
       "  </tbody>\n",
       "</table>\n",
       "<p>5 rows × 63 columns</p>\n",
       "</div>"
      ],
      "text/plain": [
       "   add  api  app  application  automatically  build    change     check  \\\n",
       "0  0.0  0.0  0.0          0.0       0.000000    0.0  0.000000  0.000000   \n",
       "1  0.0  0.0  0.0          0.0       0.000000    0.0  0.000000  0.000000   \n",
       "2  0.0  0.0  0.0          0.0       0.203679    0.0  0.000000  0.200092   \n",
       "3  0.0  0.0  0.0          0.0       0.000000    0.0  0.000000  0.000000   \n",
       "4  0.0  0.0  0.0          0.0       0.217213    0.0  0.244618  0.000000   \n",
       "\n",
       "   clone      code  ...    submit      sure      test   testing      time  \\\n",
       "0    0.0  0.000000  ...  0.000000  0.000000  0.000000  0.000000  0.000000   \n",
       "1    0.0  0.000000  ...  0.000000  0.000000  0.000000  0.000000  0.000000   \n",
       "2    0.0  0.187153  ...  0.215509  0.215509  0.178651  0.207433  0.000000   \n",
       "3    0.0  0.000000  ...  0.000000  0.000000  0.000000  0.000000  0.000000   \n",
       "4    0.0  0.199590  ...  0.229830  0.000000  0.190523  0.221217  0.213388   \n",
       "\n",
       "       unit       url  user      want  work  \n",
       "0  0.000000  0.000000   0.0  0.000000   0.0  \n",
       "1  0.000000  0.000000   0.0  0.000000   0.0  \n",
       "2  0.229377  0.190199   0.0  0.000000   0.0  \n",
       "3  0.000000  0.000000   0.0  0.000000   0.0  \n",
       "4  0.244618  0.202837   0.0  0.225415   0.0  \n",
       "\n",
       "[5 rows x 63 columns]"
      ]
     },
     "execution_count": 31,
     "metadata": {},
     "output_type": "execute_result"
    }
   ],
   "source": [
    "# Conver to datafame\n",
    "pd.DataFrame(X_train_tfidf.todense(), columns=tfidf.get_feature_names()).head()"
   ]
  },
  {
   "cell_type": "code",
   "execution_count": 32,
   "metadata": {
    "scrolled": false
   },
   "outputs": [],
   "source": [
    "# Transform to document-term matrix\n",
    "\n",
    "X_train_tfidfarray = X_train_tfidf.toarray()\n",
    "X_validate_tfidfarray = X_validate_tfidf.toarray()\n",
    "X_test_tfidfarray = X_test_tfidf.toarray()"
   ]
  },
  {
   "cell_type": "code",
   "execution_count": 33,
   "metadata": {
    "scrolled": false
   },
   "outputs": [],
   "source": [
    "# # Show sentences and vector space representation.\n",
    "# # \n",
    "# # (A, B) C\n",
    "# # A : Document Index\n",
    "# # B : Specific word-vector index\n",
    "# # C : TF-IDF score\n",
    "# for i, v in zip(train.clean, vector_spaces):\n",
    "#     print(i)\n",
    "#     print(v)"
   ]
  },
  {
   "cell_type": "markdown",
   "metadata": {},
   "source": [
    "### Model on Train using LogisticRegression"
   ]
  },
  {
   "cell_type": "code",
   "execution_count": 34,
   "metadata": {},
   "outputs": [],
   "source": [
    "# create our y datasets\n",
    "\n",
    "y_train = train['label']\n",
    "y_validate = validate['label']\n",
    "y_test = test['label']"
   ]
  },
  {
   "cell_type": "markdown",
   "metadata": {},
   "source": [
    "#### Using bow features"
   ]
  },
  {
   "cell_type": "code",
   "execution_count": 35,
   "metadata": {},
   "outputs": [],
   "source": [
    "# Create the LogisticRegressioin object and fit on train\n",
    "lm = LogisticRegression().fit(X_train_bow, y_train)\n",
    "\n",
    "# Predict the labels for the train\n",
    "y_pred = lm.predict(X_train_bow)"
   ]
  },
  {
   "cell_type": "code",
   "execution_count": 36,
   "metadata": {},
   "outputs": [
    {
     "data": {
      "text/plain": [
       "array([[55,  4],\n",
       "       [12, 29]])"
      ]
     },
     "execution_count": 36,
     "metadata": {},
     "output_type": "execute_result"
    }
   ],
   "source": [
    "# Compute the confusion matrix\n",
    "confusion_matrix(train.label, y_pred)"
   ]
  },
  {
   "cell_type": "code",
   "execution_count": 37,
   "metadata": {},
   "outputs": [
    {
     "name": "stdout",
     "output_type": "stream",
     "text": [
      "              precision    recall  f1-score   support\n",
      "\n",
      "          js       0.82      0.93      0.87        59\n",
      "       other       0.88      0.71      0.78        41\n",
      "\n",
      "    accuracy                           0.84       100\n",
      "   macro avg       0.85      0.82      0.83       100\n",
      "weighted avg       0.84      0.84      0.84       100\n",
      "\n"
     ]
    }
   ],
   "source": [
    "# Compute the performance metrics\n",
    "print(classification_report(train.label, y_pred))"
   ]
  },
  {
   "cell_type": "markdown",
   "metadata": {},
   "source": [
    "**Takeaways**\n",
    "- when min_df = 20: \n",
    "    - The accuracy is 67%, which beats the baseline \n",
    "    - The lm performs better on predicting the JavaScript than other language.\n",
    "- when min_df = 15:\n",
    "    - The accuracy is 81%, which get improved by 84%. "
   ]
  },
  {
   "cell_type": "markdown",
   "metadata": {},
   "source": [
    "#### Model TFIDF"
   ]
  },
  {
   "cell_type": "code",
   "execution_count": 38,
   "metadata": {},
   "outputs": [],
   "source": [
    "# Fit the LogisticRegression on TFIDF features\n",
    "lm_tfidf = LogisticRegression().fit(X_train_tfidf, y_train)\n",
    "\n",
    "# Predic the labels\n",
    "y_pred = lm_tfidf.predict(X_train_tfidf)"
   ]
  },
  {
   "cell_type": "code",
   "execution_count": 39,
   "metadata": {},
   "outputs": [
    {
     "data": {
      "text/plain": [
       "array([[56,  3],\n",
       "       [20, 21]])"
      ]
     },
     "execution_count": 39,
     "metadata": {},
     "output_type": "execute_result"
    }
   ],
   "source": [
    "# Compute the confusion matrix\n",
    "confusion_matrix(train.label, y_pred)"
   ]
  },
  {
   "cell_type": "code",
   "execution_count": 40,
   "metadata": {
    "scrolled": true
   },
   "outputs": [
    {
     "name": "stdout",
     "output_type": "stream",
     "text": [
      "              precision    recall  f1-score   support\n",
      "\n",
      "          js       0.74      0.95      0.83        59\n",
      "       other       0.88      0.51      0.65        41\n",
      "\n",
      "    accuracy                           0.77       100\n",
      "   macro avg       0.81      0.73      0.74       100\n",
      "weighted avg       0.79      0.77      0.75       100\n",
      "\n"
     ]
    }
   ],
   "source": [
    "# Compute the performance metrics\n",
    "print(classification_report(train.label, y_pred))"
   ]
  },
  {
   "cell_type": "markdown",
   "metadata": {},
   "source": [
    "**Takeaways**\n",
    "- When min_df = 20\n",
    "    - The accuracy is 0.64, which also beats the baseline.\n",
    "    - Simiar to bow features, the lm performs better on predicting the JavaScript than other language.\n",
    "- When min_df = 15\n",
    "    - The accuracy is 0.77, which get improved by 12%. "
   ]
  },
  {
   "cell_type": "markdown",
   "metadata": {},
   "source": [
    "### Model on Validate"
   ]
  },
  {
   "cell_type": "code",
   "execution_count": 41,
   "metadata": {},
   "outputs": [],
   "source": [
    "# Predict the labels basded on both features. \n",
    "\n",
    "y_pred_bow = lm.predict(X_validate_bow)\n",
    "y_pred_tfidf = lm_tfidf.predict(X_validate_tfidf)"
   ]
  },
  {
   "cell_type": "code",
   "execution_count": 42,
   "metadata": {
    "scrolled": true
   },
   "outputs": [
    {
     "name": "stdout",
     "output_type": "stream",
     "text": [
      "              precision    recall  f1-score   support\n",
      "\n",
      "          js       0.86      0.86      0.86         7\n",
      "       other       0.80      0.80      0.80         5\n",
      "\n",
      "    accuracy                           0.83        12\n",
      "   macro avg       0.83      0.83      0.83        12\n",
      "weighted avg       0.83      0.83      0.83        12\n",
      "\n"
     ]
    }
   ],
   "source": [
    "# Compute the performance metrics for bow features. \n",
    "print(classification_report(validate.label, y_pred_bow))"
   ]
  },
  {
   "cell_type": "code",
   "execution_count": 43,
   "metadata": {},
   "outputs": [
    {
     "name": "stdout",
     "output_type": "stream",
     "text": [
      "              precision    recall  f1-score   support\n",
      "\n",
      "          js       0.55      0.86      0.67         7\n",
      "       other       0.00      0.00      0.00         5\n",
      "\n",
      "    accuracy                           0.50        12\n",
      "   macro avg       0.27      0.43      0.33        12\n",
      "weighted avg       0.32      0.50      0.39        12\n",
      "\n"
     ]
    }
   ],
   "source": [
    "# Compute the performance metrics for tfidf features.\n",
    "print(classification_report(validate.label, y_pred_tfidf))"
   ]
  },
  {
   "cell_type": "markdown",
   "metadata": {},
   "source": [
    "**Takeaways**\n",
    "- The accuracy drops back to 50% for tfidf features features, which is below the baseline. Obviously overfitting issue exits.\n",
    "- However, the accuracy is still consistent with bow features, which is 83%."
   ]
  },
  {
   "cell_type": "markdown",
   "metadata": {},
   "source": [
    "### Model on Test"
   ]
  },
  {
   "cell_type": "code",
   "execution_count": 44,
   "metadata": {},
   "outputs": [],
   "source": [
    "# Predict the labels basded on both features. \n",
    "\n",
    "y_pred_bow = lm.predict(X_test_bow)\n",
    "y_pred_tfidf = lm_tfidf.predict(X_test_tfidf)"
   ]
  },
  {
   "cell_type": "code",
   "execution_count": 45,
   "metadata": {},
   "outputs": [
    {
     "name": "stdout",
     "output_type": "stream",
     "text": [
      "              precision    recall  f1-score   support\n",
      "\n",
      "          js       0.75      0.75      0.75         8\n",
      "       other       0.60      0.60      0.60         5\n",
      "\n",
      "    accuracy                           0.69        13\n",
      "   macro avg       0.68      0.68      0.68        13\n",
      "weighted avg       0.69      0.69      0.69        13\n",
      "\n"
     ]
    }
   ],
   "source": [
    "# Compute the performance metrics for bow features. \n",
    "print(classification_report(test.label, y_pred_bow))"
   ]
  },
  {
   "cell_type": "code",
   "execution_count": 46,
   "metadata": {},
   "outputs": [
    {
     "name": "stdout",
     "output_type": "stream",
     "text": [
      "              precision    recall  f1-score   support\n",
      "\n",
      "          js       0.75      0.75      0.75         8\n",
      "       other       0.60      0.60      0.60         5\n",
      "\n",
      "    accuracy                           0.69        13\n",
      "   macro avg       0.68      0.68      0.68        13\n",
      "weighted avg       0.69      0.69      0.69        13\n",
      "\n"
     ]
    }
   ],
   "source": [
    "# Compute the performance metrics for tfidf features.\n",
    "print(classification_report(test.label, y_pred_tfidf))"
   ]
  },
  {
   "cell_type": "markdown",
   "metadata": {},
   "source": [
    "**Takeaways**\n",
    "- The accuracy on test datasets are 69% for both bow and tfidf features. "
   ]
  },
  {
   "cell_type": "markdown",
   "metadata": {},
   "source": [
    "**Future Works**:\n",
    "1. To enlarge the dataset.\n",
    "2. Try different classification algorithms.\n",
    "3. To exclude the 'run', 'repository' and similar words to reduce the noise. "
   ]
  },
  {
   "cell_type": "markdown",
   "metadata": {},
   "source": [
    "### How does the min_df affect the model performance?"
   ]
  },
  {
   "cell_type": "code",
   "execution_count": 47,
   "metadata": {},
   "outputs": [],
   "source": [
    "# Loop through \n",
    "\n",
    "metrics_min_df = []\n",
    "lr = LogisticRegression()\n",
    "\n",
    "for i in range (5, 21):\n",
    "    vectorizer = CountVectorizer(stop_words='english', \n",
    "                                 min_df=i, \n",
    "                                 ngram_range=(1,2), \n",
    "                                 binary=True)\n",
    "    vectorizer = vectorizer.fit(train.clean)\n",
    "    X_train = vectorizer.transform(train.clean)\n",
    "    X_validate = vectorizer.transform(validate.clean)\n",
    "    lr = lr.fit(X_train, y_train)\n",
    "    y_pred_train = lr.predict(X_train)\n",
    "    y_pred_validate = lr.predict(X_validate)\n",
    "    d1 = model.estimator_report(i, 'train', train.label, y_pred_train)\n",
    "    metrics_min_df.append(d1)\n",
    "    d2 = model.estimator_report(i, 'validate', validate.label, y_pred_validate)\n",
    "    metrics_min_df.append(d2)"
   ]
  },
  {
   "cell_type": "code",
   "execution_count": 48,
   "metadata": {
    "scrolled": false
   },
   "outputs": [
    {
     "data": {
      "text/html": [
       "<div>\n",
       "<style scoped>\n",
       "    .dataframe tbody tr th:only-of-type {\n",
       "        vertical-align: middle;\n",
       "    }\n",
       "\n",
       "    .dataframe tbody tr th {\n",
       "        vertical-align: top;\n",
       "    }\n",
       "\n",
       "    .dataframe thead th {\n",
       "        text-align: right;\n",
       "    }\n",
       "</style>\n",
       "<table border=\"1\" class=\"dataframe\">\n",
       "  <thead>\n",
       "    <tr style=\"text-align: right;\">\n",
       "      <th></th>\n",
       "      <th>min_df</th>\n",
       "      <th>data_type</th>\n",
       "      <th>accuracy</th>\n",
       "      <th>precision</th>\n",
       "      <th>recall</th>\n",
       "    </tr>\n",
       "  </thead>\n",
       "  <tbody>\n",
       "    <tr>\n",
       "      <th>0</th>\n",
       "      <td>5</td>\n",
       "      <td>train</td>\n",
       "      <td>0.980000</td>\n",
       "      <td>0.953488</td>\n",
       "      <td>1.0</td>\n",
       "    </tr>\n",
       "    <tr>\n",
       "      <th>1</th>\n",
       "      <td>5</td>\n",
       "      <td>validate</td>\n",
       "      <td>0.583333</td>\n",
       "      <td>0.500000</td>\n",
       "      <td>0.6</td>\n",
       "    </tr>\n",
       "    <tr>\n",
       "      <th>2</th>\n",
       "      <td>6</td>\n",
       "      <td>train</td>\n",
       "      <td>0.970000</td>\n",
       "      <td>0.931818</td>\n",
       "      <td>1.0</td>\n",
       "    </tr>\n",
       "    <tr>\n",
       "      <th>3</th>\n",
       "      <td>6</td>\n",
       "      <td>validate</td>\n",
       "      <td>0.666667</td>\n",
       "      <td>0.571429</td>\n",
       "      <td>0.8</td>\n",
       "    </tr>\n",
       "    <tr>\n",
       "      <th>4</th>\n",
       "      <td>7</td>\n",
       "      <td>train</td>\n",
       "      <td>0.970000</td>\n",
       "      <td>0.931818</td>\n",
       "      <td>1.0</td>\n",
       "    </tr>\n",
       "  </tbody>\n",
       "</table>\n",
       "</div>"
      ],
      "text/plain": [
       "   min_df data_type  accuracy  precision  recall\n",
       "0       5     train  0.980000   0.953488     1.0\n",
       "1       5  validate  0.583333   0.500000     0.6\n",
       "2       6     train  0.970000   0.931818     1.0\n",
       "3       6  validate  0.666667   0.571429     0.8\n",
       "4       7     train  0.970000   0.931818     1.0"
      ]
     },
     "execution_count": 48,
     "metadata": {},
     "output_type": "execute_result"
    }
   ],
   "source": [
    "# Conver the metrics into dataframe\n",
    "metrics_min_df = pd.DataFrame(metrics_min_df)\n",
    "\n",
    "# Rename the columns\n",
    "metrics_min_df.rename(columns={'model_type':'min_df'}, inplace=True)\n",
    "metrics_min_df.head()"
   ]
  },
  {
   "cell_type": "code",
   "execution_count": 70,
   "metadata": {},
   "outputs": [
    {
     "data": {
      "image/png": "[encoded data removed]",
      "text/plain": [
       "<Figure size 936x504 with 1 Axes>"
      ]
     },
     "metadata": {},
     "output_type": "display_data"
    }
   ],
   "source": [
    "# Lineplot the accuracy against the min_df \n",
    "\n",
    "sns.lineplot(data=metrics_min_df, x='min_df', y='accuracy', hue='data_type', \n",
    "             style='data_type', markers=True, dashes=False)\n",
    "plt.axhline(y=0.54)\n",
    "plt.title(\"Hyperparameter Tuning: min_df (classifier: lr and features: bow)\")\n",
    "plt.text(7, 0.55, 'baseline accuracy')\n",
    "plt.show()"
   ]
  },
  {
   "cell_type": "code",
   "execution_count": 54,
   "metadata": {},
   "outputs": [],
   "source": [
    "feature_names14 = CountVectorizer(stop_words='english', \n",
    "                                 min_df=14, \n",
    "                                 ngram_range=(1,2), \n",
    "                                 binary=True).fit(train.clean).get_feature_names()"
   ]
  },
  {
   "cell_type": "code",
   "execution_count": 55,
   "metadata": {},
   "outputs": [],
   "source": [
    "feature_names15 = CountVectorizer(stop_words='english', \n",
    "                                 min_df=15, \n",
    "                                 ngram_range=(1,2), \n",
    "                                 binary=True).fit(train.clean).get_feature_names()"
   ]
  },
  {
   "cell_type": "code",
   "execution_count": 56,
   "metadata": {},
   "outputs": [
    {
     "data": {
      "text/plain": [
       "{'available',\n",
       " 'button',\n",
       " 'click',\n",
       " 'dependency',\n",
       " 'end',\n",
       " 'env',\n",
       " 'git clone',\n",
       " 'good',\n",
       " 'package',\n",
       " 'return',\n",
       " 'step',\n",
       " 'unit test',\n",
       " 'way'}"
      ]
     },
     "execution_count": 56,
     "metadata": {},
     "output_type": "execute_result"
    }
   ],
   "source": [
    "set(feature_names14) - set(feature_names15)"
   ]
  },
  {
   "cell_type": "markdown",
   "metadata": {},
   "source": [
    "**Takeaways**\n",
    "1. Blue line represents the change of accuracy on train over the increase of the min_df while orange line represents the change of accuracy on validate.\n",
    "2. The distance between the two lines is used as a measure for overfitting: the wider, the severe the overfitting. \n",
    "3. Suprisingly, when the min_df is 15, distance is the shortest, which indicates that the overfitting is minimized between and train and validate. "
   ]
  },
  {
   "cell_type": "markdown",
   "metadata": {},
   "source": [
    "### How does ngram_range affect the model performance?"
   ]
  },
  {
   "cell_type": "code",
   "execution_count": 57,
   "metadata": {},
   "outputs": [
    {
     "name": "stdout",
     "output_type": "stream",
     "text": [
      "CountVectorizer(binary=True, min_df=15, ngram_range=(1, 2),\n",
      "                stop_words='english')\n",
      "CountVectorizer(binary=True, min_df=15, ngram_range=(1, 3),\n",
      "                stop_words='english')\n",
      "CountVectorizer(binary=True, min_df=15, ngram_range=(1, 4),\n",
      "                stop_words='english')\n",
      "CountVectorizer(binary=True, min_df=15, ngram_range=(1, 5),\n",
      "                stop_words='english')\n"
     ]
    }
   ],
   "source": [
    "# Loop through \n",
    "\n",
    "metrics_ngram = []\n",
    "lr = LogisticRegression()\n",
    "\n",
    "for i in range (2,6):\n",
    "    vectorizer = CountVectorizer(stop_words='english', \n",
    "                                 min_df=15, \n",
    "                                 ngram_range=(1,i), \n",
    "                                 binary=True)\n",
    "    print(vectorizer)\n",
    "    vectorizer = vectorizer.fit(train.clean)\n",
    "    X_train = vectorizer.transform(train.clean)\n",
    "    X_validate = vectorizer.transform(validate.clean)\n",
    "    lr = lr.fit(X_train, y_train)\n",
    "    y_pred_train = lr.predict(X_train)\n",
    "    y_pred_validate = lr.predict(X_validate)\n",
    "    d1 = model.estimator_report(i, 'train', train.label, y_pred_train)\n",
    "    metrics_ngram.append(d1)\n",
    "    d2 = model.estimator_report(i, 'validate', validate.label, y_pred_validate)\n",
    "    metrics_ngram.append(d2)"
   ]
  },
  {
   "cell_type": "code",
   "execution_count": 58,
   "metadata": {},
   "outputs": [
    {
     "data": {
      "text/html": [
       "<div>\n",
       "<style scoped>\n",
       "    .dataframe tbody tr th:only-of-type {\n",
       "        vertical-align: middle;\n",
       "    }\n",
       "\n",
       "    .dataframe tbody tr th {\n",
       "        vertical-align: top;\n",
       "    }\n",
       "\n",
       "    .dataframe thead th {\n",
       "        text-align: right;\n",
       "    }\n",
       "</style>\n",
       "<table border=\"1\" class=\"dataframe\">\n",
       "  <thead>\n",
       "    <tr style=\"text-align: right;\">\n",
       "      <th></th>\n",
       "      <th>ngram_range</th>\n",
       "      <th>data_type</th>\n",
       "      <th>accuracy</th>\n",
       "      <th>precision</th>\n",
       "      <th>recall</th>\n",
       "    </tr>\n",
       "  </thead>\n",
       "  <tbody>\n",
       "    <tr>\n",
       "      <th>0</th>\n",
       "      <td>2</td>\n",
       "      <td>train</td>\n",
       "      <td>0.840000</td>\n",
       "      <td>0.878788</td>\n",
       "      <td>0.707317</td>\n",
       "    </tr>\n",
       "    <tr>\n",
       "      <th>1</th>\n",
       "      <td>2</td>\n",
       "      <td>validate</td>\n",
       "      <td>0.833333</td>\n",
       "      <td>0.800000</td>\n",
       "      <td>0.800000</td>\n",
       "    </tr>\n",
       "    <tr>\n",
       "      <th>2</th>\n",
       "      <td>3</td>\n",
       "      <td>train</td>\n",
       "      <td>0.840000</td>\n",
       "      <td>0.878788</td>\n",
       "      <td>0.707317</td>\n",
       "    </tr>\n",
       "    <tr>\n",
       "      <th>3</th>\n",
       "      <td>3</td>\n",
       "      <td>validate</td>\n",
       "      <td>0.833333</td>\n",
       "      <td>0.800000</td>\n",
       "      <td>0.800000</td>\n",
       "    </tr>\n",
       "    <tr>\n",
       "      <th>4</th>\n",
       "      <td>4</td>\n",
       "      <td>train</td>\n",
       "      <td>0.840000</td>\n",
       "      <td>0.878788</td>\n",
       "      <td>0.707317</td>\n",
       "    </tr>\n",
       "    <tr>\n",
       "      <th>5</th>\n",
       "      <td>4</td>\n",
       "      <td>validate</td>\n",
       "      <td>0.833333</td>\n",
       "      <td>0.800000</td>\n",
       "      <td>0.800000</td>\n",
       "    </tr>\n",
       "    <tr>\n",
       "      <th>6</th>\n",
       "      <td>5</td>\n",
       "      <td>train</td>\n",
       "      <td>0.840000</td>\n",
       "      <td>0.878788</td>\n",
       "      <td>0.707317</td>\n",
       "    </tr>\n",
       "    <tr>\n",
       "      <th>7</th>\n",
       "      <td>5</td>\n",
       "      <td>validate</td>\n",
       "      <td>0.833333</td>\n",
       "      <td>0.800000</td>\n",
       "      <td>0.800000</td>\n",
       "    </tr>\n",
       "  </tbody>\n",
       "</table>\n",
       "</div>"
      ],
      "text/plain": [
       "   ngram_range data_type  accuracy  precision    recall\n",
       "0            2     train  0.840000   0.878788  0.707317\n",
       "1            2  validate  0.833333   0.800000  0.800000\n",
       "2            3     train  0.840000   0.878788  0.707317\n",
       "3            3  validate  0.833333   0.800000  0.800000\n",
       "4            4     train  0.840000   0.878788  0.707317\n",
       "5            4  validate  0.833333   0.800000  0.800000\n",
       "6            5     train  0.840000   0.878788  0.707317\n",
       "7            5  validate  0.833333   0.800000  0.800000"
      ]
     },
     "execution_count": 58,
     "metadata": {},
     "output_type": "execute_result"
    }
   ],
   "source": [
    "# Convert to dataframe\n",
    "metrics_ngram = pd.DataFrame(metrics_ngram)\n",
    "\n",
    "# Rename the columns\n",
    "metrics_ngram.rename(columns={'model_type':'ngram_range'}, inplace=True)\n",
    "metrics_ngram"
   ]
  },
  {
   "cell_type": "code",
   "execution_count": 71,
   "metadata": {
    "scrolled": false
   },
   "outputs": [
    {
     "data": {
      "image/png": "[encoded data removed]",
      "text/plain": [
       "<Figure size 936x504 with 1 Axes>"
      ]
     },
     "metadata": {},
     "output_type": "display_data"
    }
   ],
   "source": [
    "# Scatterplot the accuracy against the min_df \n",
    "\n",
    "sns.lineplot(data=metrics_ngram, x='ngram_range', y='accuracy', hue='data_type',\n",
    "             style='data_type', markers=True, dashes=False)\n",
    "plt.title(\"Hyperparameter Tuning: ngram_range (classifier: lr and features: bow)\")\n",
    "plt.ylim(0.825, 0.855)\n",
    "plt.show()"
   ]
  },
  {
   "cell_type": "markdown",
   "metadata": {},
   "source": [
    "**Takeaways**\n",
    "1. Blue line represents the change of accuracy on train over the increase of the ngram_range while orange line represents the change of accuracy on validate.\n",
    "2. The distance between the two lines is used as a measure for overfitting: the wider, the severe the overfitting. \n",
    "3. Suprisingly, the ngram_range has no effect on the model performance. "
   ]
  },
  {
   "cell_type": "markdown",
   "metadata": {},
   "source": [
    "### Modeling using KNN, Decision Tree and Random Forest"
   ]
  },
  {
   "cell_type": "code",
   "execution_count": 72,
   "metadata": {},
   "outputs": [],
   "source": [
    "# Import libraries\n",
    "\n",
    "from sklearn.neighbors import KNeighborsClassifier\n",
    "from sklearn.tree import DecisionTreeClassifier\n",
    "from sklearn.ensemble import RandomForestClassifier\n",
    "from sklearn.naive_bayes import GaussianNB"
   ]
  },
  {
   "cell_type": "code",
   "execution_count": 127,
   "metadata": {},
   "outputs": [],
   "source": [
    "# Create a list of names of the classifiers\n",
    "\n",
    "names = ['LogisticRegression', \n",
    "         'Nearest Neighbors',\n",
    "         'Decision Tree',\n",
    "         'Random Forest',\n",
    "        ]"
   ]
  },
  {
   "cell_type": "code",
   "execution_count": 128,
   "metadata": {},
   "outputs": [],
   "source": [
    "# Create a list of classifiers\n",
    "\n",
    "classifiers = [LogisticRegression(), \n",
    "               KNeighborsClassifier(3),\n",
    "               DecisionTreeClassifier(max_depth=3),\n",
    "               RandomForestClassifier(max_depth=3)\n",
    "              ]"
   ]
  },
  {
   "cell_type": "code",
   "execution_count": 129,
   "metadata": {},
   "outputs": [
    {
     "data": {
      "text/plain": [
       "True"
      ]
     },
     "execution_count": 129,
     "metadata": {},
     "output_type": "execute_result"
    }
   ],
   "source": [
    "# The size between the two should be the same\n",
    "len(names) == len(classifiers)"
   ]
  },
  {
   "cell_type": "code",
   "execution_count": 130,
   "metadata": {},
   "outputs": [
    {
     "name": "stdout",
     "output_type": "stream",
     "text": [
      "LogisticRegression\n",
      "Nearest Neighbors\n",
      "Decision Tree\n",
      "Random Forest\n"
     ]
    }
   ],
   "source": [
    "# Create an empty dataframe\n",
    "\n",
    "metrics_clrs = pd.DataFrame()\n",
    "\n",
    "for name, classifier in zip(names, classifiers):\n",
    "    print(name)\n",
    "    classifier = classifier.fit(X_train_bow, y_train)\n",
    "    y_pred = classifier.predict(X_train_bow)\n",
    "    d = model.estimator_report(name, 'train', y_train, y_pred)\n",
    "    metrics_clrs = metrics_clrs.append(d, ignore_index=True)\n",
    "    y_pred = classifier.predict(X_validate_bow)\n",
    "    d = model.estimator_report(name, 'validate', y_validate, y_pred)\n",
    "    metrics_clrs = metrics_clrs.append(d, ignore_index=True)"
   ]
  },
  {
   "cell_type": "code",
   "execution_count": 131,
   "metadata": {},
   "outputs": [
    {
     "data": {
      "text/html": [
       "<div>\n",
       "<style scoped>\n",
       "    .dataframe tbody tr th:only-of-type {\n",
       "        vertical-align: middle;\n",
       "    }\n",
       "\n",
       "    .dataframe tbody tr th {\n",
       "        vertical-align: top;\n",
       "    }\n",
       "\n",
       "    .dataframe thead th {\n",
       "        text-align: right;\n",
       "    }\n",
       "</style>\n",
       "<table border=\"1\" class=\"dataframe\">\n",
       "  <thead>\n",
       "    <tr style=\"text-align: right;\">\n",
       "      <th></th>\n",
       "      <th>accuracy</th>\n",
       "      <th>data_type</th>\n",
       "      <th>model_type</th>\n",
       "      <th>precision</th>\n",
       "      <th>recall</th>\n",
       "    </tr>\n",
       "  </thead>\n",
       "  <tbody>\n",
       "    <tr>\n",
       "      <th>0</th>\n",
       "      <td>0.840000</td>\n",
       "      <td>train</td>\n",
       "      <td>LogisticRegression</td>\n",
       "      <td>0.878788</td>\n",
       "      <td>0.707317</td>\n",
       "    </tr>\n",
       "    <tr>\n",
       "      <th>1</th>\n",
       "      <td>0.833333</td>\n",
       "      <td>validate</td>\n",
       "      <td>LogisticRegression</td>\n",
       "      <td>0.800000</td>\n",
       "      <td>0.800000</td>\n",
       "    </tr>\n",
       "    <tr>\n",
       "      <th>2</th>\n",
       "      <td>0.760000</td>\n",
       "      <td>train</td>\n",
       "      <td>Nearest Neighbors</td>\n",
       "      <td>0.840000</td>\n",
       "      <td>0.512195</td>\n",
       "    </tr>\n",
       "    <tr>\n",
       "      <th>3</th>\n",
       "      <td>0.500000</td>\n",
       "      <td>validate</td>\n",
       "      <td>Nearest Neighbors</td>\n",
       "      <td>0.333333</td>\n",
       "      <td>0.200000</td>\n",
       "    </tr>\n",
       "    <tr>\n",
       "      <th>4</th>\n",
       "      <td>0.720000</td>\n",
       "      <td>train</td>\n",
       "      <td>Decision Tree</td>\n",
       "      <td>1.000000</td>\n",
       "      <td>0.317073</td>\n",
       "    </tr>\n",
       "    <tr>\n",
       "      <th>5</th>\n",
       "      <td>0.583333</td>\n",
       "      <td>validate</td>\n",
       "      <td>Decision Tree</td>\n",
       "      <td>NaN</td>\n",
       "      <td>0.000000</td>\n",
       "    </tr>\n",
       "    <tr>\n",
       "      <th>6</th>\n",
       "      <td>0.800000</td>\n",
       "      <td>train</td>\n",
       "      <td>Random Forest</td>\n",
       "      <td>1.000000</td>\n",
       "      <td>0.512195</td>\n",
       "    </tr>\n",
       "    <tr>\n",
       "      <th>7</th>\n",
       "      <td>0.583333</td>\n",
       "      <td>validate</td>\n",
       "      <td>Random Forest</td>\n",
       "      <td>NaN</td>\n",
       "      <td>0.000000</td>\n",
       "    </tr>\n",
       "  </tbody>\n",
       "</table>\n",
       "</div>"
      ],
      "text/plain": [
       "   accuracy data_type          model_type  precision    recall\n",
       "0  0.840000     train  LogisticRegression   0.878788  0.707317\n",
       "1  0.833333  validate  LogisticRegression   0.800000  0.800000\n",
       "2  0.760000     train   Nearest Neighbors   0.840000  0.512195\n",
       "3  0.500000  validate   Nearest Neighbors   0.333333  0.200000\n",
       "4  0.720000     train       Decision Tree   1.000000  0.317073\n",
       "5  0.583333  validate       Decision Tree        NaN  0.000000\n",
       "6  0.800000     train       Random Forest   1.000000  0.512195\n",
       "7  0.583333  validate       Random Forest        NaN  0.000000"
      ]
     },
     "execution_count": 131,
     "metadata": {},
     "output_type": "execute_result"
    }
   ],
   "source": [
    "metrics_clrs"
   ]
  },
  {
   "cell_type": "markdown",
   "metadata": {},
   "source": [
    "### Modeling using Naive Bayes"
   ]
  },
  {
   "cell_type": "code",
   "execution_count": 132,
   "metadata": {},
   "outputs": [
    {
     "data": {
      "text/plain": [
       "GaussianNB()"
      ]
     },
     "execution_count": 132,
     "metadata": {},
     "output_type": "execute_result"
    }
   ],
   "source": [
    "# Create the naive bayes\n",
    "gnb = GaussianNB()\n",
    "gnb"
   ]
  },
  {
   "cell_type": "code",
   "execution_count": 133,
   "metadata": {},
   "outputs": [
    {
     "data": {
      "text/html": [
       "<div>\n",
       "<style scoped>\n",
       "    .dataframe tbody tr th:only-of-type {\n",
       "        vertical-align: middle;\n",
       "    }\n",
       "\n",
       "    .dataframe tbody tr th {\n",
       "        vertical-align: top;\n",
       "    }\n",
       "\n",
       "    .dataframe thead th {\n",
       "        text-align: right;\n",
       "    }\n",
       "</style>\n",
       "<table border=\"1\" class=\"dataframe\">\n",
       "  <thead>\n",
       "    <tr style=\"text-align: right;\">\n",
       "      <th></th>\n",
       "      <th>accuracy</th>\n",
       "      <th>data_type</th>\n",
       "      <th>model_type</th>\n",
       "      <th>precision</th>\n",
       "      <th>recall</th>\n",
       "    </tr>\n",
       "  </thead>\n",
       "  <tbody>\n",
       "    <tr>\n",
       "      <th>0</th>\n",
       "      <td>0.720000</td>\n",
       "      <td>train</td>\n",
       "      <td>NB</td>\n",
       "      <td>0.614035</td>\n",
       "      <td>0.853659</td>\n",
       "    </tr>\n",
       "    <tr>\n",
       "      <th>1</th>\n",
       "      <td>0.583333</td>\n",
       "      <td>validate</td>\n",
       "      <td>NB</td>\n",
       "      <td>NaN</td>\n",
       "      <td>0.000000</td>\n",
       "    </tr>\n",
       "  </tbody>\n",
       "</table>\n",
       "</div>"
      ],
      "text/plain": [
       "   accuracy data_type model_type  precision    recall\n",
       "0  0.720000     train         NB   0.614035  0.853659\n",
       "1  0.583333  validate         NB        NaN  0.000000"
      ]
     },
     "execution_count": 133,
     "metadata": {},
     "output_type": "execute_result"
    }
   ],
   "source": [
    "metrics_gnb = pd.DataFrame()\n",
    "\n",
    "# Fit on train.toarray features\n",
    "gnb = gnb.fit(X_train_bowarray, y_train)\n",
    "\n",
    "# Predict the \n",
    "\n",
    "y_pred = gnb.predict(X_train_bowarray)\n",
    "d = model.estimator_report('NB', 'train', y_train, y_pred)\n",
    "metrics_gnb = metrics_gnb.append(d, ignore_index=True)\n",
    "y_pred = classifier.predict(X_validate_bowarray)\n",
    "d = model.estimator_report('NB', 'validate', y_validate, y_pred)\n",
    "metrics_gnb = metrics_gnb.append(d, ignore_index=True)\n",
    "\n",
    "# Print the metrics\n",
    "metrics_gnb"
   ]
  },
  {
   "cell_type": "markdown",
   "metadata": {},
   "source": [
    "### How does the hyperparameter min_df affect the KNN performance"
   ]
  },
  {
   "cell_type": "code",
   "execution_count": 78,
   "metadata": {},
   "outputs": [],
   "source": [
    "# Compute the accuary when min_df ranges from 5 to 21\n",
    "\n",
    "metrics_knn = []\n",
    "clr = KNeighborsClassifier(3)\n",
    "\n",
    "for i in range (5, 21):\n",
    "    vectorizer = CountVectorizer(stop_words='english', \n",
    "                                 min_df=i, \n",
    "                                 ngram_range=(1,2), \n",
    "                                 binary=True)\n",
    "    vectorizer = vectorizer.fit(train.clean)\n",
    "    X_train = vectorizer.transform(train.clean)\n",
    "    X_validate = vectorizer.transform(validate.clean)\n",
    "    clr = clr.fit(X_train, y_train)\n",
    "    y_pred_train = clr.predict(X_train)\n",
    "    y_pred_validate = clr.predict(X_validate)\n",
    "    d1 = model.estimator_report(i, 'train', train.label, y_pred_train)\n",
    "    metrics_knn.append(d1)\n",
    "    d2 = model.estimator_report(i, 'validate', validate.label, y_pred_validate)\n",
    "    metrics_knn.append(d2)"
   ]
  },
  {
   "cell_type": "code",
   "execution_count": 79,
   "metadata": {},
   "outputs": [
    {
     "data": {
      "text/html": [
       "<div>\n",
       "<style scoped>\n",
       "    .dataframe tbody tr th:only-of-type {\n",
       "        vertical-align: middle;\n",
       "    }\n",
       "\n",
       "    .dataframe tbody tr th {\n",
       "        vertical-align: top;\n",
       "    }\n",
       "\n",
       "    .dataframe thead th {\n",
       "        text-align: right;\n",
       "    }\n",
       "</style>\n",
       "<table border=\"1\" class=\"dataframe\">\n",
       "  <thead>\n",
       "    <tr style=\"text-align: right;\">\n",
       "      <th></th>\n",
       "      <th>min_df</th>\n",
       "      <th>data_type</th>\n",
       "      <th>accuracy</th>\n",
       "      <th>precision</th>\n",
       "      <th>recall</th>\n",
       "    </tr>\n",
       "  </thead>\n",
       "  <tbody>\n",
       "    <tr>\n",
       "      <th>0</th>\n",
       "      <td>5</td>\n",
       "      <td>train</td>\n",
       "      <td>0.930000</td>\n",
       "      <td>0.947368</td>\n",
       "      <td>0.878049</td>\n",
       "    </tr>\n",
       "    <tr>\n",
       "      <th>1</th>\n",
       "      <td>5</td>\n",
       "      <td>validate</td>\n",
       "      <td>0.666667</td>\n",
       "      <td>0.571429</td>\n",
       "      <td>0.800000</td>\n",
       "    </tr>\n",
       "    <tr>\n",
       "      <th>2</th>\n",
       "      <td>6</td>\n",
       "      <td>train</td>\n",
       "      <td>0.930000</td>\n",
       "      <td>0.972222</td>\n",
       "      <td>0.853659</td>\n",
       "    </tr>\n",
       "    <tr>\n",
       "      <th>3</th>\n",
       "      <td>6</td>\n",
       "      <td>validate</td>\n",
       "      <td>0.666667</td>\n",
       "      <td>0.571429</td>\n",
       "      <td>0.800000</td>\n",
       "    </tr>\n",
       "    <tr>\n",
       "      <th>4</th>\n",
       "      <td>7</td>\n",
       "      <td>train</td>\n",
       "      <td>0.930000</td>\n",
       "      <td>1.000000</td>\n",
       "      <td>0.829268</td>\n",
       "    </tr>\n",
       "  </tbody>\n",
       "</table>\n",
       "</div>"
      ],
      "text/plain": [
       "   min_df data_type  accuracy  precision    recall\n",
       "0       5     train  0.930000   0.947368  0.878049\n",
       "1       5  validate  0.666667   0.571429  0.800000\n",
       "2       6     train  0.930000   0.972222  0.853659\n",
       "3       6  validate  0.666667   0.571429  0.800000\n",
       "4       7     train  0.930000   1.000000  0.829268"
      ]
     },
     "execution_count": 79,
     "metadata": {},
     "output_type": "execute_result"
    }
   ],
   "source": [
    "# Conver the metrics into dataframe\n",
    "metrics_knn = pd.DataFrame(metrics_knn)\n",
    "\n",
    "# Rename the columns\n",
    "metrics_knn.rename(columns={'model_type':'min_df'}, inplace=True)\n",
    "metrics_knn.head()"
   ]
  },
  {
   "cell_type": "code",
   "execution_count": 82,
   "metadata": {
    "scrolled": false
   },
   "outputs": [
    {
     "data": {
      "image/png": "[encoded data removed]",
      "text/plain": [
       "<Figure size 936x504 with 1 Axes>"
      ]
     },
     "metadata": {},
     "output_type": "display_data"
    }
   ],
   "source": [
    "# Lineplot the accuracy against the min_df \n",
    "\n",
    "sns.lineplot(data=metrics_knn, x='min_df', y='accuracy', hue='data_type', \n",
    "             style='data_type', markers=True, dashes=False)\n",
    "plt.axhline(y=0.54)\n",
    "plt.title(\"Hyperparameter Tuning: min_df (classifier: knn(3) and features: bow)\")\n",
    "plt.text(7, 0.55, 'baseline accuracy')\n",
    "plt.show()"
   ]
  },
  {
   "cell_type": "markdown",
   "metadata": {},
   "source": [
    "### Model by Polynomial"
   ]
  },
  {
   "cell_type": "code",
   "execution_count": 83,
   "metadata": {},
   "outputs": [],
   "source": [
    "def polyfeatures(X_train_scaled, y_train, X_validate_scaled, y_validate, n):\n",
    "    pf = PolynomialFeatures(degree=n)\n",
    "    pf = pf.fit(X_train_scaled)\n",
    "    X_train_scaled = pf.transform(X_train_scaled)\n",
    "    X_validate_scaled = pf.transform(X_validate_scaled)\n",
    "    lr = LogisticRegression()\n",
    "    lr = lr.fit(X_train_scaled, y_train)\n",
    "    lr_pred = lr.predict(X_train_scaled)\n",
    "    d1 = model.estimator_report(n, 'train', y_train, lr_pred)\n",
    "    lr_pred = lr.predict(X_validate_scaled)\n",
    "    d2 = model.estimator_report(n, 'validate', y_validate, lr_pred)\n",
    "    return d1, d2"
   ]
  },
  {
   "cell_type": "code",
   "execution_count": 99,
   "metadata": {},
   "outputs": [],
   "source": [
    "metrics_poly = []\n",
    "degrees = [2,3]\n",
    "\n",
    "for degree in degrees:\n",
    "    d1, d2 = polyfeatures(X_train_bow, y_train, X_validate_bow, y_validate, degree)\n",
    "    metrics_poly.append(d1)\n",
    "    metrics_poly.append(d2)"
   ]
  },
  {
   "cell_type": "code",
   "execution_count": 100,
   "metadata": {},
   "outputs": [],
   "source": [
    "# Conver the metrics into dataframe\n",
    "metrics_poly = pd.DataFrame(metrics_poly)"
   ]
  },
  {
   "cell_type": "code",
   "execution_count": 101,
   "metadata": {},
   "outputs": [
    {
     "data": {
      "text/html": [
       "<div>\n",
       "<style scoped>\n",
       "    .dataframe tbody tr th:only-of-type {\n",
       "        vertical-align: middle;\n",
       "    }\n",
       "\n",
       "    .dataframe tbody tr th {\n",
       "        vertical-align: top;\n",
       "    }\n",
       "\n",
       "    .dataframe thead th {\n",
       "        text-align: right;\n",
       "    }\n",
       "</style>\n",
       "<table border=\"1\" class=\"dataframe\">\n",
       "  <thead>\n",
       "    <tr style=\"text-align: right;\">\n",
       "      <th></th>\n",
       "      <th>model_type</th>\n",
       "      <th>data_type</th>\n",
       "      <th>accuracy</th>\n",
       "      <th>precision</th>\n",
       "      <th>recall</th>\n",
       "    </tr>\n",
       "  </thead>\n",
       "  <tbody>\n",
       "    <tr>\n",
       "      <th>0</th>\n",
       "      <td>2</td>\n",
       "      <td>train</td>\n",
       "      <td>0.920000</td>\n",
       "      <td>0.971429</td>\n",
       "      <td>0.829268</td>\n",
       "    </tr>\n",
       "    <tr>\n",
       "      <th>1</th>\n",
       "      <td>2</td>\n",
       "      <td>validate</td>\n",
       "      <td>0.666667</td>\n",
       "      <td>0.666667</td>\n",
       "      <td>0.400000</td>\n",
       "    </tr>\n",
       "    <tr>\n",
       "      <th>2</th>\n",
       "      <td>3</td>\n",
       "      <td>train</td>\n",
       "      <td>0.920000</td>\n",
       "      <td>1.000000</td>\n",
       "      <td>0.804878</td>\n",
       "    </tr>\n",
       "    <tr>\n",
       "      <th>3</th>\n",
       "      <td>3</td>\n",
       "      <td>validate</td>\n",
       "      <td>0.666667</td>\n",
       "      <td>0.666667</td>\n",
       "      <td>0.400000</td>\n",
       "    </tr>\n",
       "  </tbody>\n",
       "</table>\n",
       "</div>"
      ],
      "text/plain": [
       "   model_type data_type  accuracy  precision    recall\n",
       "0           2     train  0.920000   0.971429  0.829268\n",
       "1           2  validate  0.666667   0.666667  0.400000\n",
       "2           3     train  0.920000   1.000000  0.804878\n",
       "3           3  validate  0.666667   0.666667  0.400000"
      ]
     },
     "execution_count": 101,
     "metadata": {},
     "output_type": "execute_result"
    }
   ],
   "source": [
    "metrics_poly"
   ]
  },
  {
   "cell_type": "code",
   "execution_count": 135,
   "metadata": {},
   "outputs": [
    {
     "data": {
      "text/html": [
       "<div>\n",
       "<style scoped>\n",
       "    .dataframe tbody tr th:only-of-type {\n",
       "        vertical-align: middle;\n",
       "    }\n",
       "\n",
       "    .dataframe tbody tr th {\n",
       "        vertical-align: top;\n",
       "    }\n",
       "\n",
       "    .dataframe thead th {\n",
       "        text-align: right;\n",
       "    }\n",
       "</style>\n",
       "<table border=\"1\" class=\"dataframe\">\n",
       "  <thead>\n",
       "    <tr style=\"text-align: right;\">\n",
       "      <th></th>\n",
       "      <th>accuracy</th>\n",
       "      <th>data_type</th>\n",
       "      <th>model_type</th>\n",
       "      <th>precision</th>\n",
       "      <th>recall</th>\n",
       "    </tr>\n",
       "  </thead>\n",
       "  <tbody>\n",
       "    <tr>\n",
       "      <th>0</th>\n",
       "      <td>0.840000</td>\n",
       "      <td>train</td>\n",
       "      <td>LogisticRegression</td>\n",
       "      <td>0.878788</td>\n",
       "      <td>0.707317</td>\n",
       "    </tr>\n",
       "    <tr>\n",
       "      <th>1</th>\n",
       "      <td>0.833333</td>\n",
       "      <td>validate</td>\n",
       "      <td>LogisticRegression</td>\n",
       "      <td>0.800000</td>\n",
       "      <td>0.800000</td>\n",
       "    </tr>\n",
       "    <tr>\n",
       "      <th>2</th>\n",
       "      <td>0.760000</td>\n",
       "      <td>train</td>\n",
       "      <td>Nearest Neighbors</td>\n",
       "      <td>0.840000</td>\n",
       "      <td>0.512195</td>\n",
       "    </tr>\n",
       "    <tr>\n",
       "      <th>3</th>\n",
       "      <td>0.500000</td>\n",
       "      <td>validate</td>\n",
       "      <td>Nearest Neighbors</td>\n",
       "      <td>0.333333</td>\n",
       "      <td>0.200000</td>\n",
       "    </tr>\n",
       "    <tr>\n",
       "      <th>4</th>\n",
       "      <td>0.720000</td>\n",
       "      <td>train</td>\n",
       "      <td>Decision Tree</td>\n",
       "      <td>1.000000</td>\n",
       "      <td>0.317073</td>\n",
       "    </tr>\n",
       "    <tr>\n",
       "      <th>5</th>\n",
       "      <td>0.583333</td>\n",
       "      <td>validate</td>\n",
       "      <td>Decision Tree</td>\n",
       "      <td>NaN</td>\n",
       "      <td>0.000000</td>\n",
       "    </tr>\n",
       "    <tr>\n",
       "      <th>6</th>\n",
       "      <td>0.800000</td>\n",
       "      <td>train</td>\n",
       "      <td>Random Forest</td>\n",
       "      <td>1.000000</td>\n",
       "      <td>0.512195</td>\n",
       "    </tr>\n",
       "    <tr>\n",
       "      <th>7</th>\n",
       "      <td>0.583333</td>\n",
       "      <td>validate</td>\n",
       "      <td>Random Forest</td>\n",
       "      <td>NaN</td>\n",
       "      <td>0.000000</td>\n",
       "    </tr>\n",
       "    <tr>\n",
       "      <th>8</th>\n",
       "      <td>0.720000</td>\n",
       "      <td>train</td>\n",
       "      <td>NB</td>\n",
       "      <td>0.614035</td>\n",
       "      <td>0.853659</td>\n",
       "    </tr>\n",
       "    <tr>\n",
       "      <th>9</th>\n",
       "      <td>0.583333</td>\n",
       "      <td>validate</td>\n",
       "      <td>NB</td>\n",
       "      <td>NaN</td>\n",
       "      <td>0.000000</td>\n",
       "    </tr>\n",
       "    <tr>\n",
       "      <th>10</th>\n",
       "      <td>0.920000</td>\n",
       "      <td>train</td>\n",
       "      <td>2</td>\n",
       "      <td>0.971429</td>\n",
       "      <td>0.829268</td>\n",
       "    </tr>\n",
       "    <tr>\n",
       "      <th>11</th>\n",
       "      <td>0.666667</td>\n",
       "      <td>validate</td>\n",
       "      <td>2</td>\n",
       "      <td>0.666667</td>\n",
       "      <td>0.400000</td>\n",
       "    </tr>\n",
       "    <tr>\n",
       "      <th>12</th>\n",
       "      <td>0.920000</td>\n",
       "      <td>train</td>\n",
       "      <td>3</td>\n",
       "      <td>1.000000</td>\n",
       "      <td>0.804878</td>\n",
       "    </tr>\n",
       "    <tr>\n",
       "      <th>13</th>\n",
       "      <td>0.666667</td>\n",
       "      <td>validate</td>\n",
       "      <td>3</td>\n",
       "      <td>0.666667</td>\n",
       "      <td>0.400000</td>\n",
       "    </tr>\n",
       "  </tbody>\n",
       "</table>\n",
       "</div>"
      ],
      "text/plain": [
       "    accuracy data_type          model_type  precision    recall\n",
       "0   0.840000     train  LogisticRegression   0.878788  0.707317\n",
       "1   0.833333  validate  LogisticRegression   0.800000  0.800000\n",
       "2   0.760000     train   Nearest Neighbors   0.840000  0.512195\n",
       "3   0.500000  validate   Nearest Neighbors   0.333333  0.200000\n",
       "4   0.720000     train       Decision Tree   1.000000  0.317073\n",
       "5   0.583333  validate       Decision Tree        NaN  0.000000\n",
       "6   0.800000     train       Random Forest   1.000000  0.512195\n",
       "7   0.583333  validate       Random Forest        NaN  0.000000\n",
       "8   0.720000     train                  NB   0.614035  0.853659\n",
       "9   0.583333  validate                  NB        NaN  0.000000\n",
       "10  0.920000     train                   2   0.971429  0.829268\n",
       "11  0.666667  validate                   2   0.666667  0.400000\n",
       "12  0.920000     train                   3   1.000000  0.804878\n",
       "13  0.666667  validate                   3   0.666667  0.400000"
      ]
     },
     "execution_count": 135,
     "metadata": {},
     "output_type": "execute_result"
    }
   ],
   "source": [
    "# Concat the metrics_clrs and metrics_poly\n",
    "\n",
    "metrics_models = pd.concat([metrics_clrs, metrics_gnb, metrics_poly], ignore_index=True)\n",
    "metrics_models"
   ]
  },
  {
   "cell_type": "code",
   "execution_count": 136,
   "metadata": {},
   "outputs": [],
   "source": [
    "metrics_models.model_type = ['LR', 'LR', 'KNN', 'KNN', 'DT', 'DT', 'RF', 'RF', \n",
    "                             'NB', 'NB', 'Poly-2', 'Poly-2', 'Poly-3', 'Poly-3']"
   ]
  },
  {
   "cell_type": "code",
   "execution_count": 144,
   "metadata": {},
   "outputs": [
    {
     "data": {
      "image/png": "[encoded data removed]",
      "text/plain": [
       "<Figure size 936x504 with 1 Axes>"
      ]
     },
     "metadata": {},
     "output_type": "display_data"
    }
   ],
   "source": [
    "# Visualize the accuracy on train and validate modeled by different algorithms\n",
    "\n",
    "sns.barplot(data=metrics_models, x='model_type', y='accuracy', hue='data_type')\n",
    "plt.axhline(y=0.54)\n",
    "plt.title(\"Model selection based on accuracy\")\n",
    "plt.text(6.6, 0.55, 'baseline')\n",
    "plt.ylim(0, 1.0)\n",
    "plt.xlim(-0.5, 7.25)\n",
    "plt.tight_layout()\n",
    "plt.show()"
   ]
  },
  {
   "cell_type": "code",
   "execution_count": null,
   "metadata": {},
   "outputs": [],
   "source": []
  },
  {
   "cell_type": "markdown",
   "metadata": {},
   "source": [
    "### Cross Validation"
   ]
  },
  {
   "cell_type": "code",
   "execution_count": 146,
   "metadata": {},
   "outputs": [],
   "source": [
    "# Create the X and y for cross validation\n",
    "\n",
    "X = df[['clean']]\n",
    "y = df[['label']]"
   ]
  },
  {
   "cell_type": "code",
   "execution_count": 147,
   "metadata": {},
   "outputs": [
    {
     "data": {
      "text/plain": [
       "LogisticRegression()"
      ]
     },
     "execution_count": 147,
     "metadata": {},
     "output_type": "execute_result"
    }
   ],
   "source": [
    "# Create the classifier for the cross validation\n",
    "\n",
    "clr = LogisticRegression()\n",
    "clr"
   ]
  },
  {
   "cell_type": "code",
   "execution_count": 148,
   "metadata": {},
   "outputs": [],
   "source": [
    "# Extract the features from the text\n",
    "\n",
    "vectorizer = CountVectorizer(stop_words='english', \n",
    "                             min_df=15, \n",
    "                             ngram_range=(1,2), \n",
    "                             binary=True)\n",
    "\n",
    "# Learn vocabulary in sentences. \n",
    "X = vectorizer.fit_transform(df.clean)"
   ]
  },
  {
   "cell_type": "code",
   "execution_count": 150,
   "metadata": {},
   "outputs": [
    {
     "data": {
      "text/plain": [
       "0.752"
      ]
     },
     "execution_count": 150,
     "metadata": {},
     "output_type": "execute_result"
    }
   ],
   "source": [
    "# Compute the mean accuracy using cross validation\n",
    "cross_val_score(clr, X, y, scoring='accuracy', cv=5).mean()"
   ]
  }
 ],
 "metadata": {
  "kernelspec": {
   "display_name": "Python 3",
   "language": "python",
   "name": "python3"
  },
  "language_info": {
   "codemirror_mode": {
    "name": "ipython",
    "version": 3
   },
   "file_extension": ".py",
   "mimetype": "text/x-python",
   "name": "python",
   "nbconvert_exporter": "python",
   "pygments_lexer": "ipython3",
   "version": "3.8.3"
  }
 },
 "nbformat": 4,
 "nbformat_minor": 4
}
