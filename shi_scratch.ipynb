{
 "cells": [
  {
   "cell_type": "code",
   "execution_count": 26,
   "metadata": {},
   "outputs": [],
   "source": [
    "# Import libraries\n",
    "\n",
    "import numpy as np\n",
    "import pandas as pd\n",
    "import matplotlib.pyplot as plt\n",
    "import seaborn as sns\n",
    "\n",
    "import unicodedata\n",
    "import re\n",
    "import nltk\n",
    "from nltk.tokenize.toktok import ToktokTokenizer\n",
    "from nltk.corpus import stopwords\n",
    "\n",
    "import os\n",
    "import json\n",
    "from typing import Dict, List, Optional, Union, cast\n",
    "import requests\n",
    "\n",
    "from sklearn.model_selection import train_test_split\n",
    "from sklearn.feature_extraction.text import TfidfVectorizer\n",
    "from sklearn.feature_extraction.text import CountVectorizer\n",
    "from sklearn.naive_bayes import GaussianNB\n",
    "from sklearn.metrics import confusion_matrix, classification_report\n",
    "from sklearn.linear_model import LogisticRegression\n",
    "\n",
    "from env import github_token, github_username\n",
    "import acquire, prep, model"
   ]
  },
  {
   "cell_type": "code",
   "execution_count": 2,
   "metadata": {},
   "outputs": [],
   "source": [
    "# plotting defaults\n",
    "\n",
    "plt.rc('figure', figsize=(13, 7))\n",
    "plt.style.use('seaborn-whitegrid')\n",
    "plt.rc('font', size=16)"
   ]
  },
  {
   "cell_type": "markdown",
   "metadata": {},
   "source": [
    "## Acquire FreeCodeCamp README Dataset"
   ]
  },
  {
   "cell_type": "code",
   "execution_count": 3,
   "metadata": {
    "scrolled": false
   },
   "outputs": [
    {
     "name": "stdout",
     "output_type": "stream",
     "text": [
      "(105, 3)\n"
     ]
    },
    {
     "data": {
      "text/html": [
       "<div>\n",
       "<style scoped>\n",
       "    .dataframe tbody tr th:only-of-type {\n",
       "        vertical-align: middle;\n",
       "    }\n",
       "\n",
       "    .dataframe tbody tr th {\n",
       "        vertical-align: top;\n",
       "    }\n",
       "\n",
       "    .dataframe thead th {\n",
       "        text-align: right;\n",
       "    }\n",
       "</style>\n",
       "<table border=\"1\" class=\"dataframe\">\n",
       "  <thead>\n",
       "    <tr style=\"text-align: right;\">\n",
       "      <th></th>\n",
       "      <th>repo</th>\n",
       "      <th>language</th>\n",
       "      <th>readme_contents</th>\n",
       "    </tr>\n",
       "  </thead>\n",
       "  <tbody>\n",
       "    <tr>\n",
       "      <th>0</th>\n",
       "      <td>freeCodeCamp/chapter</td>\n",
       "      <td>TypeScript</td>\n",
       "      <td># Welcome to Chapter\\n[![All Contributors](htt...</td>\n",
       "    </tr>\n",
       "    <tr>\n",
       "      <th>1</th>\n",
       "      <td>freeCodeCamp/freeCodeCamp</td>\n",
       "      <td>JavaScript</td>\n",
       "      <td>![freeCodeCamp.org Social Banner](https://s3.a...</td>\n",
       "    </tr>\n",
       "    <tr>\n",
       "      <th>2</th>\n",
       "      <td>freeCodeCamp/nginx-config</td>\n",
       "      <td>None</td>\n",
       "      <td># nginx-config\\n\\nConfig for our NGINX instanc...</td>\n",
       "    </tr>\n",
       "    <tr>\n",
       "      <th>3</th>\n",
       "      <td>freeCodeCamp/chat-config</td>\n",
       "      <td>HTML</td>\n",
       "      <td>Usage:\\n\\n1. Create a .env\\n\\n   ```txt\\n   RO...</td>\n",
       "    </tr>\n",
       "    <tr>\n",
       "      <th>4</th>\n",
       "      <td>freeCodeCamp/devdocs</td>\n",
       "      <td>Ruby</td>\n",
       "      <td># [DevDocs](https://devdocs.io) — API Document...</td>\n",
       "    </tr>\n",
       "  </tbody>\n",
       "</table>\n",
       "</div>"
      ],
      "text/plain": [
       "                        repo    language  \\\n",
       "0       freeCodeCamp/chapter  TypeScript   \n",
       "1  freeCodeCamp/freeCodeCamp  JavaScript   \n",
       "2  freeCodeCamp/nginx-config        None   \n",
       "3   freeCodeCamp/chat-config        HTML   \n",
       "4       freeCodeCamp/devdocs        Ruby   \n",
       "\n",
       "                                     readme_contents  \n",
       "0  # Welcome to Chapter\\n[![All Contributors](htt...  \n",
       "1  ![freeCodeCamp.org Social Banner](https://s3.a...  \n",
       "2  # nginx-config\\n\\nConfig for our NGINX instanc...  \n",
       "3  Usage:\\n\\n1. Create a .env\\n\\n   ```txt\\n   RO...  \n",
       "4  # [DevDocs](https://devdocs.io) — API Document...  "
      ]
     },
     "execution_count": 3,
     "metadata": {},
     "output_type": "execute_result"
    }
   ],
   "source": [
    "# Load the data from json file\n",
    "df = pd.read_json('data.json')\n",
    "\n",
    "# Print the shape of the df\n",
    "print(df.shape)\n",
    "\n",
    "# Take a peek at the dataset\n",
    "df.head()"
   ]
  },
  {
   "cell_type": "code",
   "execution_count": 4,
   "metadata": {},
   "outputs": [
    {
     "name": "stdout",
     "output_type": "stream",
     "text": [
      "<class 'pandas.core.frame.DataFrame'>\n",
      "Int64Index: 105 entries, 0 to 104\n",
      "Data columns (total 3 columns):\n",
      " #   Column           Non-Null Count  Dtype \n",
      "---  ------           --------------  ----- \n",
      " 0   repo             105 non-null    object\n",
      " 1   language         97 non-null     object\n",
      " 2   readme_contents  99 non-null     object\n",
      "dtypes: object(3)\n",
      "memory usage: 3.3+ KB\n"
     ]
    }
   ],
   "source": [
    "# Quick summarize df\n",
    "df.info()"
   ]
  },
  {
   "cell_type": "markdown",
   "metadata": {},
   "source": [
    "**Takeaways**\n",
    "- Missing values are found in the columns 'language' and 'readme_contents'.\n",
    "- For MVP, we decide to drop the records with missing values. "
   ]
  },
  {
   "cell_type": "markdown",
   "metadata": {},
   "source": [
    "## Wrangle README Datasets"
   ]
  },
  {
   "cell_type": "code",
   "execution_count": 5,
   "metadata": {},
   "outputs": [
    {
     "data": {
      "text/plain": [
       "(92, 3)"
      ]
     },
     "execution_count": 5,
     "metadata": {},
     "output_type": "execute_result"
    }
   ],
   "source": [
    "# Drop the missing values\n",
    "df = df.dropna()\n",
    "\n",
    "# Print the shape of the df\n",
    "df.shape"
   ]
  },
  {
   "cell_type": "code",
   "execution_count": 6,
   "metadata": {},
   "outputs": [
    {
     "name": "stdout",
     "output_type": "stream",
     "text": [
      "(92, 6)\n"
     ]
    },
    {
     "data": {
      "text/html": [
       "<div>\n",
       "<style scoped>\n",
       "    .dataframe tbody tr th:only-of-type {\n",
       "        vertical-align: middle;\n",
       "    }\n",
       "\n",
       "    .dataframe tbody tr th {\n",
       "        vertical-align: top;\n",
       "    }\n",
       "\n",
       "    .dataframe thead th {\n",
       "        text-align: right;\n",
       "    }\n",
       "</style>\n",
       "<table border=\"1\" class=\"dataframe\">\n",
       "  <thead>\n",
       "    <tr style=\"text-align: right;\">\n",
       "      <th></th>\n",
       "      <th>repo</th>\n",
       "      <th>language</th>\n",
       "      <th>readme_contents</th>\n",
       "      <th>stemmed</th>\n",
       "      <th>lemmatized</th>\n",
       "      <th>clean</th>\n",
       "    </tr>\n",
       "  </thead>\n",
       "  <tbody>\n",
       "    <tr>\n",
       "      <th>0</th>\n",
       "      <td>freeCodeCamp/chapter</td>\n",
       "      <td>TypeScript</td>\n",
       "      <td># Welcome to Chapter\\n[![All Contributors](htt...</td>\n",
       "      <td>welcom to chapter all contributorshttpsimgshie...</td>\n",
       "      <td>welcome to chapter all contributorshttpsimgshi...</td>\n",
       "      <td>welcome chapter contributorshttpsimgshieldsiob...</td>\n",
       "    </tr>\n",
       "    <tr>\n",
       "      <th>1</th>\n",
       "      <td>freeCodeCamp/freeCodeCamp</td>\n",
       "      <td>JavaScript</td>\n",
       "      <td>![freeCodeCamp.org Social Banner](https://s3.a...</td>\n",
       "      <td>freecodecamporg social bannerhttpss3amazonawsc...</td>\n",
       "      <td>freecodecamporg social bannerhttpss3amazonawsc...</td>\n",
       "      <td>freecodecamporg social bannerhttpss3amazonawsc...</td>\n",
       "    </tr>\n",
       "    <tr>\n",
       "      <th>3</th>\n",
       "      <td>freeCodeCamp/chat-config</td>\n",
       "      <td>HTML</td>\n",
       "      <td>Usage:\\n\\n1. Create a .env\\n\\n   ```txt\\n   RO...</td>\n",
       "      <td>usag 1 creat a env txt rocketchat_versionlates...</td>\n",
       "      <td>usage 1 create a env txt rocketchat_versionlat...</td>\n",
       "      <td>usage 1 create env txt rocketchat_versionlates...</td>\n",
       "    </tr>\n",
       "    <tr>\n",
       "      <th>4</th>\n",
       "      <td>freeCodeCamp/devdocs</td>\n",
       "      <td>Ruby</td>\n",
       "      <td># [DevDocs](https://devdocs.io) — API Document...</td>\n",
       "      <td>devdocshttpsdevdocsio api document browser bui...</td>\n",
       "      <td>devdocshttpsdevdocsio api documentation browse...</td>\n",
       "      <td>devdocshttpsdevdocsio api documentation browse...</td>\n",
       "    </tr>\n",
       "    <tr>\n",
       "      <th>5</th>\n",
       "      <td>freeCodeCamp/news-theme</td>\n",
       "      <td>Handlebars</td>\n",
       "      <td>![freeCodeCamp.org Social Banner](https://s3.a...</td>\n",
       "      <td>freecodecamporg social bannerhttpss3amazonawsc...</td>\n",
       "      <td>freecodecamporg social bannerhttpss3amazonawsc...</td>\n",
       "      <td>freecodecamporg social bannerhttpss3amazonawsc...</td>\n",
       "    </tr>\n",
       "  </tbody>\n",
       "</table>\n",
       "</div>"
      ],
      "text/plain": [
       "                        repo    language  \\\n",
       "0       freeCodeCamp/chapter  TypeScript   \n",
       "1  freeCodeCamp/freeCodeCamp  JavaScript   \n",
       "3   freeCodeCamp/chat-config        HTML   \n",
       "4       freeCodeCamp/devdocs        Ruby   \n",
       "5    freeCodeCamp/news-theme  Handlebars   \n",
       "\n",
       "                                     readme_contents  \\\n",
       "0  # Welcome to Chapter\\n[![All Contributors](htt...   \n",
       "1  ![freeCodeCamp.org Social Banner](https://s3.a...   \n",
       "3  Usage:\\n\\n1. Create a .env\\n\\n   ```txt\\n   RO...   \n",
       "4  # [DevDocs](https://devdocs.io) — API Document...   \n",
       "5  ![freeCodeCamp.org Social Banner](https://s3.a...   \n",
       "\n",
       "                                             stemmed  \\\n",
       "0  welcom to chapter all contributorshttpsimgshie...   \n",
       "1  freecodecamporg social bannerhttpss3amazonawsc...   \n",
       "3  usag 1 creat a env txt rocketchat_versionlates...   \n",
       "4  devdocshttpsdevdocsio api document browser bui...   \n",
       "5  freecodecamporg social bannerhttpss3amazonawsc...   \n",
       "\n",
       "                                          lemmatized  \\\n",
       "0  welcome to chapter all contributorshttpsimgshi...   \n",
       "1  freecodecamporg social bannerhttpss3amazonawsc...   \n",
       "3  usage 1 create a env txt rocketchat_versionlat...   \n",
       "4  devdocshttpsdevdocsio api documentation browse...   \n",
       "5  freecodecamporg social bannerhttpss3amazonawsc...   \n",
       "\n",
       "                                               clean  \n",
       "0  welcome chapter contributorshttpsimgshieldsiob...  \n",
       "1  freecodecamporg social bannerhttpss3amazonawsc...  \n",
       "3  usage 1 create env txt rocketchat_versionlates...  \n",
       "4  devdocshttpsdevdocsio api documentation browse...  \n",
       "5  freecodecamporg social bannerhttpss3amazonawsc...  "
      ]
     },
     "execution_count": 6,
     "metadata": {},
     "output_type": "execute_result"
    }
   ],
   "source": [
    "# Clean the text by helper function\n",
    "# Exlude words: 'freecodecamp', 'repository', 'run', 'test', 'use', 'using'\n",
    "df = prep.prep_data(df, 'readme_contents', \n",
    "                    extra_words=['freecodecamp', 'repository', 'run', 'test', 'use', 'using'],\n",
    "                    exclude_words=[])\n",
    "\n",
    "# Print the shape\n",
    "print(df.shape)\n",
    "\n",
    "# Take a peek at the clean data\n",
    "df.head()"
   ]
  },
  {
   "cell_type": "code",
   "execution_count": 7,
   "metadata": {},
   "outputs": [
    {
     "name": "stdout",
     "output_type": "stream",
     "text": [
      "<class 'pandas.core.frame.DataFrame'>\n",
      "Int64Index: 92 entries, 0 to 104\n",
      "Data columns (total 6 columns):\n",
      " #   Column           Non-Null Count  Dtype \n",
      "---  ------           --------------  ----- \n",
      " 0   repo             92 non-null     object\n",
      " 1   language         92 non-null     object\n",
      " 2   readme_contents  92 non-null     object\n",
      " 3   stemmed          92 non-null     object\n",
      " 4   lemmatized       92 non-null     object\n",
      " 5   clean            92 non-null     object\n",
      "dtypes: object(6)\n",
      "memory usage: 5.0+ KB\n"
     ]
    }
   ],
   "source": [
    "# Quick summarize dataset\n",
    "df.info()"
   ]
  },
  {
   "cell_type": "markdown",
   "metadata": {},
   "source": [
    "## Quick Exploration\n",
    "- Detailed Exploration could be find in the autin_scratch.ipynb"
   ]
  },
  {
   "cell_type": "code",
   "execution_count": 8,
   "metadata": {},
   "outputs": [
    {
     "data": {
      "text/plain": [
       "JavaScript    0.543478\n",
       "Python        0.141304\n",
       "HTML          0.130435\n",
       "CSS           0.065217\n",
       "Shell         0.032609\n",
       "R             0.021739\n",
       "Ruby          0.021739\n",
       "TypeScript    0.021739\n",
       "Handlebars    0.010870\n",
       "SCSS          0.010870\n",
       "Name: language, dtype: float64"
      ]
     },
     "execution_count": 8,
     "metadata": {},
     "output_type": "execute_result"
    }
   ],
   "source": [
    "# Compute the relative frequency in each language\n",
    "df.language.value_counts(normalize=True)"
   ]
  },
  {
   "cell_type": "code",
   "execution_count": 9,
   "metadata": {},
   "outputs": [
    {
     "data": {
      "image/png": "[encoded data removed]",
      "text/plain": [
       "<Figure size 936x504 with 1 Axes>"
      ]
     },
     "metadata": {},
     "output_type": "display_data"
    }
   ],
   "source": [
    "# Viz the distribution of the languages\n",
    "\n",
    "df.language.value_counts().plot(kind='bar')\n",
    "plt.show()"
   ]
  },
  {
   "cell_type": "markdown",
   "metadata": {},
   "source": [
    "**Takeaways**\n",
    "- About half of the languages are written in JavaScript. "
   ]
  },
  {
   "cell_type": "markdown",
   "metadata": {},
   "source": [
    "## Additional Wrangling"
   ]
  },
  {
   "cell_type": "code",
   "execution_count": 10,
   "metadata": {},
   "outputs": [],
   "source": [
    "# Convert languages into js or not\n",
    "df.language = df.language.apply(lambda i: 'js' if i == 'JavaScript' else 'other')"
   ]
  },
  {
   "cell_type": "code",
   "execution_count": 11,
   "metadata": {},
   "outputs": [
    {
     "data": {
      "text/html": [
       "<div>\n",
       "<style scoped>\n",
       "    .dataframe tbody tr th:only-of-type {\n",
       "        vertical-align: middle;\n",
       "    }\n",
       "\n",
       "    .dataframe tbody tr th {\n",
       "        vertical-align: top;\n",
       "    }\n",
       "\n",
       "    .dataframe thead th {\n",
       "        text-align: right;\n",
       "    }\n",
       "</style>\n",
       "<table border=\"1\" class=\"dataframe\">\n",
       "  <thead>\n",
       "    <tr style=\"text-align: right;\">\n",
       "      <th></th>\n",
       "      <th>repo</th>\n",
       "      <th>language</th>\n",
       "      <th>readme_contents</th>\n",
       "      <th>stemmed</th>\n",
       "      <th>lemmatized</th>\n",
       "      <th>clean</th>\n",
       "    </tr>\n",
       "  </thead>\n",
       "  <tbody>\n",
       "    <tr>\n",
       "      <th>0</th>\n",
       "      <td>freeCodeCamp/chapter</td>\n",
       "      <td>other</td>\n",
       "      <td># Welcome to Chapter\\n[![All Contributors](htt...</td>\n",
       "      <td>welcom to chapter all contributorshttpsimgshie...</td>\n",
       "      <td>welcome to chapter all contributorshttpsimgshi...</td>\n",
       "      <td>welcome chapter contributorshttpsimgshieldsiob...</td>\n",
       "    </tr>\n",
       "    <tr>\n",
       "      <th>1</th>\n",
       "      <td>freeCodeCamp/freeCodeCamp</td>\n",
       "      <td>js</td>\n",
       "      <td>![freeCodeCamp.org Social Banner](https://s3.a...</td>\n",
       "      <td>freecodecamporg social bannerhttpss3amazonawsc...</td>\n",
       "      <td>freecodecamporg social bannerhttpss3amazonawsc...</td>\n",
       "      <td>freecodecamporg social bannerhttpss3amazonawsc...</td>\n",
       "    </tr>\n",
       "    <tr>\n",
       "      <th>3</th>\n",
       "      <td>freeCodeCamp/chat-config</td>\n",
       "      <td>other</td>\n",
       "      <td>Usage:\\n\\n1. Create a .env\\n\\n   ```txt\\n   RO...</td>\n",
       "      <td>usag 1 creat a env txt rocketchat_versionlates...</td>\n",
       "      <td>usage 1 create a env txt rocketchat_versionlat...</td>\n",
       "      <td>usage 1 create env txt rocketchat_versionlates...</td>\n",
       "    </tr>\n",
       "    <tr>\n",
       "      <th>4</th>\n",
       "      <td>freeCodeCamp/devdocs</td>\n",
       "      <td>other</td>\n",
       "      <td># [DevDocs](https://devdocs.io) — API Document...</td>\n",
       "      <td>devdocshttpsdevdocsio api document browser bui...</td>\n",
       "      <td>devdocshttpsdevdocsio api documentation browse...</td>\n",
       "      <td>devdocshttpsdevdocsio api documentation browse...</td>\n",
       "    </tr>\n",
       "    <tr>\n",
       "      <th>5</th>\n",
       "      <td>freeCodeCamp/news-theme</td>\n",
       "      <td>other</td>\n",
       "      <td>![freeCodeCamp.org Social Banner](https://s3.a...</td>\n",
       "      <td>freecodecamporg social bannerhttpss3amazonawsc...</td>\n",
       "      <td>freecodecamporg social bannerhttpss3amazonawsc...</td>\n",
       "      <td>freecodecamporg social bannerhttpss3amazonawsc...</td>\n",
       "    </tr>\n",
       "  </tbody>\n",
       "</table>\n",
       "</div>"
      ],
      "text/plain": [
       "                        repo language  \\\n",
       "0       freeCodeCamp/chapter    other   \n",
       "1  freeCodeCamp/freeCodeCamp       js   \n",
       "3   freeCodeCamp/chat-config    other   \n",
       "4       freeCodeCamp/devdocs    other   \n",
       "5    freeCodeCamp/news-theme    other   \n",
       "\n",
       "                                     readme_contents  \\\n",
       "0  # Welcome to Chapter\\n[![All Contributors](htt...   \n",
       "1  ![freeCodeCamp.org Social Banner](https://s3.a...   \n",
       "3  Usage:\\n\\n1. Create a .env\\n\\n   ```txt\\n   RO...   \n",
       "4  # [DevDocs](https://devdocs.io) — API Document...   \n",
       "5  ![freeCodeCamp.org Social Banner](https://s3.a...   \n",
       "\n",
       "                                             stemmed  \\\n",
       "0  welcom to chapter all contributorshttpsimgshie...   \n",
       "1  freecodecamporg social bannerhttpss3amazonawsc...   \n",
       "3  usag 1 creat a env txt rocketchat_versionlates...   \n",
       "4  devdocshttpsdevdocsio api document browser bui...   \n",
       "5  freecodecamporg social bannerhttpss3amazonawsc...   \n",
       "\n",
       "                                          lemmatized  \\\n",
       "0  welcome to chapter all contributorshttpsimgshi...   \n",
       "1  freecodecamporg social bannerhttpss3amazonawsc...   \n",
       "3  usage 1 create a env txt rocketchat_versionlat...   \n",
       "4  devdocshttpsdevdocsio api documentation browse...   \n",
       "5  freecodecamporg social bannerhttpss3amazonawsc...   \n",
       "\n",
       "                                               clean  \n",
       "0  welcome chapter contributorshttpsimgshieldsiob...  \n",
       "1  freecodecamporg social bannerhttpss3amazonawsc...  \n",
       "3  usage 1 create env txt rocketchat_versionlates...  \n",
       "4  devdocshttpsdevdocsio api documentation browse...  \n",
       "5  freecodecamporg social bannerhttpss3amazonawsc...  "
      ]
     },
     "execution_count": 11,
     "metadata": {},
     "output_type": "execute_result"
    }
   ],
   "source": [
    "# Take a peek at the df\n",
    "df.head()"
   ]
  },
  {
   "cell_type": "code",
   "execution_count": 12,
   "metadata": {
    "scrolled": true
   },
   "outputs": [
    {
     "data": {
      "text/html": [
       "<div>\n",
       "<style scoped>\n",
       "    .dataframe tbody tr th:only-of-type {\n",
       "        vertical-align: middle;\n",
       "    }\n",
       "\n",
       "    .dataframe tbody tr th {\n",
       "        vertical-align: top;\n",
       "    }\n",
       "\n",
       "    .dataframe thead th {\n",
       "        text-align: right;\n",
       "    }\n",
       "</style>\n",
       "<table border=\"1\" class=\"dataframe\">\n",
       "  <thead>\n",
       "    <tr style=\"text-align: right;\">\n",
       "      <th></th>\n",
       "      <th>repo</th>\n",
       "      <th>language</th>\n",
       "      <th>readme_contents</th>\n",
       "      <th>stemmed</th>\n",
       "      <th>lemmatized</th>\n",
       "      <th>clean</th>\n",
       "      <th>words</th>\n",
       "    </tr>\n",
       "  </thead>\n",
       "  <tbody>\n",
       "    <tr>\n",
       "      <th>0</th>\n",
       "      <td>freeCodeCamp/chapter</td>\n",
       "      <td>other</td>\n",
       "      <td># Welcome to Chapter\\n[![All Contributors](htt...</td>\n",
       "      <td>welcom to chapter all contributorshttpsimgshie...</td>\n",
       "      <td>welcome to chapter all contributorshttpsimgshi...</td>\n",
       "      <td>welcome chapter contributorshttpsimgshieldsiob...</td>\n",
       "      <td>[welcome, to, chapter, all, contributorshttpsi...</td>\n",
       "    </tr>\n",
       "    <tr>\n",
       "      <th>1</th>\n",
       "      <td>freeCodeCamp/freeCodeCamp</td>\n",
       "      <td>js</td>\n",
       "      <td>![freeCodeCamp.org Social Banner](https://s3.a...</td>\n",
       "      <td>freecodecamporg social bannerhttpss3amazonawsc...</td>\n",
       "      <td>freecodecamporg social bannerhttpss3amazonawsc...</td>\n",
       "      <td>freecodecamporg social bannerhttpss3amazonawsc...</td>\n",
       "      <td>[freecodecamporg, social, bannerhttpss3amazona...</td>\n",
       "    </tr>\n",
       "  </tbody>\n",
       "</table>\n",
       "</div>"
      ],
      "text/plain": [
       "                        repo language  \\\n",
       "0       freeCodeCamp/chapter    other   \n",
       "1  freeCodeCamp/freeCodeCamp       js   \n",
       "\n",
       "                                     readme_contents  \\\n",
       "0  # Welcome to Chapter\\n[![All Contributors](htt...   \n",
       "1  ![freeCodeCamp.org Social Banner](https://s3.a...   \n",
       "\n",
       "                                             stemmed  \\\n",
       "0  welcom to chapter all contributorshttpsimgshie...   \n",
       "1  freecodecamporg social bannerhttpss3amazonawsc...   \n",
       "\n",
       "                                          lemmatized  \\\n",
       "0  welcome to chapter all contributorshttpsimgshi...   \n",
       "1  freecodecamporg social bannerhttpss3amazonawsc...   \n",
       "\n",
       "                                               clean  \\\n",
       "0  welcome chapter contributorshttpsimgshieldsiob...   \n",
       "1  freecodecamporg social bannerhttpss3amazonawsc...   \n",
       "\n",
       "                                               words  \n",
       "0  [welcome, to, chapter, all, contributorshttpsi...  \n",
       "1  [freecodecamporg, social, bannerhttpss3amazona...  "
      ]
     },
     "execution_count": 12,
     "metadata": {},
     "output_type": "execute_result"
    }
   ],
   "source": [
    "# Add column words\n",
    "\n",
    "df['words'] = [re.sub(r'([^a-z0-9\\s]|\\s.\\s)', '', doc)\\\n",
    "               .split() for doc in df.lemmatized]\n",
    "\n",
    "# Take a peek at the new df\n",
    "df.head(2)"
   ]
  },
  {
   "cell_type": "code",
   "execution_count": 13,
   "metadata": {},
   "outputs": [
    {
     "data": {
      "text/html": [
       "<div>\n",
       "<style scoped>\n",
       "    .dataframe tbody tr th:only-of-type {\n",
       "        vertical-align: middle;\n",
       "    }\n",
       "\n",
       "    .dataframe tbody tr th {\n",
       "        vertical-align: top;\n",
       "    }\n",
       "\n",
       "    .dataframe thead th {\n",
       "        text-align: right;\n",
       "    }\n",
       "</style>\n",
       "<table border=\"1\" class=\"dataframe\">\n",
       "  <thead>\n",
       "    <tr style=\"text-align: right;\">\n",
       "      <th></th>\n",
       "      <th>language</th>\n",
       "      <th>readme_contents</th>\n",
       "      <th>stemmed</th>\n",
       "      <th>lemmatized</th>\n",
       "      <th>clean</th>\n",
       "      <th>words</th>\n",
       "    </tr>\n",
       "  </thead>\n",
       "  <tbody>\n",
       "    <tr>\n",
       "      <th>0</th>\n",
       "      <td>other</td>\n",
       "      <td># Welcome to Chapter\\n[![All Contributors](htt...</td>\n",
       "      <td>welcom to chapter all contributorshttpsimgshie...</td>\n",
       "      <td>welcome to chapter all contributorshttpsimgshi...</td>\n",
       "      <td>welcome chapter contributorshttpsimgshieldsiob...</td>\n",
       "      <td>[welcome, to, chapter, all, contributorshttpsi...</td>\n",
       "    </tr>\n",
       "  </tbody>\n",
       "</table>\n",
       "</div>"
      ],
      "text/plain": [
       "  language                                    readme_contents  \\\n",
       "0    other  # Welcome to Chapter\\n[![All Contributors](htt...   \n",
       "\n",
       "                                             stemmed  \\\n",
       "0  welcom to chapter all contributorshttpsimgshie...   \n",
       "\n",
       "                                          lemmatized  \\\n",
       "0  welcome to chapter all contributorshttpsimgshi...   \n",
       "\n",
       "                                               clean  \\\n",
       "0  welcome chapter contributorshttpsimgshieldsiob...   \n",
       "\n",
       "                                               words  \n",
       "0  [welcome, to, chapter, all, contributorshttpsi...  "
      ]
     },
     "execution_count": 13,
     "metadata": {},
     "output_type": "execute_result"
    }
   ],
   "source": [
    "# Drop the column repo\n",
    "df.drop(columns = 'repo', inplace=True)\n",
    "\n",
    "# Take a peek at the df\n",
    "df.head(1)"
   ]
  },
  {
   "cell_type": "code",
   "execution_count": 14,
   "metadata": {},
   "outputs": [
    {
     "data": {
      "text/html": [
       "<div>\n",
       "<style scoped>\n",
       "    .dataframe tbody tr th:only-of-type {\n",
       "        vertical-align: middle;\n",
       "    }\n",
       "\n",
       "    .dataframe tbody tr th {\n",
       "        vertical-align: top;\n",
       "    }\n",
       "\n",
       "    .dataframe thead th {\n",
       "        text-align: right;\n",
       "    }\n",
       "</style>\n",
       "<table border=\"1\" class=\"dataframe\">\n",
       "  <thead>\n",
       "    <tr style=\"text-align: right;\">\n",
       "      <th></th>\n",
       "      <th>language</th>\n",
       "      <th>readme_contents</th>\n",
       "      <th>lemmatized</th>\n",
       "      <th>clean</th>\n",
       "      <th>words</th>\n",
       "    </tr>\n",
       "  </thead>\n",
       "  <tbody>\n",
       "    <tr>\n",
       "      <th>0</th>\n",
       "      <td>other</td>\n",
       "      <td># Welcome to Chapter\\n[![All Contributors](htt...</td>\n",
       "      <td>welcome to chapter all contributorshttpsimgshi...</td>\n",
       "      <td>welcome chapter contributorshttpsimgshieldsiob...</td>\n",
       "      <td>[welcome, to, chapter, all, contributorshttpsi...</td>\n",
       "    </tr>\n",
       "  </tbody>\n",
       "</table>\n",
       "</div>"
      ],
      "text/plain": [
       "  language                                    readme_contents  \\\n",
       "0    other  # Welcome to Chapter\\n[![All Contributors](htt...   \n",
       "\n",
       "                                          lemmatized  \\\n",
       "0  welcome to chapter all contributorshttpsimgshi...   \n",
       "\n",
       "                                               clean  \\\n",
       "0  welcome chapter contributorshttpsimgshieldsiob...   \n",
       "\n",
       "                                               words  \n",
       "0  [welcome, to, chapter, all, contributorshttpsi...  "
      ]
     },
     "execution_count": 14,
     "metadata": {},
     "output_type": "execute_result"
    }
   ],
   "source": [
    "# Drop the stemmed column\n",
    "df.drop(columns='stemmed', inplace=True)\n",
    "\n",
    "# Take a peek at the df\n",
    "df.head(1)"
   ]
  },
  {
   "cell_type": "code",
   "execution_count": 15,
   "metadata": {},
   "outputs": [
    {
     "data": {
      "text/html": [
       "<div>\n",
       "<style scoped>\n",
       "    .dataframe tbody tr th:only-of-type {\n",
       "        vertical-align: middle;\n",
       "    }\n",
       "\n",
       "    .dataframe tbody tr th {\n",
       "        vertical-align: top;\n",
       "    }\n",
       "\n",
       "    .dataframe thead th {\n",
       "        text-align: right;\n",
       "    }\n",
       "</style>\n",
       "<table border=\"1\" class=\"dataframe\">\n",
       "  <thead>\n",
       "    <tr style=\"text-align: right;\">\n",
       "      <th></th>\n",
       "      <th>label</th>\n",
       "      <th>text</th>\n",
       "      <th>lemmatized</th>\n",
       "      <th>clean</th>\n",
       "      <th>words</th>\n",
       "    </tr>\n",
       "  </thead>\n",
       "  <tbody>\n",
       "    <tr>\n",
       "      <th>0</th>\n",
       "      <td>other</td>\n",
       "      <td># Welcome to Chapter\\n[![All Contributors](htt...</td>\n",
       "      <td>welcome to chapter all contributorshttpsimgshi...</td>\n",
       "      <td>welcome chapter contributorshttpsimgshieldsiob...</td>\n",
       "      <td>[welcome, to, chapter, all, contributorshttpsi...</td>\n",
       "    </tr>\n",
       "  </tbody>\n",
       "</table>\n",
       "</div>"
      ],
      "text/plain": [
       "   label                                               text  \\\n",
       "0  other  # Welcome to Chapter\\n[![All Contributors](htt...   \n",
       "\n",
       "                                          lemmatized  \\\n",
       "0  welcome to chapter all contributorshttpsimgshi...   \n",
       "\n",
       "                                               clean  \\\n",
       "0  welcome chapter contributorshttpsimgshieldsiob...   \n",
       "\n",
       "                                               words  \n",
       "0  [welcome, to, chapter, all, contributorshttpsi...  "
      ]
     },
     "execution_count": 15,
     "metadata": {},
     "output_type": "execute_result"
    }
   ],
   "source": [
    "# Rename the columns\n",
    "df.columns = ['label', 'text', 'lemmatized', 'clean', 'words']\n",
    "\n",
    "# Take a peek at the df\n",
    "df.head(1)"
   ]
  },
  {
   "cell_type": "markdown",
   "metadata": {},
   "source": [
    "## Modeling\n",
    "### Goal: to predict the language used for the repo is JavaScript or not (binary classification)."
   ]
  },
  {
   "cell_type": "markdown",
   "metadata": {},
   "source": [
    "#### Split into train and validate"
   ]
  },
  {
   "cell_type": "code",
   "execution_count": 17,
   "metadata": {},
   "outputs": [],
   "source": [
    "train, validate = train_test_split(df[['label', 'clean']], \n",
    "                                   stratify=df.label, \n",
    "                                   test_size=.2,\n",
    "                                   random_state=123)"
   ]
  },
  {
   "cell_type": "code",
   "execution_count": 18,
   "metadata": {
    "scrolled": true
   },
   "outputs": [
    {
     "name": "stdout",
     "output_type": "stream",
     "text": [
      "js       40\n",
      "other    33\n",
      "Name: label, dtype: int64\n",
      "js       10\n",
      "other     9\n",
      "Name: label, dtype: int64\n"
     ]
    },
    {
     "data": {
      "text/html": [
       "<div>\n",
       "<style scoped>\n",
       "    .dataframe tbody tr th:only-of-type {\n",
       "        vertical-align: middle;\n",
       "    }\n",
       "\n",
       "    .dataframe tbody tr th {\n",
       "        vertical-align: top;\n",
       "    }\n",
       "\n",
       "    .dataframe thead th {\n",
       "        text-align: right;\n",
       "    }\n",
       "</style>\n",
       "<table border=\"1\" class=\"dataframe\">\n",
       "  <thead>\n",
       "    <tr style=\"text-align: right;\">\n",
       "      <th></th>\n",
       "      <th>label</th>\n",
       "      <th>clean</th>\n",
       "    </tr>\n",
       "  </thead>\n",
       "  <tbody>\n",
       "    <tr>\n",
       "      <th>78</th>\n",
       "      <td>js</td>\n",
       "      <td>longer please search mono repohttpsgithubcomfr...</td>\n",
       "    </tr>\n",
       "    <tr>\n",
       "      <th>69</th>\n",
       "      <td>js</td>\n",
       "      <td>open source good directory directory freecodec...</td>\n",
       "    </tr>\n",
       "    <tr>\n",
       "      <th>3</th>\n",
       "      <td>other</td>\n",
       "      <td>usage 1 create env txt rocketchat_versionlates...</td>\n",
       "    </tr>\n",
       "    <tr>\n",
       "      <th>73</th>\n",
       "      <td>other</td>\n",
       "      <td>happy new year 2017 simple website host open20...</td>\n",
       "    </tr>\n",
       "    <tr>\n",
       "      <th>86</th>\n",
       "      <td>js</td>\n",
       "      <td>pm2 pager get notification exception pm2 nodem...</td>\n",
       "    </tr>\n",
       "  </tbody>\n",
       "</table>\n",
       "</div>"
      ],
      "text/plain": [
       "    label                                              clean\n",
       "78     js  longer please search mono repohttpsgithubcomfr...\n",
       "69     js  open source good directory directory freecodec...\n",
       "3   other  usage 1 create env txt rocketchat_versionlates...\n",
       "73  other  happy new year 2017 simple website host open20...\n",
       "86     js  pm2 pager get notification exception pm2 nodem..."
      ]
     },
     "execution_count": 18,
     "metadata": {},
     "output_type": "execute_result"
    }
   ],
   "source": [
    "print(train.label.value_counts())\n",
    "print(validate.label.value_counts())\n",
    "train.head()"
   ]
  },
  {
   "cell_type": "markdown",
   "metadata": {},
   "source": [
    "#### Compute the baseline accuracy"
   ]
  },
  {
   "cell_type": "code",
   "execution_count": 19,
   "metadata": {},
   "outputs": [
    {
     "data": {
      "text/html": [
       "<div>\n",
       "<style scoped>\n",
       "    .dataframe tbody tr th:only-of-type {\n",
       "        vertical-align: middle;\n",
       "    }\n",
       "\n",
       "    .dataframe tbody tr th {\n",
       "        vertical-align: top;\n",
       "    }\n",
       "\n",
       "    .dataframe thead th {\n",
       "        text-align: right;\n",
       "    }\n",
       "</style>\n",
       "<table border=\"1\" class=\"dataframe\">\n",
       "  <thead>\n",
       "    <tr style=\"text-align: right;\">\n",
       "      <th></th>\n",
       "      <th>n</th>\n",
       "      <th>percent</th>\n",
       "    </tr>\n",
       "  </thead>\n",
       "  <tbody>\n",
       "    <tr>\n",
       "      <th>js</th>\n",
       "      <td>40</td>\n",
       "      <td>0.547945</td>\n",
       "    </tr>\n",
       "    <tr>\n",
       "      <th>other</th>\n",
       "      <td>33</td>\n",
       "      <td>0.452055</td>\n",
       "    </tr>\n",
       "  </tbody>\n",
       "</table>\n",
       "</div>"
      ],
      "text/plain": [
       "        n   percent\n",
       "js     40  0.547945\n",
       "other  33  0.452055"
      ]
     },
     "execution_count": 19,
     "metadata": {},
     "output_type": "execute_result"
    }
   ],
   "source": [
    "labels = pd.concat([train.label.value_counts(), # get total counts of js vs other\n",
    "                    train.label.value_counts(normalize=True)], axis=1) # getting the prop of js vs other\n",
    "labels.columns = ['n', 'percent']\n",
    "labels"
   ]
  },
  {
   "cell_type": "markdown",
   "metadata": {},
   "source": [
    "**Takeaway**:\n",
    "- The baseline accuracy is 55%. "
   ]
  },
  {
   "cell_type": "markdown",
   "metadata": {},
   "source": [
    "### Feature Generation: Bag of Words"
   ]
  },
  {
   "cell_type": "code",
   "execution_count": 22,
   "metadata": {
    "scrolled": false
   },
   "outputs": [
    {
     "data": {
      "text/plain": [
       "['add',\n",
       " 'build',\n",
       " 'code',\n",
       " 'create',\n",
       " 'data',\n",
       " 'development',\n",
       " 'file',\n",
       " 'following',\n",
       " 'like',\n",
       " 'make',\n",
       " 'new',\n",
       " 'npm',\n",
       " 'open',\n",
       " 'project',\n",
       " 'set',\n",
       " 'test',\n",
       " 'url']"
      ]
     },
     "execution_count": 22,
     "metadata": {},
     "output_type": "execute_result"
    }
   ],
   "source": [
    "# Create CountVectorizer, which create bag-of-words model.\n",
    "# stop_words : Specify language to remove stopwords. \n",
    "# min_df: ignore terms that have a document frequency strictly \n",
    "# lower than the given threshold. This value is also called cut-off in the literature. \n",
    "# If float, the parameter represents a proportion of documents, integer absolute counts. \n",
    "# ngram_range: the lower and upper boundary of the range of n-values for \n",
    "# different word n-grams or char n-grams to be extracted. \n",
    "\n",
    "vectorizer = CountVectorizer(stop_words='english', \n",
    "                             min_df=15, \n",
    "                             ngram_range=(1,2), \n",
    "                             binary=True)\n",
    "\n",
    "# Learn vocabulary in sentences. \n",
    "vectorizer.fit(train.clean)\n",
    "\n",
    "# Get dictionary. \n",
    "vectorizer.get_feature_names()"
   ]
  },
  {
   "cell_type": "code",
   "execution_count": 23,
   "metadata": {},
   "outputs": [],
   "source": [
    "# Transform each sentences in vector space.\n",
    "X_train_bow = vectorizer.transform(train.clean)\n",
    "X_validate_bow = vectorizer.transform(validate.clean)"
   ]
  },
  {
   "cell_type": "code",
   "execution_count": 25,
   "metadata": {},
   "outputs": [
    {
     "data": {
      "text/plain": [
       "array([0, 0, 0, 0, 0, 0, 0, 0, 0, 0, 0, 0, 0, 0, 0, 0, 0])"
      ]
     },
     "execution_count": 25,
     "metadata": {},
     "output_type": "execute_result"
    }
   ],
   "source": [
    "# this is just to see the array of 0's and 1's\n",
    "X_train_bowarray = X_train_bow.toarray()\n",
    "X_validate_bowarray = X_validate_bow.toarray()\n",
    "X_train_bowarray[0]"
   ]
  },
  {
   "cell_type": "code",
   "execution_count": null,
   "metadata": {
    "scrolled": false
   },
   "outputs": [],
   "source": [
    "# # Show sentences and vector space representation.\n",
    "# # purely to visualize what's happening.\n",
    "# for i, v in zip(train.clean, bow_array):\n",
    "#     print(i)\n",
    "#     print(v)"
   ]
  },
  {
   "cell_type": "markdown",
   "metadata": {},
   "source": [
    "### Feature Generation: TF-IDF"
   ]
  },
  {
   "cell_type": "code",
   "execution_count": 33,
   "metadata": {},
   "outputs": [
    {
     "data": {
      "text/plain": [
       "<73x17 sparse matrix of type '<class 'numpy.float64'>'\n",
       "\twith 312 stored elements in Compressed Sparse Row format>"
      ]
     },
     "execution_count": 33,
     "metadata": {},
     "output_type": "execute_result"
    }
   ],
   "source": [
    "# Transform the clean text into sparse matrix\n",
    "\n",
    "tfidf = TfidfVectorizer(stop_words='english', min_df=15, \n",
    "                        ngram_range=(1,2), \n",
    "                        binary=True)\n",
    "\n",
    "# Fit on cleaned text in train\n",
    "tfidf = tfidf.fit(train.clean)\n",
    "\n",
    "# Transform the train and validate\n",
    "X_train_tfidf = tfidf.transform(train.clean)\n",
    "X_vaildate_tfidf = tfidf.transform(validate.clean)\n",
    "\n",
    "# Take a peek at \n",
    "X_train_tfidf"
   ]
  },
  {
   "cell_type": "code",
   "execution_count": 34,
   "metadata": {},
   "outputs": [
    {
     "data": {
      "text/html": [
       "<div>\n",
       "<style scoped>\n",
       "    .dataframe tbody tr th:only-of-type {\n",
       "        vertical-align: middle;\n",
       "    }\n",
       "\n",
       "    .dataframe tbody tr th {\n",
       "        vertical-align: top;\n",
       "    }\n",
       "\n",
       "    .dataframe thead th {\n",
       "        text-align: right;\n",
       "    }\n",
       "</style>\n",
       "<table border=\"1\" class=\"dataframe\">\n",
       "  <thead>\n",
       "    <tr style=\"text-align: right;\">\n",
       "      <th></th>\n",
       "      <th>add</th>\n",
       "      <th>build</th>\n",
       "      <th>code</th>\n",
       "      <th>create</th>\n",
       "      <th>data</th>\n",
       "      <th>development</th>\n",
       "      <th>file</th>\n",
       "      <th>following</th>\n",
       "      <th>like</th>\n",
       "      <th>make</th>\n",
       "      <th>new</th>\n",
       "      <th>npm</th>\n",
       "      <th>open</th>\n",
       "      <th>project</th>\n",
       "      <th>set</th>\n",
       "      <th>test</th>\n",
       "      <th>url</th>\n",
       "    </tr>\n",
       "  </thead>\n",
       "  <tbody>\n",
       "    <tr>\n",
       "      <th>0</th>\n",
       "      <td>0.000000</td>\n",
       "      <td>0.000000</td>\n",
       "      <td>0.000000</td>\n",
       "      <td>0.00000</td>\n",
       "      <td>0.000000</td>\n",
       "      <td>0.0</td>\n",
       "      <td>0.000000</td>\n",
       "      <td>0.000000</td>\n",
       "      <td>0.0</td>\n",
       "      <td>0.000000</td>\n",
       "      <td>0.0</td>\n",
       "      <td>0.000000</td>\n",
       "      <td>0.000000</td>\n",
       "      <td>0.000000</td>\n",
       "      <td>0.0</td>\n",
       "      <td>0.0</td>\n",
       "      <td>0.0</td>\n",
       "    </tr>\n",
       "    <tr>\n",
       "      <th>1</th>\n",
       "      <td>0.303177</td>\n",
       "      <td>0.310124</td>\n",
       "      <td>0.284341</td>\n",
       "      <td>0.27863</td>\n",
       "      <td>0.317468</td>\n",
       "      <td>0.0</td>\n",
       "      <td>0.317468</td>\n",
       "      <td>0.325258</td>\n",
       "      <td>0.0</td>\n",
       "      <td>0.303177</td>\n",
       "      <td>0.0</td>\n",
       "      <td>0.325258</td>\n",
       "      <td>0.310124</td>\n",
       "      <td>0.228409</td>\n",
       "      <td>0.0</td>\n",
       "      <td>0.0</td>\n",
       "      <td>0.0</td>\n",
       "    </tr>\n",
       "    <tr>\n",
       "      <th>2</th>\n",
       "      <td>0.000000</td>\n",
       "      <td>0.000000</td>\n",
       "      <td>0.000000</td>\n",
       "      <td>1.00000</td>\n",
       "      <td>0.000000</td>\n",
       "      <td>0.0</td>\n",
       "      <td>0.000000</td>\n",
       "      <td>0.000000</td>\n",
       "      <td>0.0</td>\n",
       "      <td>0.000000</td>\n",
       "      <td>0.0</td>\n",
       "      <td>0.000000</td>\n",
       "      <td>0.000000</td>\n",
       "      <td>0.000000</td>\n",
       "      <td>0.0</td>\n",
       "      <td>0.0</td>\n",
       "      <td>0.0</td>\n",
       "    </tr>\n",
       "    <tr>\n",
       "      <th>3</th>\n",
       "      <td>0.000000</td>\n",
       "      <td>0.000000</td>\n",
       "      <td>0.000000</td>\n",
       "      <td>0.00000</td>\n",
       "      <td>0.000000</td>\n",
       "      <td>0.0</td>\n",
       "      <td>0.000000</td>\n",
       "      <td>0.000000</td>\n",
       "      <td>0.0</td>\n",
       "      <td>0.000000</td>\n",
       "      <td>1.0</td>\n",
       "      <td>0.000000</td>\n",
       "      <td>0.000000</td>\n",
       "      <td>0.000000</td>\n",
       "      <td>0.0</td>\n",
       "      <td>0.0</td>\n",
       "      <td>0.0</td>\n",
       "    </tr>\n",
       "    <tr>\n",
       "      <th>4</th>\n",
       "      <td>0.000000</td>\n",
       "      <td>0.000000</td>\n",
       "      <td>0.000000</td>\n",
       "      <td>0.00000</td>\n",
       "      <td>0.000000</td>\n",
       "      <td>0.0</td>\n",
       "      <td>0.000000</td>\n",
       "      <td>0.000000</td>\n",
       "      <td>0.0</td>\n",
       "      <td>0.000000</td>\n",
       "      <td>0.0</td>\n",
       "      <td>0.000000</td>\n",
       "      <td>0.000000</td>\n",
       "      <td>0.000000</td>\n",
       "      <td>0.0</td>\n",
       "      <td>0.0</td>\n",
       "      <td>0.0</td>\n",
       "    </tr>\n",
       "  </tbody>\n",
       "</table>\n",
       "</div>"
      ],
      "text/plain": [
       "        add     build      code   create      data  development      file  \\\n",
       "0  0.000000  0.000000  0.000000  0.00000  0.000000          0.0  0.000000   \n",
       "1  0.303177  0.310124  0.284341  0.27863  0.317468          0.0  0.317468   \n",
       "2  0.000000  0.000000  0.000000  1.00000  0.000000          0.0  0.000000   \n",
       "3  0.000000  0.000000  0.000000  0.00000  0.000000          0.0  0.000000   \n",
       "4  0.000000  0.000000  0.000000  0.00000  0.000000          0.0  0.000000   \n",
       "\n",
       "   following  like      make  new       npm      open   project  set  test  \\\n",
       "0   0.000000   0.0  0.000000  0.0  0.000000  0.000000  0.000000  0.0   0.0   \n",
       "1   0.325258   0.0  0.303177  0.0  0.325258  0.310124  0.228409  0.0   0.0   \n",
       "2   0.000000   0.0  0.000000  0.0  0.000000  0.000000  0.000000  0.0   0.0   \n",
       "3   0.000000   0.0  0.000000  1.0  0.000000  0.000000  0.000000  0.0   0.0   \n",
       "4   0.000000   0.0  0.000000  0.0  0.000000  0.000000  0.000000  0.0   0.0   \n",
       "\n",
       "   url  \n",
       "0  0.0  \n",
       "1  0.0  \n",
       "2  0.0  \n",
       "3  0.0  \n",
       "4  0.0  "
      ]
     },
     "execution_count": 34,
     "metadata": {},
     "output_type": "execute_result"
    }
   ],
   "source": [
    "# Conver to datafame\n",
    "pd.DataFrame(tfidf_sparse_matrix.todense(), columns=tfidf.get_feature_names()).head()"
   ]
  },
  {
   "cell_type": "code",
   "execution_count": 35,
   "metadata": {
    "scrolled": false
   },
   "outputs": [
    {
     "data": {
      "text/plain": [
       "{'open': 12,\n",
       " 'project': 13,\n",
       " 'add': 0,\n",
       " 'file': 6,\n",
       " 'build': 1,\n",
       " 'data': 4,\n",
       " 'make': 9,\n",
       " 'npm': 11,\n",
       " 'create': 3,\n",
       " 'following': 7,\n",
       " 'code': 2,\n",
       " 'new': 10,\n",
       " 'test': 15,\n",
       " 'like': 8,\n",
       " 'set': 14,\n",
       " 'development': 5,\n",
       " 'url': 16}"
      ]
     },
     "execution_count": 35,
     "metadata": {},
     "output_type": "execute_result"
    }
   ],
   "source": [
    "# Get vocabularies.\n",
    "tfidf.vocabulary_"
   ]
  },
  {
   "cell_type": "code",
   "execution_count": 42,
   "metadata": {
    "scrolled": false
   },
   "outputs": [
    {
     "data": {
      "text/plain": [
       "array([[0.        , 0.        , 0.        , ..., 0.        , 0.        ,\n",
       "        0.        ],\n",
       "       [0.3031775 , 0.31012434, 0.28434109, ..., 0.        , 0.        ,\n",
       "        0.        ],\n",
       "       [0.        , 0.        , 0.        , ..., 0.        , 0.        ,\n",
       "        0.        ],\n",
       "       ...,\n",
       "       [0.27946988, 0.        , 0.26210642, ..., 0.27339479, 0.26761617,\n",
       "        0.29982351],\n",
       "       [0.        , 0.        , 0.        , ..., 0.        , 0.        ,\n",
       "        0.        ],\n",
       "       [0.        , 0.        , 0.59392899, ..., 0.        , 0.        ,\n",
       "        0.        ]])"
      ]
     },
     "execution_count": 42,
     "metadata": {},
     "output_type": "execute_result"
    }
   ],
   "source": [
    "# Transform to document-term matrix\n",
    "X_train_tfidf.toarray()"
   ]
  },
  {
   "cell_type": "code",
   "execution_count": null,
   "metadata": {
    "scrolled": false
   },
   "outputs": [],
   "source": [
    "# # Show sentences and vector space representation.\n",
    "# # \n",
    "# # (A, B) C\n",
    "# # A : Document Index\n",
    "# # B : Specific word-vector index\n",
    "# # C : TF-IDF score\n",
    "# for i, v in zip(train.clean, vector_spaces):\n",
    "#     print(i)\n",
    "#     print(v)"
   ]
  },
  {
   "cell_type": "markdown",
   "metadata": {},
   "source": [
    "### Model on Train using LogisticRegression"
   ]
  },
  {
   "cell_type": "code",
   "execution_count": 38,
   "metadata": {},
   "outputs": [],
   "source": [
    "# create our y dataset\n",
    "y_train = train['label']\n",
    "y_validate = validate['label']"
   ]
  },
  {
   "cell_type": "markdown",
   "metadata": {},
   "source": [
    "#### Model on bow features"
   ]
  },
  {
   "cell_type": "code",
   "execution_count": 39,
   "metadata": {},
   "outputs": [],
   "source": [
    "# Create the LogisticRegressioin object and fit on train\n",
    "lm = LogisticRegression().fit(X_train_bow, y_train)\n",
    "\n",
    "# Predict the labels for the train\n",
    "y_pred = lm.predict(X_train_bow)"
   ]
  },
  {
   "cell_type": "code",
   "execution_count": 40,
   "metadata": {},
   "outputs": [
    {
     "data": {
      "text/plain": [
       "array([[36,  4],\n",
       "       [14, 19]])"
      ]
     },
     "execution_count": 40,
     "metadata": {},
     "output_type": "execute_result"
    }
   ],
   "source": [
    "# Compute the confusion matrix\n",
    "confusion_matrix(train.label, y_pred)"
   ]
  },
  {
   "cell_type": "code",
   "execution_count": 41,
   "metadata": {},
   "outputs": [
    {
     "name": "stdout",
     "output_type": "stream",
     "text": [
      "              precision    recall  f1-score   support\n",
      "\n",
      "          js       0.72      0.90      0.80        40\n",
      "       other       0.83      0.58      0.68        33\n",
      "\n",
      "    accuracy                           0.75        73\n",
      "   macro avg       0.77      0.74      0.74        73\n",
      "weighted avg       0.77      0.75      0.75        73\n",
      "\n"
     ]
    }
   ],
   "source": [
    "# Compute the performance metrics\n",
    "print(classification_report(train.label, y_pred))"
   ]
  },
  {
   "cell_type": "markdown",
   "metadata": {},
   "source": [
    "**Takeaways**\n",
    "- when min_df = 20: \n",
    "    - The accuracy is 67%, which beats the baseline \n",
    "    - The lm performs better on predicting the JavaScript than other language.\n",
    "- when min_df = 10:\n",
    "    - The accuracy is 81%, which get improved by 14%. "
   ]
  },
  {
   "cell_type": "markdown",
   "metadata": {},
   "source": [
    "#### Model TFIDF"
   ]
  },
  {
   "cell_type": "code",
   "execution_count": null,
   "metadata": {},
   "outputs": [],
   "source": [
    "# Fit the LogisticRegression on TFIDF features\n",
    "lm_tfidf = LogisticRegression().fit(X_tfidf, y)\n",
    "\n",
    "# Predic the labels\n",
    "y_pred = lm_tfidf.predict(X_tfidf)"
   ]
  },
  {
   "cell_type": "code",
   "execution_count": null,
   "metadata": {},
   "outputs": [],
   "source": [
    "# Compute the confusion matrix\n",
    "confusion_matrix(train.label, y_pred)"
   ]
  },
  {
   "cell_type": "code",
   "execution_count": null,
   "metadata": {
    "scrolled": true
   },
   "outputs": [],
   "source": [
    "# Compute the performance metrics\n",
    "print(classification_report(train.label, y_pred))"
   ]
  },
  {
   "cell_type": "markdown",
   "metadata": {},
   "source": [
    "**Takeaways**\n",
    "- When min_df = 20\n",
    "    - The accuracy is 0.64, which also beats the baseline.\n",
    "    - Simiar to bow features, the lm performs better on predicting the JavaScript than other language.\n",
    "- When min_df = 10\n",
    "    - The accuracy is 0.75, which get improved by 10%. "
   ]
  },
  {
   "cell_type": "markdown",
   "metadata": {},
   "source": [
    "### Model on Validate"
   ]
  },
  {
   "cell_type": "code",
   "execution_count": null,
   "metadata": {},
   "outputs": [],
   "source": [
    "# Create the bow and tfidf features for the validate\n",
    "\n",
    "X_bow_validate = vectorizer.transform(validate.clean)\n",
    "X_tfidf_validate = tfidf.transform(validate.clean)"
   ]
  },
  {
   "cell_type": "code",
   "execution_count": null,
   "metadata": {},
   "outputs": [],
   "source": [
    "# Predict the labels basded on both features. \n",
    "\n",
    "y_pred_bow = lm.predict(X_bow_validate)\n",
    "y_pred_tfidf = lm_tfidf.predict(X_tfidf_validate)"
   ]
  },
  {
   "cell_type": "code",
   "execution_count": null,
   "metadata": {
    "scrolled": true
   },
   "outputs": [],
   "source": [
    "# Compute the performance metrics for bow features. \n",
    "print(classification_report(validate.label, y_pred_bow))"
   ]
  },
  {
   "cell_type": "code",
   "execution_count": null,
   "metadata": {},
   "outputs": [],
   "source": [
    "# Compute the performance metrics for tfidf features.\n",
    "print(classification_report(validate.label, y_pred_tfidf))"
   ]
  },
  {
   "cell_type": "markdown",
   "metadata": {},
   "source": [
    "**Takeaways**\n",
    "- The accuracy drops back to 63% for bow features and below the baseline for tfidf features, which indicates overfitting issue but still beats the baseline.\n",
    "- Other metrics such as precision and recall drop about by 10-20%."
   ]
  },
  {
   "cell_type": "markdown",
   "metadata": {},
   "source": [
    "**Future Works**:\n",
    "1. To enlarge the dataset.\n",
    "2. Try different classification algorithms.\n",
    "3. To exclude the 'run', 'repository' and similar words to reduce the noise. "
   ]
  },
  {
   "cell_type": "markdown",
   "metadata": {},
   "source": [
    "### How does the min_df affect the model performance?"
   ]
  },
  {
   "cell_type": "code",
   "execution_count": null,
   "metadata": {},
   "outputs": [],
   "source": [
    "# Loop through \n",
    "\n",
    "metrics = []\n",
    "lr = LogisticRegression()\n",
    "\n",
    "for i in range (5, 21):\n",
    "    vectorizer = CountVectorizer(stop_words='english', \n",
    "                                 min_df=i, \n",
    "                                 ngram_range=(1,2), \n",
    "                                 binary=True)\n",
    "    vectorizer = vectorizer.fit(train.clean)\n",
    "    X_train = vectorizer.transform(train.clean)\n",
    "    X_validate = vectorizer.transform(validate.clean)\n",
    "    lr = lr.fit(X_train, y)\n",
    "    y_pred_train = lr.predict(X_train)\n",
    "    y_pred_validate = lr.predict(X_validate)\n",
    "    d1 = model.estimator_report(i, 'train', train.label, y_pred_train)\n",
    "    metrics.append(d1)\n",
    "    d2 = model.estimator_report(i, 'validate', validate.label, y_pred_validate)\n",
    "    metrics.append(d2)"
   ]
  },
  {
   "cell_type": "code",
   "execution_count": null,
   "metadata": {
    "scrolled": false
   },
   "outputs": [],
   "source": [
    "# Conver the metrics into dataframe\n",
    "\n",
    "metrics = pd.DataFrame(metrics)\n",
    "metrics.head()"
   ]
  },
  {
   "cell_type": "code",
   "execution_count": null,
   "metadata": {},
   "outputs": [],
   "source": [
    "# Rename the columns\n",
    "metrics.rename(columns={'model_type':'min_df'}, inplace=True)"
   ]
  },
  {
   "cell_type": "code",
   "execution_count": null,
   "metadata": {},
   "outputs": [],
   "source": [
    "# Scatterplot the accuracy against the min_df \n",
    "\n",
    "sns.scatterplot(data=metrics, x='min_df', y='accuracy', hue='data_type')\n",
    "plt.axhline(y=0.54)\n",
    "plt.show()"
   ]
  },
  {
   "cell_type": "code",
   "execution_count": null,
   "metadata": {},
   "outputs": [],
   "source": [
    "feature_names14 = CountVectorizer(stop_words='english', \n",
    "                                 min_df=14, \n",
    "                                 ngram_range=(1,2), \n",
    "                                 binary=True).fit(train.clean).get_feature_names()"
   ]
  },
  {
   "cell_type": "code",
   "execution_count": null,
   "metadata": {},
   "outputs": [],
   "source": [
    "feature_names15 = CountVectorizer(stop_words='english', \n",
    "                                 min_df=15, \n",
    "                                 ngram_range=(1,2), \n",
    "                                 binary=True).fit(train.clean).get_feature_names()"
   ]
  },
  {
   "cell_type": "code",
   "execution_count": null,
   "metadata": {},
   "outputs": [],
   "source": [
    "set(feature_names14) - set(feature_names15)"
   ]
  },
  {
   "cell_type": "markdown",
   "metadata": {},
   "source": [
    "### How does ngram_range affect the model performance?"
   ]
  },
  {
   "cell_type": "code",
   "execution_count": null,
   "metadata": {},
   "outputs": [],
   "source": [
    "# Loop through \n",
    "\n",
    "metrics = []\n",
    "lr = LogisticRegression()\n",
    "\n",
    "for i in range (2,6):\n",
    "    vectorizer = CountVectorizer(stop_words='english', \n",
    "                                 min_df=15, \n",
    "                                 ngram_range=(1,i), \n",
    "                                 binary=True)\n",
    "    print(vectorizer)\n",
    "    vectorizer = vectorizer.fit(train.clean)\n",
    "    X_train = vectorizer.transform(train.clean)\n",
    "    X_validate = vectorizer.transform(validate.clean)\n",
    "    lr = lr.fit(X_train, y)\n",
    "    y_pred_train = lr.predict(X_train)\n",
    "    y_pred_validate = lr.predict(X_validate)\n",
    "    d1 = model.estimator_report(i, 'train', train.label, y_pred_train)\n",
    "    metrics.append(d1)\n",
    "    d2 = model.estimator_report(i, 'validate', validate.label, y_pred_validate)\n",
    "    metrics.append(d2)"
   ]
  },
  {
   "cell_type": "code",
   "execution_count": null,
   "metadata": {},
   "outputs": [],
   "source": [
    "metrics = pd.DataFrame(metrics)\n",
    "metrics"
   ]
  },
  {
   "cell_type": "code",
   "execution_count": null,
   "metadata": {},
   "outputs": [],
   "source": [
    "# Rename the columns\n",
    "metrics.rename(columns={'model_type':'ngram_range'}, inplace=True)"
   ]
  },
  {
   "cell_type": "code",
   "execution_count": null,
   "metadata": {},
   "outputs": [],
   "source": [
    "# Scatterplot the accuracy against the min_df \n",
    "\n",
    "sns.scatterplot(data=metrics, x='ngram_range', y='accuracy', hue='data_type')\n",
    "plt.axhline(y=0.54)\n",
    "plt.show()"
   ]
  },
  {
   "cell_type": "markdown",
   "metadata": {},
   "source": [
    "### Model train by Naive Bayes"
   ]
  },
  {
   "cell_type": "code",
   "execution_count": null,
   "metadata": {},
   "outputs": [],
   "source": [
    "# Create the naive bayes object by default\n",
    "gnb = GaussianNB()\n",
    "\n",
    "# Fit on train on bow and ti\n",
    "\n",
    "gnb = gnb.fit(X_bow.toarray(), y)\n",
    "gnb\n",
    "\n",
    "y_pred = gnb.predict(X_bow.toarray())"
   ]
  },
  {
   "cell_type": "code",
   "execution_count": null,
   "metadata": {},
   "outputs": [],
   "source": [
    "# Compute the performance metrics\n",
    "print(classification_report(train.label, y_pred))"
   ]
  },
  {
   "cell_type": "code",
   "execution_count": null,
   "metadata": {},
   "outputs": [],
   "source": []
  }
 ],
 "metadata": {
  "kernelspec": {
   "display_name": "Python 3",
   "language": "python",
   "name": "python3"
  },
  "language_info": {
   "codemirror_mode": {
    "name": "ipython",
    "version": 3
   },
   "file_extension": ".py",
   "mimetype": "text/x-python",
   "name": "python",
   "nbconvert_exporter": "python",
   "pygments_lexer": "ipython3",
   "version": "3.7.6"
  }
 },
 "nbformat": 4,
 "nbformat_minor": 4
}
