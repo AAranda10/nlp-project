{
 "cells": [
  {
   "cell_type": "code",
   "execution_count": 26,
   "metadata": {},
   "outputs": [],
   "source": [
    "# Import libraries\n",
    "\n",
    "import numpy as np\n",
    "import pandas as pd\n",
    "import matplotlib.pyplot as plt\n",
    "import seaborn as sns\n",
    "\n",
    "import unicodedata\n",
    "import re\n",
    "import nltk\n",
    "from nltk.tokenize.toktok import ToktokTokenizer\n",
    "from nltk.corpus import stopwords\n",
    "\n",
    "import os\n",
    "import json\n",
    "from typing import Dict, List, Optional, Union, cast\n",
    "import requests\n",
    "\n",
    "from sklearn.model_selection import train_test_split\n",
    "from sklearn.feature_extraction.text import TfidfVectorizer\n",
    "from sklearn.feature_extraction.text import CountVectorizer\n",
    "from sklearn.naive_bayes import GaussianNB\n",
    "from sklearn.metrics import confusion_matrix, classification_report\n",
    "from sklearn.linear_model import LogisticRegression\n",
    "\n",
    "from env import github_token, github_username\n",
    "import acquire, prep, model"
   ]
  },
  {
   "cell_type": "code",
   "execution_count": 2,
   "metadata": {},
   "outputs": [],
   "source": [
    "# plotting defaults\n",
    "\n",
    "plt.rc('figure', figsize=(13, 7))\n",
    "plt.style.use('seaborn-whitegrid')\n",
    "plt.rc('font', size=16)"
   ]
  },
  {
   "cell_type": "markdown",
   "metadata": {},
   "source": [
    "## Acquire FreeCodeCamp README Dataset"
   ]
  },
  {
   "cell_type": "code",
   "execution_count": 51,
   "metadata": {
    "scrolled": false
   },
   "outputs": [
    {
     "data": {
      "text/plain": [
       "((105, 3), (36, 3))"
      ]
     },
     "execution_count": 51,
     "metadata": {},
     "output_type": "execute_result"
    }
   ],
   "source": [
    "# Load the data from json file\n",
    "df = pd.read_json('data.json') # dataframe containing train and validate dataset\n",
    "df1 = pd.read_json('test_data.json') # dataframe containing test dataset\n",
    "\n",
    "# Print the shape of the df\n",
    "df.shape, df1.shape"
   ]
  },
  {
   "cell_type": "code",
   "execution_count": 52,
   "metadata": {},
   "outputs": [
    {
     "data": {
      "text/html": [
       "<div>\n",
       "<style scoped>\n",
       "    .dataframe tbody tr th:only-of-type {\n",
       "        vertical-align: middle;\n",
       "    }\n",
       "\n",
       "    .dataframe tbody tr th {\n",
       "        vertical-align: top;\n",
       "    }\n",
       "\n",
       "    .dataframe thead th {\n",
       "        text-align: right;\n",
       "    }\n",
       "</style>\n",
       "<table border=\"1\" class=\"dataframe\">\n",
       "  <thead>\n",
       "    <tr style=\"text-align: right;\">\n",
       "      <th></th>\n",
       "      <th>repo</th>\n",
       "      <th>language</th>\n",
       "      <th>readme_contents</th>\n",
       "    </tr>\n",
       "  </thead>\n",
       "  <tbody>\n",
       "    <tr>\n",
       "      <th>0</th>\n",
       "      <td>freeCodeCamp/chapter</td>\n",
       "      <td>TypeScript</td>\n",
       "      <td># Welcome to Chapter\\n[![All Contributors](htt...</td>\n",
       "    </tr>\n",
       "    <tr>\n",
       "      <th>1</th>\n",
       "      <td>freeCodeCamp/freeCodeCamp</td>\n",
       "      <td>JavaScript</td>\n",
       "      <td>![freeCodeCamp.org Social Banner](https://s3.a...</td>\n",
       "    </tr>\n",
       "  </tbody>\n",
       "</table>\n",
       "</div>"
      ],
      "text/plain": [
       "                        repo    language  \\\n",
       "0       freeCodeCamp/chapter  TypeScript   \n",
       "1  freeCodeCamp/freeCodeCamp  JavaScript   \n",
       "\n",
       "                                     readme_contents  \n",
       "0  # Welcome to Chapter\\n[![All Contributors](htt...  \n",
       "1  ![freeCodeCamp.org Social Banner](https://s3.a...  "
      ]
     },
     "execution_count": 52,
     "metadata": {},
     "output_type": "execute_result"
    }
   ],
   "source": [
    "# Take a peek at the train/validate dataset\n",
    "df.head(2)"
   ]
  },
  {
   "cell_type": "code",
   "execution_count": 53,
   "metadata": {},
   "outputs": [
    {
     "data": {
      "text/html": [
       "<div>\n",
       "<style scoped>\n",
       "    .dataframe tbody tr th:only-of-type {\n",
       "        vertical-align: middle;\n",
       "    }\n",
       "\n",
       "    .dataframe tbody tr th {\n",
       "        vertical-align: top;\n",
       "    }\n",
       "\n",
       "    .dataframe thead th {\n",
       "        text-align: right;\n",
       "    }\n",
       "</style>\n",
       "<table border=\"1\" class=\"dataframe\">\n",
       "  <thead>\n",
       "    <tr style=\"text-align: right;\">\n",
       "      <th></th>\n",
       "      <th>repo</th>\n",
       "      <th>language</th>\n",
       "      <th>readme_contents</th>\n",
       "    </tr>\n",
       "  </thead>\n",
       "  <tbody>\n",
       "    <tr>\n",
       "      <th>0</th>\n",
       "      <td>freeCodeCamp/privacy-policy</td>\n",
       "      <td>CSS</td>\n",
       "      <td>&gt; ### This page is now archived and managed in...</td>\n",
       "    </tr>\n",
       "    <tr>\n",
       "      <th>1</th>\n",
       "      <td>freeCodeCamp/code-of-conduct</td>\n",
       "      <td>CSS</td>\n",
       "      <td>&gt; ### This page is now archived and managed in...</td>\n",
       "    </tr>\n",
       "  </tbody>\n",
       "</table>\n",
       "</div>"
      ],
      "text/plain": [
       "                           repo language  \\\n",
       "0   freeCodeCamp/privacy-policy      CSS   \n",
       "1  freeCodeCamp/code-of-conduct      CSS   \n",
       "\n",
       "                                     readme_contents  \n",
       "0  > ### This page is now archived and managed in...  \n",
       "1  > ### This page is now archived and managed in...  "
      ]
     },
     "execution_count": 53,
     "metadata": {},
     "output_type": "execute_result"
    }
   ],
   "source": [
    "# Take a peek at the test dataset\n",
    "df1.head(2)"
   ]
  },
  {
   "cell_type": "code",
   "execution_count": 54,
   "metadata": {},
   "outputs": [
    {
     "name": "stdout",
     "output_type": "stream",
     "text": [
      "<class 'pandas.core.frame.DataFrame'>\n",
      "Int64Index: 105 entries, 0 to 104\n",
      "Data columns (total 3 columns):\n",
      " #   Column           Non-Null Count  Dtype \n",
      "---  ------           --------------  ----- \n",
      " 0   repo             105 non-null    object\n",
      " 1   language         97 non-null     object\n",
      " 2   readme_contents  99 non-null     object\n",
      "dtypes: object(3)\n",
      "memory usage: 3.3+ KB\n"
     ]
    }
   ],
   "source": [
    "# Quick summarize df\n",
    "df.info()"
   ]
  },
  {
   "cell_type": "code",
   "execution_count": 55,
   "metadata": {},
   "outputs": [
    {
     "name": "stdout",
     "output_type": "stream",
     "text": [
      "<class 'pandas.core.frame.DataFrame'>\n",
      "Int64Index: 36 entries, 0 to 35\n",
      "Data columns (total 3 columns):\n",
      " #   Column           Non-Null Count  Dtype \n",
      "---  ------           --------------  ----- \n",
      " 0   repo             36 non-null     object\n",
      " 1   language         36 non-null     object\n",
      " 2   readme_contents  33 non-null     object\n",
      "dtypes: object(3)\n",
      "memory usage: 1.1+ KB\n"
     ]
    }
   ],
   "source": [
    "# Quick summarize df1\n",
    "df1.info()"
   ]
  },
  {
   "cell_type": "markdown",
   "metadata": {},
   "source": [
    "**Takeaways**\n",
    "- Missing values are found in the columns 'language' and 'readme_contents'.\n",
    "- For MVP, we decide to drop the records with missing values. "
   ]
  },
  {
   "cell_type": "markdown",
   "metadata": {},
   "source": [
    "## Wrangle README Datasets"
   ]
  },
  {
   "cell_type": "code",
   "execution_count": 56,
   "metadata": {},
   "outputs": [
    {
     "data": {
      "text/plain": [
       "((92, 3), (33, 3))"
      ]
     },
     "execution_count": 56,
     "metadata": {},
     "output_type": "execute_result"
    }
   ],
   "source": [
    "# Drop the missing values\n",
    "\n",
    "df = df.dropna()\n",
    "df1 = df1.dropna()\n",
    "\n",
    "# Print the shape of the df\n",
    "df.shape, df1.shape"
   ]
  },
  {
   "cell_type": "code",
   "execution_count": 57,
   "metadata": {},
   "outputs": [
    {
     "data": {
      "text/plain": [
       "((92, 6), (33, 6))"
      ]
     },
     "execution_count": 57,
     "metadata": {},
     "output_type": "execute_result"
    }
   ],
   "source": [
    "# Clean the text by helper function\n",
    "# Exlude words: 'freecodecamp', 'repository', 'run', 'test', 'use', 'using'\n",
    "\n",
    "df = prep.prep_data(df, 'readme_contents', \n",
    "                    extra_words=['freecodecamp', 'repository', 'run', 'test', 'use', 'using'],\n",
    "                    exclude_words=[])\n",
    "df1 = prep.prep_data(df1, 'readme_contents', \n",
    "                    extra_words=['freecodecamp', 'repository', 'run', 'test', 'use', 'using'],\n",
    "                    exclude_words=[])\n",
    "\n",
    "# Print the shape\n",
    "df.shape, df1.shape"
   ]
  },
  {
   "cell_type": "code",
   "execution_count": 58,
   "metadata": {},
   "outputs": [
    {
     "name": "stdout",
     "output_type": "stream",
     "text": [
      "<class 'pandas.core.frame.DataFrame'>\n",
      "Int64Index: 92 entries, 0 to 104\n",
      "Data columns (total 6 columns):\n",
      " #   Column           Non-Null Count  Dtype \n",
      "---  ------           --------------  ----- \n",
      " 0   repo             92 non-null     object\n",
      " 1   language         92 non-null     object\n",
      " 2   readme_contents  92 non-null     object\n",
      " 3   stemmed          92 non-null     object\n",
      " 4   lemmatized       92 non-null     object\n",
      " 5   clean            92 non-null     object\n",
      "dtypes: object(6)\n",
      "memory usage: 5.0+ KB\n"
     ]
    }
   ],
   "source": [
    "# Quick summarize dataset\n",
    "df.info()"
   ]
  },
  {
   "cell_type": "code",
   "execution_count": 59,
   "metadata": {},
   "outputs": [
    {
     "name": "stdout",
     "output_type": "stream",
     "text": [
      "<class 'pandas.core.frame.DataFrame'>\n",
      "Int64Index: 33 entries, 0 to 35\n",
      "Data columns (total 6 columns):\n",
      " #   Column           Non-Null Count  Dtype \n",
      "---  ------           --------------  ----- \n",
      " 0   repo             33 non-null     object\n",
      " 1   language         33 non-null     object\n",
      " 2   readme_contents  33 non-null     object\n",
      " 3   stemmed          33 non-null     object\n",
      " 4   lemmatized       33 non-null     object\n",
      " 5   clean            33 non-null     object\n",
      "dtypes: object(6)\n",
      "memory usage: 1.8+ KB\n"
     ]
    }
   ],
   "source": [
    "# Quick summarize dataset\n",
    "df1.info()"
   ]
  },
  {
   "cell_type": "markdown",
   "metadata": {},
   "source": [
    "## Quick Exploration\n",
    "- Detailed Exploration could be find in the autin_scratch.ipynb"
   ]
  },
  {
   "cell_type": "code",
   "execution_count": 60,
   "metadata": {},
   "outputs": [
    {
     "data": {
      "text/plain": [
       "JavaScript    0.543478\n",
       "Python        0.141304\n",
       "HTML          0.130435\n",
       "CSS           0.065217\n",
       "Shell         0.032609\n",
       "R             0.021739\n",
       "Ruby          0.021739\n",
       "TypeScript    0.021739\n",
       "Handlebars    0.010870\n",
       "SCSS          0.010870\n",
       "Name: language, dtype: float64"
      ]
     },
     "execution_count": 60,
     "metadata": {},
     "output_type": "execute_result"
    }
   ],
   "source": [
    "# Compute the relative frequency in each language in train/validate\n",
    "df.language.value_counts(normalize=True)"
   ]
  },
  {
   "cell_type": "code",
   "execution_count": 103,
   "metadata": {},
   "outputs": [
    {
     "data": {
      "text/plain": [
       "js       24\n",
       "other     9\n",
       "Name: label, dtype: int64"
      ]
     },
     "execution_count": 103,
     "metadata": {},
     "output_type": "execute_result"
    }
   ],
   "source": [
    "# Compute the relative frequency in each language in test\n",
    "df1.language.value_counts(normalize=True)"
   ]
  },
  {
   "cell_type": "code",
   "execution_count": 64,
   "metadata": {},
   "outputs": [
    {
     "data": {
      "image/png": "[encoded data removed]",
      "text/plain": [
       "<Figure size 936x504 with 2 Axes>"
      ]
     },
     "metadata": {},
     "output_type": "display_data"
    }
   ],
   "source": [
    "# Viz the distribution of the languages in train/validate\n",
    "\n",
    "plt.subplot(121)\n",
    "df.language.value_counts().plot(kind='bar')\n",
    "\n",
    "plt.subplot(122)\n",
    "df1.language.value_counts().plot(kind='bar')\n",
    "\n",
    "plt.tight_layout()\n",
    "plt.show()"
   ]
  },
  {
   "cell_type": "markdown",
   "metadata": {},
   "source": [
    "**Takeaways**\n",
    "- About half of the languages written in train/validate are JavaScript. \n",
    "- About 70% of the languages written in test are JavaScript. "
   ]
  },
  {
   "cell_type": "markdown",
   "metadata": {},
   "source": [
    "## Additional Wrangling"
   ]
  },
  {
   "cell_type": "code",
   "execution_count": 65,
   "metadata": {},
   "outputs": [],
   "source": [
    "# Convert languages into js or not\n",
    "\n",
    "df.language = df.language.apply(lambda i: 'js' if i == 'JavaScript' else 'other')\n",
    "df1.language = df1.language.apply(lambda i: 'js' if i == 'JavaScript' else 'other')"
   ]
  },
  {
   "cell_type": "code",
   "execution_count": 66,
   "metadata": {},
   "outputs": [
    {
     "data": {
      "text/html": [
       "<div>\n",
       "<style scoped>\n",
       "    .dataframe tbody tr th:only-of-type {\n",
       "        vertical-align: middle;\n",
       "    }\n",
       "\n",
       "    .dataframe tbody tr th {\n",
       "        vertical-align: top;\n",
       "    }\n",
       "\n",
       "    .dataframe thead th {\n",
       "        text-align: right;\n",
       "    }\n",
       "</style>\n",
       "<table border=\"1\" class=\"dataframe\">\n",
       "  <thead>\n",
       "    <tr style=\"text-align: right;\">\n",
       "      <th></th>\n",
       "      <th>repo</th>\n",
       "      <th>language</th>\n",
       "      <th>readme_contents</th>\n",
       "      <th>stemmed</th>\n",
       "      <th>lemmatized</th>\n",
       "      <th>clean</th>\n",
       "    </tr>\n",
       "  </thead>\n",
       "  <tbody>\n",
       "    <tr>\n",
       "      <th>0</th>\n",
       "      <td>freeCodeCamp/chapter</td>\n",
       "      <td>other</td>\n",
       "      <td># Welcome to Chapter\\n[![All Contributors](htt...</td>\n",
       "      <td>welcom to chapter all contributorshttpsimgshie...</td>\n",
       "      <td>welcome to chapter all contributorshttpsimgshi...</td>\n",
       "      <td>welcome chapter contributorshttpsimgshieldsiob...</td>\n",
       "    </tr>\n",
       "    <tr>\n",
       "      <th>1</th>\n",
       "      <td>freeCodeCamp/freeCodeCamp</td>\n",
       "      <td>js</td>\n",
       "      <td>![freeCodeCamp.org Social Banner](https://s3.a...</td>\n",
       "      <td>freecodecamporg social bannerhttpss3amazonawsc...</td>\n",
       "      <td>freecodecamporg social bannerhttpss3amazonawsc...</td>\n",
       "      <td>freecodecamporg social bannerhttpss3amazonawsc...</td>\n",
       "    </tr>\n",
       "  </tbody>\n",
       "</table>\n",
       "</div>"
      ],
      "text/plain": [
       "                        repo language  \\\n",
       "0       freeCodeCamp/chapter    other   \n",
       "1  freeCodeCamp/freeCodeCamp       js   \n",
       "\n",
       "                                     readme_contents  \\\n",
       "0  # Welcome to Chapter\\n[![All Contributors](htt...   \n",
       "1  ![freeCodeCamp.org Social Banner](https://s3.a...   \n",
       "\n",
       "                                             stemmed  \\\n",
       "0  welcom to chapter all contributorshttpsimgshie...   \n",
       "1  freecodecamporg social bannerhttpss3amazonawsc...   \n",
       "\n",
       "                                          lemmatized  \\\n",
       "0  welcome to chapter all contributorshttpsimgshi...   \n",
       "1  freecodecamporg social bannerhttpss3amazonawsc...   \n",
       "\n",
       "                                               clean  \n",
       "0  welcome chapter contributorshttpsimgshieldsiob...  \n",
       "1  freecodecamporg social bannerhttpss3amazonawsc...  "
      ]
     },
     "execution_count": 66,
     "metadata": {},
     "output_type": "execute_result"
    }
   ],
   "source": [
    "# Take a peek at the df\n",
    "df.head(2)"
   ]
  },
  {
   "cell_type": "code",
   "execution_count": 67,
   "metadata": {},
   "outputs": [
    {
     "data": {
      "text/html": [
       "<div>\n",
       "<style scoped>\n",
       "    .dataframe tbody tr th:only-of-type {\n",
       "        vertical-align: middle;\n",
       "    }\n",
       "\n",
       "    .dataframe tbody tr th {\n",
       "        vertical-align: top;\n",
       "    }\n",
       "\n",
       "    .dataframe thead th {\n",
       "        text-align: right;\n",
       "    }\n",
       "</style>\n",
       "<table border=\"1\" class=\"dataframe\">\n",
       "  <thead>\n",
       "    <tr style=\"text-align: right;\">\n",
       "      <th></th>\n",
       "      <th>repo</th>\n",
       "      <th>language</th>\n",
       "      <th>readme_contents</th>\n",
       "      <th>stemmed</th>\n",
       "      <th>lemmatized</th>\n",
       "      <th>clean</th>\n",
       "    </tr>\n",
       "  </thead>\n",
       "  <tbody>\n",
       "    <tr>\n",
       "      <th>0</th>\n",
       "      <td>freeCodeCamp/privacy-policy</td>\n",
       "      <td>other</td>\n",
       "      <td>&gt; ### This page is now archived and managed in...</td>\n",
       "      <td>thi page is now archiv and manag in ghost</td>\n",
       "      <td>this page is now archived and managed in ghost</td>\n",
       "      <td>page archived managed ghost</td>\n",
       "    </tr>\n",
       "    <tr>\n",
       "      <th>1</th>\n",
       "      <td>freeCodeCamp/code-of-conduct</td>\n",
       "      <td>other</td>\n",
       "      <td>&gt; ### This page is now archived and managed in...</td>\n",
       "      <td>thi page is now archiv and manag in ghost</td>\n",
       "      <td>this page is now archived and managed in ghost</td>\n",
       "      <td>page archived managed ghost</td>\n",
       "    </tr>\n",
       "  </tbody>\n",
       "</table>\n",
       "</div>"
      ],
      "text/plain": [
       "                           repo language  \\\n",
       "0   freeCodeCamp/privacy-policy    other   \n",
       "1  freeCodeCamp/code-of-conduct    other   \n",
       "\n",
       "                                     readme_contents  \\\n",
       "0  > ### This page is now archived and managed in...   \n",
       "1  > ### This page is now archived and managed in...   \n",
       "\n",
       "                                     stemmed  \\\n",
       "0  thi page is now archiv and manag in ghost   \n",
       "1  thi page is now archiv and manag in ghost   \n",
       "\n",
       "                                       lemmatized                        clean  \n",
       "0  this page is now archived and managed in ghost  page archived managed ghost  \n",
       "1  this page is now archived and managed in ghost  page archived managed ghost  "
      ]
     },
     "execution_count": 67,
     "metadata": {},
     "output_type": "execute_result"
    }
   ],
   "source": [
    "# Take a peek at the df1\n",
    "df1.head(2)"
   ]
  },
  {
   "cell_type": "code",
   "execution_count": 68,
   "metadata": {
    "scrolled": true
   },
   "outputs": [],
   "source": [
    "# Add column words\n",
    "\n",
    "df['words'] = [re.sub(r'([^a-z0-9\\s]|\\s.\\s)', '', doc)\\\n",
    "               .split() for doc in df.lemmatized]\n",
    "\n",
    "df1['words'] = [re.sub(r'([^a-z0-9\\s]|\\s.\\s)', '', doc)\\\n",
    "               .split() for doc in df1.lemmatized]"
   ]
  },
  {
   "cell_type": "code",
   "execution_count": 69,
   "metadata": {},
   "outputs": [],
   "source": [
    "# Drop the column repo\n",
    "\n",
    "df.drop(columns = ['repo', 'stemmed'], inplace=True)\n",
    "df1.drop(columns = ['repo', 'stemmed'], inplace=True)"
   ]
  },
  {
   "cell_type": "code",
   "execution_count": 70,
   "metadata": {
    "scrolled": true
   },
   "outputs": [],
   "source": [
    "# Rename the columns\n",
    "\n",
    "df.columns = ['label', 'text', 'lemmatized', 'clean', 'words']\n",
    "df1.columns = ['label', 'text', 'lemmatized', 'clean', 'words']"
   ]
  },
  {
   "cell_type": "code",
   "execution_count": 71,
   "metadata": {},
   "outputs": [
    {
     "data": {
      "text/html": [
       "<div>\n",
       "<style scoped>\n",
       "    .dataframe tbody tr th:only-of-type {\n",
       "        vertical-align: middle;\n",
       "    }\n",
       "\n",
       "    .dataframe tbody tr th {\n",
       "        vertical-align: top;\n",
       "    }\n",
       "\n",
       "    .dataframe thead th {\n",
       "        text-align: right;\n",
       "    }\n",
       "</style>\n",
       "<table border=\"1\" class=\"dataframe\">\n",
       "  <thead>\n",
       "    <tr style=\"text-align: right;\">\n",
       "      <th></th>\n",
       "      <th>label</th>\n",
       "      <th>text</th>\n",
       "      <th>lemmatized</th>\n",
       "      <th>clean</th>\n",
       "      <th>words</th>\n",
       "    </tr>\n",
       "  </thead>\n",
       "  <tbody>\n",
       "    <tr>\n",
       "      <th>0</th>\n",
       "      <td>other</td>\n",
       "      <td># Welcome to Chapter\\n[![All Contributors](htt...</td>\n",
       "      <td>welcome to chapter all contributorshttpsimgshi...</td>\n",
       "      <td>welcome chapter contributorshttpsimgshieldsiob...</td>\n",
       "      <td>[welcome, to, chapter, all, contributorshttpsi...</td>\n",
       "    </tr>\n",
       "    <tr>\n",
       "      <th>1</th>\n",
       "      <td>js</td>\n",
       "      <td>![freeCodeCamp.org Social Banner](https://s3.a...</td>\n",
       "      <td>freecodecamporg social bannerhttpss3amazonawsc...</td>\n",
       "      <td>freecodecamporg social bannerhttpss3amazonawsc...</td>\n",
       "      <td>[freecodecamporg, social, bannerhttpss3amazona...</td>\n",
       "    </tr>\n",
       "  </tbody>\n",
       "</table>\n",
       "</div>"
      ],
      "text/plain": [
       "   label                                               text  \\\n",
       "0  other  # Welcome to Chapter\\n[![All Contributors](htt...   \n",
       "1     js  ![freeCodeCamp.org Social Banner](https://s3.a...   \n",
       "\n",
       "                                          lemmatized  \\\n",
       "0  welcome to chapter all contributorshttpsimgshi...   \n",
       "1  freecodecamporg social bannerhttpss3amazonawsc...   \n",
       "\n",
       "                                               clean  \\\n",
       "0  welcome chapter contributorshttpsimgshieldsiob...   \n",
       "1  freecodecamporg social bannerhttpss3amazonawsc...   \n",
       "\n",
       "                                               words  \n",
       "0  [welcome, to, chapter, all, contributorshttpsi...  \n",
       "1  [freecodecamporg, social, bannerhttpss3amazona...  "
      ]
     },
     "execution_count": 71,
     "metadata": {},
     "output_type": "execute_result"
    }
   ],
   "source": [
    "# Take a peek at the df\n",
    "df.head(2)"
   ]
  },
  {
   "cell_type": "code",
   "execution_count": 72,
   "metadata": {},
   "outputs": [
    {
     "data": {
      "text/html": [
       "<div>\n",
       "<style scoped>\n",
       "    .dataframe tbody tr th:only-of-type {\n",
       "        vertical-align: middle;\n",
       "    }\n",
       "\n",
       "    .dataframe tbody tr th {\n",
       "        vertical-align: top;\n",
       "    }\n",
       "\n",
       "    .dataframe thead th {\n",
       "        text-align: right;\n",
       "    }\n",
       "</style>\n",
       "<table border=\"1\" class=\"dataframe\">\n",
       "  <thead>\n",
       "    <tr style=\"text-align: right;\">\n",
       "      <th></th>\n",
       "      <th>label</th>\n",
       "      <th>text</th>\n",
       "      <th>lemmatized</th>\n",
       "      <th>clean</th>\n",
       "      <th>words</th>\n",
       "    </tr>\n",
       "  </thead>\n",
       "  <tbody>\n",
       "    <tr>\n",
       "      <th>0</th>\n",
       "      <td>other</td>\n",
       "      <td>&gt; ### This page is now archived and managed in...</td>\n",
       "      <td>this page is now archived and managed in ghost</td>\n",
       "      <td>page archived managed ghost</td>\n",
       "      <td>[this, page, is, now, archived, and, managed, ...</td>\n",
       "    </tr>\n",
       "    <tr>\n",
       "      <th>1</th>\n",
       "      <td>other</td>\n",
       "      <td>&gt; ### This page is now archived and managed in...</td>\n",
       "      <td>this page is now archived and managed in ghost</td>\n",
       "      <td>page archived managed ghost</td>\n",
       "      <td>[this, page, is, now, archived, and, managed, ...</td>\n",
       "    </tr>\n",
       "  </tbody>\n",
       "</table>\n",
       "</div>"
      ],
      "text/plain": [
       "   label                                               text  \\\n",
       "0  other  > ### This page is now archived and managed in...   \n",
       "1  other  > ### This page is now archived and managed in...   \n",
       "\n",
       "                                       lemmatized  \\\n",
       "0  this page is now archived and managed in ghost   \n",
       "1  this page is now archived and managed in ghost   \n",
       "\n",
       "                         clean  \\\n",
       "0  page archived managed ghost   \n",
       "1  page archived managed ghost   \n",
       "\n",
       "                                               words  \n",
       "0  [this, page, is, now, archived, and, managed, ...  \n",
       "1  [this, page, is, now, archived, and, managed, ...  "
      ]
     },
     "execution_count": 72,
     "metadata": {},
     "output_type": "execute_result"
    }
   ],
   "source": [
    "# Take a peek at the df1\n",
    "df1.head(2)"
   ]
  },
  {
   "cell_type": "markdown",
   "metadata": {},
   "source": [
    "## Modeling\n",
    "### Goal: to predict the language used for the repo is JavaScript or not (binary classification)."
   ]
  },
  {
   "cell_type": "code",
   "execution_count": 74,
   "metadata": {},
   "outputs": [],
   "source": [
    "# Split df into train and validate and create the test dataset\n",
    "\n",
    "train, validate = train_test_split(df[['label', 'clean']], \n",
    "                                   stratify=df.label, \n",
    "                                   test_size=.2,\n",
    "                                   random_state=123)\n",
    "\n",
    "test = df1[['label', 'clean']]"
   ]
  },
  {
   "cell_type": "code",
   "execution_count": 75,
   "metadata": {
    "scrolled": true
   },
   "outputs": [
    {
     "name": "stdout",
     "output_type": "stream",
     "text": [
      "js       40\n",
      "other    33\n",
      "Name: label, dtype: int64\n",
      "js       10\n",
      "other     9\n",
      "Name: label, dtype: int64\n",
      "js       24\n",
      "other     9\n",
      "Name: label, dtype: int64\n"
     ]
    },
    {
     "data": {
      "text/html": [
       "<div>\n",
       "<style scoped>\n",
       "    .dataframe tbody tr th:only-of-type {\n",
       "        vertical-align: middle;\n",
       "    }\n",
       "\n",
       "    .dataframe tbody tr th {\n",
       "        vertical-align: top;\n",
       "    }\n",
       "\n",
       "    .dataframe thead th {\n",
       "        text-align: right;\n",
       "    }\n",
       "</style>\n",
       "<table border=\"1\" class=\"dataframe\">\n",
       "  <thead>\n",
       "    <tr style=\"text-align: right;\">\n",
       "      <th></th>\n",
       "      <th>label</th>\n",
       "      <th>clean</th>\n",
       "    </tr>\n",
       "  </thead>\n",
       "  <tbody>\n",
       "    <tr>\n",
       "      <th>78</th>\n",
       "      <td>js</td>\n",
       "      <td>longer please search mono repohttpsgithubcomfr...</td>\n",
       "    </tr>\n",
       "    <tr>\n",
       "      <th>69</th>\n",
       "      <td>js</td>\n",
       "      <td>open source good directory directory freecodec...</td>\n",
       "    </tr>\n",
       "    <tr>\n",
       "      <th>3</th>\n",
       "      <td>other</td>\n",
       "      <td>usage 1 create env txt rocketchat_versionlates...</td>\n",
       "    </tr>\n",
       "    <tr>\n",
       "      <th>73</th>\n",
       "      <td>other</td>\n",
       "      <td>happy new year 2017 simple website host open20...</td>\n",
       "    </tr>\n",
       "    <tr>\n",
       "      <th>86</th>\n",
       "      <td>js</td>\n",
       "      <td>pm2 pager get notification exception pm2 nodem...</td>\n",
       "    </tr>\n",
       "  </tbody>\n",
       "</table>\n",
       "</div>"
      ],
      "text/plain": [
       "    label                                              clean\n",
       "78     js  longer please search mono repohttpsgithubcomfr...\n",
       "69     js  open source good directory directory freecodec...\n",
       "3   other  usage 1 create env txt rocketchat_versionlates...\n",
       "73  other  happy new year 2017 simple website host open20...\n",
       "86     js  pm2 pager get notification exception pm2 nodem..."
      ]
     },
     "execution_count": 75,
     "metadata": {},
     "output_type": "execute_result"
    }
   ],
   "source": [
    "print(train.label.value_counts())\n",
    "print(validate.label.value_counts())\n",
    "print(test.label.value_counts())\n",
    "train.head()"
   ]
  },
  {
   "cell_type": "markdown",
   "metadata": {},
   "source": [
    "#### Compute the baseline accuracy"
   ]
  },
  {
   "cell_type": "code",
   "execution_count": 76,
   "metadata": {},
   "outputs": [
    {
     "data": {
      "text/html": [
       "<div>\n",
       "<style scoped>\n",
       "    .dataframe tbody tr th:only-of-type {\n",
       "        vertical-align: middle;\n",
       "    }\n",
       "\n",
       "    .dataframe tbody tr th {\n",
       "        vertical-align: top;\n",
       "    }\n",
       "\n",
       "    .dataframe thead th {\n",
       "        text-align: right;\n",
       "    }\n",
       "</style>\n",
       "<table border=\"1\" class=\"dataframe\">\n",
       "  <thead>\n",
       "    <tr style=\"text-align: right;\">\n",
       "      <th></th>\n",
       "      <th>n</th>\n",
       "      <th>percent</th>\n",
       "    </tr>\n",
       "  </thead>\n",
       "  <tbody>\n",
       "    <tr>\n",
       "      <th>js</th>\n",
       "      <td>40</td>\n",
       "      <td>0.547945</td>\n",
       "    </tr>\n",
       "    <tr>\n",
       "      <th>other</th>\n",
       "      <td>33</td>\n",
       "      <td>0.452055</td>\n",
       "    </tr>\n",
       "  </tbody>\n",
       "</table>\n",
       "</div>"
      ],
      "text/plain": [
       "        n   percent\n",
       "js     40  0.547945\n",
       "other  33  0.452055"
      ]
     },
     "execution_count": 76,
     "metadata": {},
     "output_type": "execute_result"
    }
   ],
   "source": [
    "labels = pd.concat([train.label.value_counts(), # get total counts of js vs other\n",
    "                    train.label.value_counts(normalize=True)], axis=1) # getting the prop of js vs other\n",
    "labels.columns = ['n', 'percent']\n",
    "labels"
   ]
  },
  {
   "cell_type": "markdown",
   "metadata": {},
   "source": [
    "**Takeaway**:\n",
    "- The baseline accuracy is 55%. "
   ]
  },
  {
   "cell_type": "markdown",
   "metadata": {},
   "source": [
    "### Feature Generation: Bag of Words"
   ]
  },
  {
   "cell_type": "code",
   "execution_count": 77,
   "metadata": {
    "scrolled": false
   },
   "outputs": [
    {
     "data": {
      "text/plain": [
       "['add',\n",
       " 'build',\n",
       " 'code',\n",
       " 'create',\n",
       " 'data',\n",
       " 'development',\n",
       " 'file',\n",
       " 'following',\n",
       " 'like',\n",
       " 'make',\n",
       " 'new',\n",
       " 'npm',\n",
       " 'open',\n",
       " 'project',\n",
       " 'set',\n",
       " 'test',\n",
       " 'url']"
      ]
     },
     "execution_count": 77,
     "metadata": {},
     "output_type": "execute_result"
    }
   ],
   "source": [
    "# Create CountVectorizer, which create bag-of-words model.\n",
    "# stop_words : Specify language to remove stopwords. \n",
    "# min_df: ignore terms that have a document frequency strictly \n",
    "# lower than the given threshold. This value is also called cut-off in the literature. \n",
    "# If float, the parameter represents a proportion of documents, integer absolute counts. \n",
    "# ngram_range: the lower and upper boundary of the range of n-values for \n",
    "# different word n-grams or char n-grams to be extracted. \n",
    "\n",
    "vectorizer = CountVectorizer(stop_words='english', \n",
    "                             min_df=15, \n",
    "                             ngram_range=(1,2), \n",
    "                             binary=True)\n",
    "\n",
    "# Learn vocabulary in sentences. \n",
    "vectorizer.fit(train.clean)\n",
    "\n",
    "# Get dictionary. \n",
    "vectorizer.get_feature_names()"
   ]
  },
  {
   "cell_type": "code",
   "execution_count": 78,
   "metadata": {},
   "outputs": [],
   "source": [
    "# Transform each sentences in vector space.\n",
    "X_train_bow = vectorizer.transform(train.clean)\n",
    "X_validate_bow = vectorizer.transform(validate.clean)\n",
    "X_test_bow = vectorizer.transform(test.clean)"
   ]
  },
  {
   "cell_type": "code",
   "execution_count": 79,
   "metadata": {},
   "outputs": [
    {
     "data": {
      "text/plain": [
       "array([0, 0, 0, 0, 0, 0, 0, 0, 0, 0, 0, 0, 0, 0, 0, 0, 0])"
      ]
     },
     "execution_count": 79,
     "metadata": {},
     "output_type": "execute_result"
    }
   ],
   "source": [
    "# this is just to see the array of 0's and 1's\n",
    "X_train_bowarray = X_train_bow.toarray()\n",
    "X_validate_bowarray = X_validate_bow.toarray()\n",
    "X_test_bowarray = X_test_bow.toarray()\n",
    "X_train_bowarray[0]"
   ]
  },
  {
   "cell_type": "code",
   "execution_count": null,
   "metadata": {
    "scrolled": false
   },
   "outputs": [],
   "source": [
    "# # Show sentences and vector space representation.\n",
    "# # purely to visualize what's happening.\n",
    "# for i, v in zip(train.clean, bow_array):\n",
    "#     print(i)\n",
    "#     print(v)"
   ]
  },
  {
   "cell_type": "markdown",
   "metadata": {},
   "source": [
    "### Feature Generation: TF-IDF"
   ]
  },
  {
   "cell_type": "code",
   "execution_count": 80,
   "metadata": {},
   "outputs": [
    {
     "data": {
      "text/plain": [
       "{'open': 12,\n",
       " 'project': 13,\n",
       " 'add': 0,\n",
       " 'file': 6,\n",
       " 'build': 1,\n",
       " 'data': 4,\n",
       " 'make': 9,\n",
       " 'npm': 11,\n",
       " 'create': 3,\n",
       " 'following': 7,\n",
       " 'code': 2,\n",
       " 'new': 10,\n",
       " 'test': 15,\n",
       " 'like': 8,\n",
       " 'set': 14,\n",
       " 'development': 5,\n",
       " 'url': 16}"
      ]
     },
     "execution_count": 80,
     "metadata": {},
     "output_type": "execute_result"
    }
   ],
   "source": [
    "# Transform the clean text into sparse matrix\n",
    "\n",
    "tfidf = TfidfVectorizer(stop_words='english', min_df=15, \n",
    "                        ngram_range=(1,2), \n",
    "                        binary=True)\n",
    "\n",
    "# Fit on cleaned text in train\n",
    "tfidf = tfidf.fit(train.clean)\n",
    "\n",
    "# Get vocabularies.\n",
    "tfidf.vocabulary_"
   ]
  },
  {
   "cell_type": "code",
   "execution_count": 84,
   "metadata": {},
   "outputs": [
    {
     "data": {
      "text/plain": [
       "<73x17 sparse matrix of type '<class 'numpy.float64'>'\n",
       "\twith 312 stored elements in Compressed Sparse Row format>"
      ]
     },
     "execution_count": 84,
     "metadata": {},
     "output_type": "execute_result"
    }
   ],
   "source": [
    "# Transform the train and validate\n",
    "\n",
    "X_train_tfidf = tfidf.transform(train.clean)\n",
    "X_validate_tfidf = tfidf.transform(validate.clean)\n",
    "X_test_tfidf = tfidf.transform(test.clean)\n",
    "\n",
    "# Take a peek at \n",
    "X_train_tfidf"
   ]
  },
  {
   "cell_type": "code",
   "execution_count": 85,
   "metadata": {},
   "outputs": [
    {
     "data": {
      "text/html": [
       "<div>\n",
       "<style scoped>\n",
       "    .dataframe tbody tr th:only-of-type {\n",
       "        vertical-align: middle;\n",
       "    }\n",
       "\n",
       "    .dataframe tbody tr th {\n",
       "        vertical-align: top;\n",
       "    }\n",
       "\n",
       "    .dataframe thead th {\n",
       "        text-align: right;\n",
       "    }\n",
       "</style>\n",
       "<table border=\"1\" class=\"dataframe\">\n",
       "  <thead>\n",
       "    <tr style=\"text-align: right;\">\n",
       "      <th></th>\n",
       "      <th>add</th>\n",
       "      <th>build</th>\n",
       "      <th>code</th>\n",
       "      <th>create</th>\n",
       "      <th>data</th>\n",
       "      <th>development</th>\n",
       "      <th>file</th>\n",
       "      <th>following</th>\n",
       "      <th>like</th>\n",
       "      <th>make</th>\n",
       "      <th>new</th>\n",
       "      <th>npm</th>\n",
       "      <th>open</th>\n",
       "      <th>project</th>\n",
       "      <th>set</th>\n",
       "      <th>test</th>\n",
       "      <th>url</th>\n",
       "    </tr>\n",
       "  </thead>\n",
       "  <tbody>\n",
       "    <tr>\n",
       "      <th>0</th>\n",
       "      <td>0.000000</td>\n",
       "      <td>0.000000</td>\n",
       "      <td>0.000000</td>\n",
       "      <td>0.00000</td>\n",
       "      <td>0.000000</td>\n",
       "      <td>0.0</td>\n",
       "      <td>0.000000</td>\n",
       "      <td>0.000000</td>\n",
       "      <td>0.0</td>\n",
       "      <td>0.000000</td>\n",
       "      <td>0.0</td>\n",
       "      <td>0.000000</td>\n",
       "      <td>0.000000</td>\n",
       "      <td>0.000000</td>\n",
       "      <td>0.0</td>\n",
       "      <td>0.0</td>\n",
       "      <td>0.0</td>\n",
       "    </tr>\n",
       "    <tr>\n",
       "      <th>1</th>\n",
       "      <td>0.303177</td>\n",
       "      <td>0.310124</td>\n",
       "      <td>0.284341</td>\n",
       "      <td>0.27863</td>\n",
       "      <td>0.317468</td>\n",
       "      <td>0.0</td>\n",
       "      <td>0.317468</td>\n",
       "      <td>0.325258</td>\n",
       "      <td>0.0</td>\n",
       "      <td>0.303177</td>\n",
       "      <td>0.0</td>\n",
       "      <td>0.325258</td>\n",
       "      <td>0.310124</td>\n",
       "      <td>0.228409</td>\n",
       "      <td>0.0</td>\n",
       "      <td>0.0</td>\n",
       "      <td>0.0</td>\n",
       "    </tr>\n",
       "    <tr>\n",
       "      <th>2</th>\n",
       "      <td>0.000000</td>\n",
       "      <td>0.000000</td>\n",
       "      <td>0.000000</td>\n",
       "      <td>1.00000</td>\n",
       "      <td>0.000000</td>\n",
       "      <td>0.0</td>\n",
       "      <td>0.000000</td>\n",
       "      <td>0.000000</td>\n",
       "      <td>0.0</td>\n",
       "      <td>0.000000</td>\n",
       "      <td>0.0</td>\n",
       "      <td>0.000000</td>\n",
       "      <td>0.000000</td>\n",
       "      <td>0.000000</td>\n",
       "      <td>0.0</td>\n",
       "      <td>0.0</td>\n",
       "      <td>0.0</td>\n",
       "    </tr>\n",
       "    <tr>\n",
       "      <th>3</th>\n",
       "      <td>0.000000</td>\n",
       "      <td>0.000000</td>\n",
       "      <td>0.000000</td>\n",
       "      <td>0.00000</td>\n",
       "      <td>0.000000</td>\n",
       "      <td>0.0</td>\n",
       "      <td>0.000000</td>\n",
       "      <td>0.000000</td>\n",
       "      <td>0.0</td>\n",
       "      <td>0.000000</td>\n",
       "      <td>1.0</td>\n",
       "      <td>0.000000</td>\n",
       "      <td>0.000000</td>\n",
       "      <td>0.000000</td>\n",
       "      <td>0.0</td>\n",
       "      <td>0.0</td>\n",
       "      <td>0.0</td>\n",
       "    </tr>\n",
       "    <tr>\n",
       "      <th>4</th>\n",
       "      <td>0.000000</td>\n",
       "      <td>0.000000</td>\n",
       "      <td>0.000000</td>\n",
       "      <td>0.00000</td>\n",
       "      <td>0.000000</td>\n",
       "      <td>0.0</td>\n",
       "      <td>0.000000</td>\n",
       "      <td>0.000000</td>\n",
       "      <td>0.0</td>\n",
       "      <td>0.000000</td>\n",
       "      <td>0.0</td>\n",
       "      <td>0.000000</td>\n",
       "      <td>0.000000</td>\n",
       "      <td>0.000000</td>\n",
       "      <td>0.0</td>\n",
       "      <td>0.0</td>\n",
       "      <td>0.0</td>\n",
       "    </tr>\n",
       "  </tbody>\n",
       "</table>\n",
       "</div>"
      ],
      "text/plain": [
       "        add     build      code   create      data  development      file  \\\n",
       "0  0.000000  0.000000  0.000000  0.00000  0.000000          0.0  0.000000   \n",
       "1  0.303177  0.310124  0.284341  0.27863  0.317468          0.0  0.317468   \n",
       "2  0.000000  0.000000  0.000000  1.00000  0.000000          0.0  0.000000   \n",
       "3  0.000000  0.000000  0.000000  0.00000  0.000000          0.0  0.000000   \n",
       "4  0.000000  0.000000  0.000000  0.00000  0.000000          0.0  0.000000   \n",
       "\n",
       "   following  like      make  new       npm      open   project  set  test  \\\n",
       "0   0.000000   0.0  0.000000  0.0  0.000000  0.000000  0.000000  0.0   0.0   \n",
       "1   0.325258   0.0  0.303177  0.0  0.325258  0.310124  0.228409  0.0   0.0   \n",
       "2   0.000000   0.0  0.000000  0.0  0.000000  0.000000  0.000000  0.0   0.0   \n",
       "3   0.000000   0.0  0.000000  1.0  0.000000  0.000000  0.000000  0.0   0.0   \n",
       "4   0.000000   0.0  0.000000  0.0  0.000000  0.000000  0.000000  0.0   0.0   \n",
       "\n",
       "   url  \n",
       "0  0.0  \n",
       "1  0.0  \n",
       "2  0.0  \n",
       "3  0.0  \n",
       "4  0.0  "
      ]
     },
     "execution_count": 85,
     "metadata": {},
     "output_type": "execute_result"
    }
   ],
   "source": [
    "# Conver to datafame\n",
    "pd.DataFrame(X_train_tfidf.todense(), columns=tfidf.get_feature_names()).head()"
   ]
  },
  {
   "cell_type": "code",
   "execution_count": 86,
   "metadata": {
    "scrolled": false
   },
   "outputs": [],
   "source": [
    "# Transform to document-term matrix\n",
    "\n",
    "X_train_tfidfarray = X_train_tfidf.toarray()\n",
    "X_validate_tfidfarray = X_validate_tfidf.toarray()\n",
    "X_test_tfidfarray = X_test_tfidf.toarray()"
   ]
  },
  {
   "cell_type": "code",
   "execution_count": null,
   "metadata": {
    "scrolled": false
   },
   "outputs": [],
   "source": [
    "# # Show sentences and vector space representation.\n",
    "# # \n",
    "# # (A, B) C\n",
    "# # A : Document Index\n",
    "# # B : Specific word-vector index\n",
    "# # C : TF-IDF score\n",
    "# for i, v in zip(train.clean, vector_spaces):\n",
    "#     print(i)\n",
    "#     print(v)"
   ]
  },
  {
   "cell_type": "markdown",
   "metadata": {},
   "source": [
    "### Model on Train using LogisticRegression"
   ]
  },
  {
   "cell_type": "code",
   "execution_count": 87,
   "metadata": {},
   "outputs": [],
   "source": [
    "# create our y datasets\n",
    "\n",
    "y_train = train['label']\n",
    "y_validate = validate['label']\n",
    "y_test = test['label']"
   ]
  },
  {
   "cell_type": "markdown",
   "metadata": {},
   "source": [
    "#### Using bow features"
   ]
  },
  {
   "cell_type": "code",
   "execution_count": 88,
   "metadata": {},
   "outputs": [],
   "source": [
    "# Create the LogisticRegressioin object and fit on train\n",
    "lm = LogisticRegression().fit(X_train_bow, y_train)\n",
    "\n",
    "# Predict the labels for the train\n",
    "y_pred = lm.predict(X_train_bow)"
   ]
  },
  {
   "cell_type": "code",
   "execution_count": 89,
   "metadata": {},
   "outputs": [
    {
     "data": {
      "text/plain": [
       "array([[36,  4],\n",
       "       [14, 19]])"
      ]
     },
     "execution_count": 89,
     "metadata": {},
     "output_type": "execute_result"
    }
   ],
   "source": [
    "# Compute the confusion matrix\n",
    "confusion_matrix(train.label, y_pred)"
   ]
  },
  {
   "cell_type": "code",
   "execution_count": 90,
   "metadata": {},
   "outputs": [
    {
     "name": "stdout",
     "output_type": "stream",
     "text": [
      "              precision    recall  f1-score   support\n",
      "\n",
      "          js       0.72      0.90      0.80        40\n",
      "       other       0.83      0.58      0.68        33\n",
      "\n",
      "    accuracy                           0.75        73\n",
      "   macro avg       0.77      0.74      0.74        73\n",
      "weighted avg       0.77      0.75      0.75        73\n",
      "\n"
     ]
    }
   ],
   "source": [
    "# Compute the performance metrics\n",
    "print(classification_report(train.label, y_pred))"
   ]
  },
  {
   "cell_type": "markdown",
   "metadata": {},
   "source": [
    "**Takeaways**\n",
    "- when min_df = 20: \n",
    "    - The accuracy is 67%, which beats the baseline \n",
    "    - The lm performs better on predicting the JavaScript than other language.\n",
    "- when min_df = 10:\n",
    "    - The accuracy is 81%, which get improved by 14%. "
   ]
  },
  {
   "cell_type": "markdown",
   "metadata": {},
   "source": [
    "#### Model TFIDF"
   ]
  },
  {
   "cell_type": "code",
   "execution_count": 92,
   "metadata": {},
   "outputs": [],
   "source": [
    "# Fit the LogisticRegression on TFIDF features\n",
    "lm_tfidf = LogisticRegression().fit(X_train_tfidf, y_train)\n",
    "\n",
    "# Predic the labels\n",
    "y_pred = lm_tfidf.predict(X_train_tfidf)"
   ]
  },
  {
   "cell_type": "code",
   "execution_count": 93,
   "metadata": {},
   "outputs": [
    {
     "data": {
      "text/plain": [
       "array([[35,  5],\n",
       "       [15, 18]])"
      ]
     },
     "execution_count": 93,
     "metadata": {},
     "output_type": "execute_result"
    }
   ],
   "source": [
    "# Compute the confusion matrix\n",
    "confusion_matrix(train.label, y_pred)"
   ]
  },
  {
   "cell_type": "code",
   "execution_count": 94,
   "metadata": {
    "scrolled": true
   },
   "outputs": [
    {
     "name": "stdout",
     "output_type": "stream",
     "text": [
      "              precision    recall  f1-score   support\n",
      "\n",
      "          js       0.70      0.88      0.78        40\n",
      "       other       0.78      0.55      0.64        33\n",
      "\n",
      "    accuracy                           0.73        73\n",
      "   macro avg       0.74      0.71      0.71        73\n",
      "weighted avg       0.74      0.73      0.72        73\n",
      "\n"
     ]
    }
   ],
   "source": [
    "# Compute the performance metrics\n",
    "print(classification_report(train.label, y_pred))"
   ]
  },
  {
   "cell_type": "markdown",
   "metadata": {},
   "source": [
    "**Takeaways**\n",
    "- When min_df = 20\n",
    "    - The accuracy is 0.64, which also beats the baseline.\n",
    "    - Simiar to bow features, the lm performs better on predicting the JavaScript than other language.\n",
    "- When min_df = 10\n",
    "    - The accuracy is 0.75, which get improved by 10%. "
   ]
  },
  {
   "cell_type": "markdown",
   "metadata": {},
   "source": [
    "### Model on Validate"
   ]
  },
  {
   "cell_type": "code",
   "execution_count": 96,
   "metadata": {},
   "outputs": [],
   "source": [
    "# Predict the labels basded on both features. \n",
    "\n",
    "y_pred_bow = lm.predict(X_validate_bow)\n",
    "y_pred_tfidf = lm_tfidf.predict(X_validate_tfidf)"
   ]
  },
  {
   "cell_type": "code",
   "execution_count": 97,
   "metadata": {
    "scrolled": true
   },
   "outputs": [
    {
     "name": "stdout",
     "output_type": "stream",
     "text": [
      "              precision    recall  f1-score   support\n",
      "\n",
      "          js       0.67      0.80      0.73        10\n",
      "       other       0.71      0.56      0.63         9\n",
      "\n",
      "    accuracy                           0.68        19\n",
      "   macro avg       0.69      0.68      0.68        19\n",
      "weighted avg       0.69      0.68      0.68        19\n",
      "\n"
     ]
    }
   ],
   "source": [
    "# Compute the performance metrics for bow features. \n",
    "print(classification_report(validate.label, y_pred_bow))"
   ]
  },
  {
   "cell_type": "code",
   "execution_count": 98,
   "metadata": {},
   "outputs": [
    {
     "name": "stdout",
     "output_type": "stream",
     "text": [
      "              precision    recall  f1-score   support\n",
      "\n",
      "          js       0.64      0.70      0.67        10\n",
      "       other       0.62      0.56      0.59         9\n",
      "\n",
      "    accuracy                           0.63        19\n",
      "   macro avg       0.63      0.63      0.63        19\n",
      "weighted avg       0.63      0.63      0.63        19\n",
      "\n"
     ]
    }
   ],
   "source": [
    "# Compute the performance metrics for tfidf features.\n",
    "print(classification_report(validate.label, y_pred_tfidf))"
   ]
  },
  {
   "cell_type": "markdown",
   "metadata": {},
   "source": [
    "**Takeaways**\n",
    "- The accuracy drops back to 63% for bow features and below the baseline for tfidf features, which indicates overfitting issue but still beats the baseline.\n",
    "- Other metrics such as precision and recall drop about by 10-20%."
   ]
  },
  {
   "cell_type": "markdown",
   "metadata": {},
   "source": [
    "### Model on Test"
   ]
  },
  {
   "cell_type": "code",
   "execution_count": 99,
   "metadata": {},
   "outputs": [],
   "source": [
    "# Predict the labels basded on both features. \n",
    "\n",
    "y_pred_bow = lm.predict(X_test_bow)\n",
    "y_pred_tfidf = lm_tfidf.predict(X_test_tfidf)"
   ]
  },
  {
   "cell_type": "code",
   "execution_count": 100,
   "metadata": {},
   "outputs": [
    {
     "name": "stdout",
     "output_type": "stream",
     "text": [
      "              precision    recall  f1-score   support\n",
      "\n",
      "          js       0.74      0.83      0.78        24\n",
      "       other       0.33      0.22      0.27         9\n",
      "\n",
      "    accuracy                           0.67        33\n",
      "   macro avg       0.54      0.53      0.53        33\n",
      "weighted avg       0.63      0.67      0.64        33\n",
      "\n"
     ]
    }
   ],
   "source": [
    "# Compute the performance metrics for bow features. \n",
    "print(classification_report(test.label, y_pred_bow))"
   ]
  },
  {
   "cell_type": "code",
   "execution_count": 101,
   "metadata": {},
   "outputs": [
    {
     "name": "stdout",
     "output_type": "stream",
     "text": [
      "              precision    recall  f1-score   support\n",
      "\n",
      "          js       0.74      0.71      0.72        24\n",
      "       other       0.30      0.33      0.32         9\n",
      "\n",
      "    accuracy                           0.61        33\n",
      "   macro avg       0.52      0.52      0.52        33\n",
      "weighted avg       0.62      0.61      0.61        33\n",
      "\n"
     ]
    }
   ],
   "source": [
    "# Compute the performance metrics for tfidf features.\n",
    "print(classification_report(test.label, y_pred_tfidf))"
   ]
  },
  {
   "cell_type": "markdown",
   "metadata": {},
   "source": [
    "**Future Works**:\n",
    "1. To enlarge the dataset.\n",
    "2. Try different classification algorithms.\n",
    "3. To exclude the 'run', 'repository' and similar words to reduce the noise. "
   ]
  },
  {
   "cell_type": "markdown",
   "metadata": {},
   "source": [
    "### How does the min_df affect the model performance?"
   ]
  },
  {
   "cell_type": "code",
   "execution_count": 108,
   "metadata": {},
   "outputs": [],
   "source": [
    "# Loop through \n",
    "\n",
    "metrics = []\n",
    "lr = LogisticRegression()\n",
    "\n",
    "for i in range (5, 21):\n",
    "    vectorizer = CountVectorizer(stop_words='english', \n",
    "                                 min_df=i, \n",
    "                                 ngram_range=(1,2), \n",
    "                                 binary=True)\n",
    "    vectorizer = vectorizer.fit(train.clean)\n",
    "    X_train = vectorizer.transform(train.clean)\n",
    "    X_validate = vectorizer.transform(validate.clean)\n",
    "    lr = lr.fit(X_train, y)\n",
    "    y_pred_train = lr.predict(X_train)\n",
    "    y_pred_validate = lr.predict(X_validate)\n",
    "    d1 = model.estimator_report(i, 'train', train.label, y_pred_train)\n",
    "    metrics.append(d1)\n",
    "    d2 = model.estimator_report(i, 'validate', validate.label, y_pred_validate)\n",
    "    metrics.append(d2)"
   ]
  },
  {
   "cell_type": "code",
   "execution_count": 109,
   "metadata": {
    "scrolled": false
   },
   "outputs": [
    {
     "data": {
      "text/html": [
       "<div>\n",
       "<style scoped>\n",
       "    .dataframe tbody tr th:only-of-type {\n",
       "        vertical-align: middle;\n",
       "    }\n",
       "\n",
       "    .dataframe tbody tr th {\n",
       "        vertical-align: top;\n",
       "    }\n",
       "\n",
       "    .dataframe thead th {\n",
       "        text-align: right;\n",
       "    }\n",
       "</style>\n",
       "<table border=\"1\" class=\"dataframe\">\n",
       "  <thead>\n",
       "    <tr style=\"text-align: right;\">\n",
       "      <th></th>\n",
       "      <th>model_type</th>\n",
       "      <th>data_type</th>\n",
       "      <th>accuracy</th>\n",
       "      <th>precision</th>\n",
       "      <th>recall</th>\n",
       "    </tr>\n",
       "  </thead>\n",
       "  <tbody>\n",
       "    <tr>\n",
       "      <th>0</th>\n",
       "      <td>5</td>\n",
       "      <td>train</td>\n",
       "      <td>0.958904</td>\n",
       "      <td>1.000000</td>\n",
       "      <td>0.909091</td>\n",
       "    </tr>\n",
       "    <tr>\n",
       "      <th>1</th>\n",
       "      <td>5</td>\n",
       "      <td>validate</td>\n",
       "      <td>0.736842</td>\n",
       "      <td>0.833333</td>\n",
       "      <td>0.555556</td>\n",
       "    </tr>\n",
       "    <tr>\n",
       "      <th>2</th>\n",
       "      <td>6</td>\n",
       "      <td>train</td>\n",
       "      <td>0.945205</td>\n",
       "      <td>1.000000</td>\n",
       "      <td>0.878788</td>\n",
       "    </tr>\n",
       "    <tr>\n",
       "      <th>3</th>\n",
       "      <td>6</td>\n",
       "      <td>validate</td>\n",
       "      <td>0.631579</td>\n",
       "      <td>0.666667</td>\n",
       "      <td>0.444444</td>\n",
       "    </tr>\n",
       "    <tr>\n",
       "      <th>4</th>\n",
       "      <td>7</td>\n",
       "      <td>train</td>\n",
       "      <td>0.904110</td>\n",
       "      <td>1.000000</td>\n",
       "      <td>0.787879</td>\n",
       "    </tr>\n",
       "  </tbody>\n",
       "</table>\n",
       "</div>"
      ],
      "text/plain": [
       "   model_type data_type  accuracy  precision    recall\n",
       "0           5     train  0.958904   1.000000  0.909091\n",
       "1           5  validate  0.736842   0.833333  0.555556\n",
       "2           6     train  0.945205   1.000000  0.878788\n",
       "3           6  validate  0.631579   0.666667  0.444444\n",
       "4           7     train  0.904110   1.000000  0.787879"
      ]
     },
     "execution_count": 109,
     "metadata": {},
     "output_type": "execute_result"
    }
   ],
   "source": [
    "# Conver the metrics into dataframe\n",
    "\n",
    "metrics = pd.DataFrame(metrics)\n",
    "metrics.head()"
   ]
  },
  {
   "cell_type": "code",
   "execution_count": 110,
   "metadata": {},
   "outputs": [],
   "source": [
    "# Rename the columns\n",
    "metrics.rename(columns={'model_type':'min_df'}, inplace=True)"
   ]
  },
  {
   "cell_type": "code",
   "execution_count": 111,
   "metadata": {},
   "outputs": [
    {
     "data": {
      "image/png": "[encoded data removed]",
      "text/plain": [
       "<Figure size 936x504 with 1 Axes>"
      ]
     },
     "metadata": {},
     "output_type": "display_data"
    }
   ],
   "source": [
    "# Scatterplot the accuracy against the min_df \n",
    "\n",
    "sns.scatterplot(data=metrics, x='min_df', y='accuracy', hue='data_type')\n",
    "plt.axhline(y=0.54)\n",
    "plt.show()"
   ]
  },
  {
   "cell_type": "code",
   "execution_count": 112,
   "metadata": {},
   "outputs": [],
   "source": [
    "feature_names14 = CountVectorizer(stop_words='english', \n",
    "                                 min_df=14, \n",
    "                                 ngram_range=(1,2), \n",
    "                                 binary=True).fit(train.clean).get_feature_names()"
   ]
  },
  {
   "cell_type": "code",
   "execution_count": 113,
   "metadata": {},
   "outputs": [],
   "source": [
    "feature_names15 = CountVectorizer(stop_words='english', \n",
    "                                 min_df=15, \n",
    "                                 ngram_range=(1,2), \n",
    "                                 binary=True).fit(train.clean).get_feature_names()"
   ]
  },
  {
   "cell_type": "code",
   "execution_count": 114,
   "metadata": {},
   "outputs": [
    {
     "data": {
      "text/plain": [
       "{'automatically', 'copy', 'example', 'page', 'request', 'testing', 'user'}"
      ]
     },
     "execution_count": 114,
     "metadata": {},
     "output_type": "execute_result"
    }
   ],
   "source": [
    "set(feature_names14) - set(feature_names15)"
   ]
  },
  {
   "cell_type": "markdown",
   "metadata": {},
   "source": [
    "### How does ngram_range affect the model performance?"
   ]
  },
  {
   "cell_type": "code",
   "execution_count": 104,
   "metadata": {},
   "outputs": [
    {
     "name": "stdout",
     "output_type": "stream",
     "text": [
      "CountVectorizer(binary=True, min_df=15, ngram_range=(1, 2),\n",
      "                stop_words='english')\n",
      "CountVectorizer(binary=True, min_df=15, ngram_range=(1, 3),\n",
      "                stop_words='english')\n",
      "CountVectorizer(binary=True, min_df=15, ngram_range=(1, 4),\n",
      "                stop_words='english')\n",
      "CountVectorizer(binary=True, min_df=15, ngram_range=(1, 5),\n",
      "                stop_words='english')\n"
     ]
    }
   ],
   "source": [
    "# Loop through \n",
    "\n",
    "metrics = []\n",
    "lr = LogisticRegression()\n",
    "\n",
    "for i in range (2,6):\n",
    "    vectorizer = CountVectorizer(stop_words='english', \n",
    "                                 min_df=15, \n",
    "                                 ngram_range=(1,i), \n",
    "                                 binary=True)\n",
    "    print(vectorizer)\n",
    "    vectorizer = vectorizer.fit(train.clean)\n",
    "    X_train = vectorizer.transform(train.clean)\n",
    "    X_validate = vectorizer.transform(validate.clean)\n",
    "    lr = lr.fit(X_train, y)\n",
    "    y_pred_train = lr.predict(X_train)\n",
    "    y_pred_validate = lr.predict(X_validate)\n",
    "    d1 = model.estimator_report(i, 'train', train.label, y_pred_train)\n",
    "    metrics.append(d1)\n",
    "    d2 = model.estimator_report(i, 'validate', validate.label, y_pred_validate)\n",
    "    metrics.append(d2)"
   ]
  },
  {
   "cell_type": "code",
   "execution_count": 105,
   "metadata": {},
   "outputs": [
    {
     "data": {
      "text/html": [
       "<div>\n",
       "<style scoped>\n",
       "    .dataframe tbody tr th:only-of-type {\n",
       "        vertical-align: middle;\n",
       "    }\n",
       "\n",
       "    .dataframe tbody tr th {\n",
       "        vertical-align: top;\n",
       "    }\n",
       "\n",
       "    .dataframe thead th {\n",
       "        text-align: right;\n",
       "    }\n",
       "</style>\n",
       "<table border=\"1\" class=\"dataframe\">\n",
       "  <thead>\n",
       "    <tr style=\"text-align: right;\">\n",
       "      <th></th>\n",
       "      <th>model_type</th>\n",
       "      <th>data_type</th>\n",
       "      <th>accuracy</th>\n",
       "      <th>precision</th>\n",
       "      <th>recall</th>\n",
       "    </tr>\n",
       "  </thead>\n",
       "  <tbody>\n",
       "    <tr>\n",
       "      <th>0</th>\n",
       "      <td>2</td>\n",
       "      <td>train</td>\n",
       "      <td>0.753425</td>\n",
       "      <td>0.826087</td>\n",
       "      <td>0.575758</td>\n",
       "    </tr>\n",
       "    <tr>\n",
       "      <th>1</th>\n",
       "      <td>2</td>\n",
       "      <td>validate</td>\n",
       "      <td>0.684211</td>\n",
       "      <td>0.714286</td>\n",
       "      <td>0.555556</td>\n",
       "    </tr>\n",
       "    <tr>\n",
       "      <th>2</th>\n",
       "      <td>3</td>\n",
       "      <td>train</td>\n",
       "      <td>0.753425</td>\n",
       "      <td>0.826087</td>\n",
       "      <td>0.575758</td>\n",
       "    </tr>\n",
       "    <tr>\n",
       "      <th>3</th>\n",
       "      <td>3</td>\n",
       "      <td>validate</td>\n",
       "      <td>0.684211</td>\n",
       "      <td>0.714286</td>\n",
       "      <td>0.555556</td>\n",
       "    </tr>\n",
       "    <tr>\n",
       "      <th>4</th>\n",
       "      <td>4</td>\n",
       "      <td>train</td>\n",
       "      <td>0.753425</td>\n",
       "      <td>0.826087</td>\n",
       "      <td>0.575758</td>\n",
       "    </tr>\n",
       "    <tr>\n",
       "      <th>5</th>\n",
       "      <td>4</td>\n",
       "      <td>validate</td>\n",
       "      <td>0.684211</td>\n",
       "      <td>0.714286</td>\n",
       "      <td>0.555556</td>\n",
       "    </tr>\n",
       "    <tr>\n",
       "      <th>6</th>\n",
       "      <td>5</td>\n",
       "      <td>train</td>\n",
       "      <td>0.753425</td>\n",
       "      <td>0.826087</td>\n",
       "      <td>0.575758</td>\n",
       "    </tr>\n",
       "    <tr>\n",
       "      <th>7</th>\n",
       "      <td>5</td>\n",
       "      <td>validate</td>\n",
       "      <td>0.684211</td>\n",
       "      <td>0.714286</td>\n",
       "      <td>0.555556</td>\n",
       "    </tr>\n",
       "  </tbody>\n",
       "</table>\n",
       "</div>"
      ],
      "text/plain": [
       "   model_type data_type  accuracy  precision    recall\n",
       "0           2     train  0.753425   0.826087  0.575758\n",
       "1           2  validate  0.684211   0.714286  0.555556\n",
       "2           3     train  0.753425   0.826087  0.575758\n",
       "3           3  validate  0.684211   0.714286  0.555556\n",
       "4           4     train  0.753425   0.826087  0.575758\n",
       "5           4  validate  0.684211   0.714286  0.555556\n",
       "6           5     train  0.753425   0.826087  0.575758\n",
       "7           5  validate  0.684211   0.714286  0.555556"
      ]
     },
     "execution_count": 105,
     "metadata": {},
     "output_type": "execute_result"
    }
   ],
   "source": [
    "metrics = pd.DataFrame(metrics)\n",
    "metrics"
   ]
  },
  {
   "cell_type": "code",
   "execution_count": 106,
   "metadata": {},
   "outputs": [],
   "source": [
    "# Rename the columns\n",
    "metrics.rename(columns={'model_type':'ngram_range'}, inplace=True)"
   ]
  },
  {
   "cell_type": "code",
   "execution_count": 107,
   "metadata": {},
   "outputs": [
    {
     "data": {
      "image/png": "[encoded data removed]",
      "text/plain": [
       "<Figure size 936x504 with 1 Axes>"
      ]
     },
     "metadata": {},
     "output_type": "display_data"
    }
   ],
   "source": [
    "# Scatterplot the accuracy against the min_df \n",
    "\n",
    "sns.scatterplot(data=metrics, x='ngram_range', y='accuracy', hue='data_type')\n",
    "plt.axhline(y=0.54)\n",
    "plt.show()"
   ]
  }
 ],
 "metadata": {
  "kernelspec": {
   "display_name": "Python 3",
   "language": "python",
   "name": "python3"
  },
  "language_info": {
   "codemirror_mode": {
    "name": "ipython",
    "version": 3
   },
   "file_extension": ".py",
   "mimetype": "text/x-python",
   "name": "python",
   "nbconvert_exporter": "python",
   "pygments_lexer": "ipython3",
   "version": "3.7.6"
  }
 },
 "nbformat": 4,
 "nbformat_minor": 4
}
